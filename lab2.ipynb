{
  "cells": [
    {
      "cell_type": "markdown",
      "metadata": {
        "id": "view-in-github",
        "colab_type": "text"
      },
      "source": [
        "<a href=\"https://colab.research.google.com/github/GugaKunkel/DeepLearning/blob/main/DL_Lab2.ipynb\" target=\"_parent\"><img src=\"https://colab.research.google.com/assets/colab-badge.svg\" alt=\"Open In Colab\"/></a>"
      ]
    },
    {
      "cell_type": "markdown",
      "metadata": {
        "id": "ep2DPT3H32s9"
      },
      "source": [
        "<a href=\"https://colab.research.google.com/github/wingated/cs474_labs_f2019/blob/master/Alternate_Labs/DL_Lab2.ipynb\" target=\"_parent\"><img src=\"https://colab.research.google.com/assets/colab-badge.svg\" alt=\"Open In Colab\"/></a>"
      ]
    },
    {
      "cell_type": "markdown",
      "metadata": {
        "id": "view-in-github"
      },
      "source": [
        "# Lab 2: Intro to PyTorch\n",
        "\n",
        "## Deliverable\n",
        "\n",
        "For this lab, you will submit an IPython notebook via Learning Suite.\n",
        "This lab will be mostly boilerplate code, but you will be required to implement a few extras.\n",
        "\n",
        "**NOTE: you almost certainly will not understand most of what's going on in this lab!\n",
        "That's ok - the point is just to get you going with PyTorch.\n",
        "We'll be working on developing a deeper understanding of every part of this code\n",
        "over the course of the next two weeks.**\n",
        "\n",
        "A major goal of this lab is to help you become conversant in working through PyTorch\n",
        "tutorials and documentation.\n",
        "You should turn to the documentation first, but you may google whatever you need, as there are many great PyTorch tutorials online.\n",
        "\n",
        "This notebook will have four parts:\n",
        "\n",
        "* Part 1: Your notebook should contain the boilerplate code. See below.\n",
        "\n",
        "* Part 2: Your notebook should contain a testing loop.\n",
        "\n",
        "* Part 3: Your notebook should contain a visualization of test/training performance over time.\n",
        "\n",
        "The resulting image could, for example, look like this:\n",
        "\n",
        "<img src='https://github.com/wingated/cs474_labs/blob/master/images/lab2_graph.png?raw=true' width=500>\n",
        "\n",
        "* Part 4: Your notebook should contain the completed microtasks and pass all the asserts.\n",
        "\n",
        "See the assigned readings for pointers to documentation on PyTorch.\n",
        "___\n",
        "\n",
        "### Grading standards:\n",
        "Your notebook will be graded on the following:\n",
        "\n",
        "* 40% Successfully followed lab video and typed in code\n",
        "* 20% Modified code to include a test/train split\n",
        "* 20% Modified code to include a visualization of train/test losses\n",
        "* 10% Tidy and legible figures, including labeled axes where appropriate\n",
        "* 10% Correct solutions to the microtasks\n",
        "___\n",
        "\n",
        "### Description\n",
        "Throughout this class, we will be using PyTorch to implement our deep neural networks.\n",
        "PyTorch is a deep learning framework that handles the low-level details of\n",
        "GPU integration and automatic differentiation.\n",
        "\n",
        "The goal of this lab is to help you become familiar with PyTorch.\n",
        "The four parts of the lab are outlined above.\n",
        "\n",
        "For part 1, you should watch the video below, and type in the code as it is explained to you.\n",
        "\n",
        "A more detailed outline of Part 1 is below.\n",
        "\n",
        "For part 2, you must add a validation (or testing) loop using the\n",
        "FashionMNIST dataset with train=False\n",
        "\n",
        "For part 3, you must plot the loss values.\n",
        "\n",
        "For part 4, you must complete the microtasks and pass all asserts.\n",
        "\n",
        "Optional: Demonstrate overfitting on the training data.\n",
        "\n",
        "The easiest way to do this is to limit the size of your training dataset\n",
        "so that it only returns a single batch (i.e. len(dataloader) == batch_size,\n",
        "and train for multiple epochs. For example,\n",
        "I set my batch size to 42, and augmented my dataloader to produce only 42\n",
        "unique items by overwriting the len function to return 42.\n",
        "In my training loop, I performed a validation every epoch which basically corresponded\n",
        "to a validation every step.\n",
        "\n",
        "In practice, you will normally compute your validation loss every n steps,\n",
        "rather than at the end of every epoch. This is because some epochs can take hours,\n",
        "or even days and you don’t often want to wait that long to see your results.\n",
        "\n",
        "Testing your algorithm by using a single batch and training until overfitting\n",
        "is a great way of making sure that your model and optimizer are working the way they should!\n",
        "\n",
        "___\n",
        "\n",
        "### Part 0\n",
        "Watch Tutorial Video\n",
        "\n",
        "[https://youtu.be/E76hLX9WCLE](https://youtu.be/E76hLX9WCLE)\n",
        "\n",
        "**TODO:**\n",
        "\n",
        "**DONE:**\n",
        "* Watch video\n",
        "___\n",
        "\n",
        "### Part 1\n",
        "Your notebook should contain the boilerplate code. See below.\n",
        "\n",
        "**TODO:**\n",
        "\n",
        "**DONE:**\n",
        "* Replicate boilerplate from the video\n",
        "___\n",
        "\n",
        "### Part 2\n",
        "Your notebook should contain a testing (validation) loop.\n",
        "\n",
        "**TODO:**\n",
        "\n",
        "**DONE:**\n",
        "* Add a testing (validation) loop"
      ]
    },
    {
      "cell_type": "code",
      "execution_count": null,
      "metadata": {
        "id": "QClXc9i7VRyA",
        "pycharm": {
          "is_executing": false
        },
        "colab": {
          "base_uri": "https://localhost:8080/"
        },
        "outputId": "84fbfb7b-8da1-43f5-a878-cbfe68f462ac"
      },
      "outputs": [
        {
          "output_type": "stream",
          "name": "stdout",
          "text": [
            "Requirement already satisfied: torch in /usr/local/lib/python3.10/dist-packages (2.1.0+cu121)\n",
            "Requirement already satisfied: filelock in /usr/local/lib/python3.10/dist-packages (from torch) (3.13.1)\n",
            "Requirement already satisfied: typing-extensions in /usr/local/lib/python3.10/dist-packages (from torch) (4.5.0)\n",
            "Requirement already satisfied: sympy in /usr/local/lib/python3.10/dist-packages (from torch) (1.12)\n",
            "Requirement already satisfied: networkx in /usr/local/lib/python3.10/dist-packages (from torch) (3.2.1)\n",
            "Requirement already satisfied: jinja2 in /usr/local/lib/python3.10/dist-packages (from torch) (3.1.3)\n",
            "Requirement already satisfied: fsspec in /usr/local/lib/python3.10/dist-packages (from torch) (2023.6.0)\n",
            "Requirement already satisfied: triton==2.1.0 in /usr/local/lib/python3.10/dist-packages (from torch) (2.1.0)\n",
            "Requirement already satisfied: MarkupSafe>=2.0 in /usr/local/lib/python3.10/dist-packages (from jinja2->torch) (2.1.3)\n",
            "Requirement already satisfied: mpmath>=0.19 in /usr/local/lib/python3.10/dist-packages (from sympy->torch) (1.3.0)\n",
            "Requirement already satisfied: torchvision in /usr/local/lib/python3.10/dist-packages (0.16.0+cu121)\n",
            "Requirement already satisfied: numpy in /usr/local/lib/python3.10/dist-packages (from torchvision) (1.23.5)\n",
            "Requirement already satisfied: requests in /usr/local/lib/python3.10/dist-packages (from torchvision) (2.31.0)\n",
            "Requirement already satisfied: torch==2.1.0 in /usr/local/lib/python3.10/dist-packages (from torchvision) (2.1.0+cu121)\n",
            "Requirement already satisfied: pillow!=8.3.*,>=5.3.0 in /usr/local/lib/python3.10/dist-packages (from torchvision) (9.4.0)\n",
            "Requirement already satisfied: filelock in /usr/local/lib/python3.10/dist-packages (from torch==2.1.0->torchvision) (3.13.1)\n",
            "Requirement already satisfied: typing-extensions in /usr/local/lib/python3.10/dist-packages (from torch==2.1.0->torchvision) (4.5.0)\n",
            "Requirement already satisfied: sympy in /usr/local/lib/python3.10/dist-packages (from torch==2.1.0->torchvision) (1.12)\n",
            "Requirement already satisfied: networkx in /usr/local/lib/python3.10/dist-packages (from torch==2.1.0->torchvision) (3.2.1)\n",
            "Requirement already satisfied: jinja2 in /usr/local/lib/python3.10/dist-packages (from torch==2.1.0->torchvision) (3.1.3)\n",
            "Requirement already satisfied: fsspec in /usr/local/lib/python3.10/dist-packages (from torch==2.1.0->torchvision) (2023.6.0)\n",
            "Requirement already satisfied: triton==2.1.0 in /usr/local/lib/python3.10/dist-packages (from torch==2.1.0->torchvision) (2.1.0)\n",
            "Requirement already satisfied: charset-normalizer<4,>=2 in /usr/local/lib/python3.10/dist-packages (from requests->torchvision) (3.3.2)\n",
            "Requirement already satisfied: idna<4,>=2.5 in /usr/local/lib/python3.10/dist-packages (from requests->torchvision) (3.6)\n",
            "Requirement already satisfied: urllib3<3,>=1.21.1 in /usr/local/lib/python3.10/dist-packages (from requests->torchvision) (2.0.7)\n",
            "Requirement already satisfied: certifi>=2017.4.17 in /usr/local/lib/python3.10/dist-packages (from requests->torchvision) (2023.11.17)\n",
            "Requirement already satisfied: MarkupSafe>=2.0 in /usr/local/lib/python3.10/dist-packages (from jinja2->torch==2.1.0->torchvision) (2.1.3)\n",
            "Requirement already satisfied: mpmath>=0.19 in /usr/local/lib/python3.10/dist-packages (from sympy->torch==2.1.0->torchvision) (1.3.0)\n",
            "Requirement already satisfied: tqdm in /usr/local/lib/python3.10/dist-packages (4.66.1)\n"
          ]
        }
      ],
      "source": [
        "!pip3 install torch\n",
        "!pip3 install torchvision\n",
        "!pip3 install tqdm"
      ]
    },
    {
      "cell_type": "code",
      "execution_count": null,
      "metadata": {
        "id": "OU80yuvqVXwk",
        "pycharm": {
          "is_executing": false
        }
      },
      "outputs": [],
      "source": [
        "import torch\n",
        "import torch.nn as nn\n",
        "import torch.nn.functional as F\n",
        "import torch.optim as optim\n",
        "from torch.utils.data import Dataset, DataLoader\n",
        "import numpy as np\n",
        "import matplotlib.pyplot as plt\n",
        "from torchvision import transforms, utils, datasets\n",
        "from tqdm import tqdm\n",
        "\n",
        "assert torch.cuda.is_available() # You need to request a GPU from Runtime > Change Runtime Type\n",
        "\n",
        "# Write the boilerplate code from the video here\n",
        "\n",
        "# Create a dataset class that extends the torch.utils.data Dataset class here\n",
        "\n",
        "# Extend the torch.Module class to create your own neural network\n",
        "\n",
        "# Instantiate the train and validation sets\n",
        "\n",
        "# Instantiate your data loaders\n",
        "\n",
        "# Instantiate your model and loss and optimizer functions\n",
        "\n",
        "# Run your training / validation loops\n",
        "\n",
        "class LinearNetwork(nn.Module):\n",
        "  def __init__(self, dataset):\n",
        "    super(LinearNetwork, self).__init__()\n",
        "    x, y = dataset[0]\n",
        "    c, h, w = x.size()\n",
        "    out_dim = 10\n",
        "\n",
        "    self.net = nn.Sequential(nn.Linear(c * h * w, 1000),\n",
        "                             nn.ReLU(),\n",
        "                             nn.Linear(1000, out_dim))\n",
        "  def forward(self, x):\n",
        "    n, c, h, w = x.size()\n",
        "    flattened = x.view(n, c * h * w)\n",
        "    return self.net(flattened)\n",
        "\n",
        "class FashionMNISTProcessedDataset(Dataset):\n",
        "  def __init__(self, root, train=True):\n",
        "    self.data = datasets.FashionMNIST(root, train=train,\n",
        "                                      transform=transforms.ToTensor(),\n",
        "                                      download=True)\n",
        "  def __getitem__(self, i):\n",
        "    x, y = self.data[i]\n",
        "    return x, y\n",
        "  def __len__(self):\n",
        "    return len(self.data)\n"
      ]
    },
    {
      "cell_type": "code",
      "source": [
        "train_dataset = FashionMNISTProcessedDataset('/tmp/fashionmnist', train=True)\n",
        "val_dataset = FashionMNISTProcessedDataset('/tmp/fashionmnist', train=False)\n",
        "model = LinearNetwork(train_dataset)\n",
        "model = model.cuda()\n",
        "\n",
        "train_loader = DataLoader(train_dataset, batch_size = 42, pin_memory=True)\n",
        "validation_loader = DataLoader(val_dataset, batch_size = 42)\n",
        "\n",
        "# Takes the steps you give it and will make the changes to the model\n",
        "# Pass in the parameters and learning rate (lr)\n",
        "optimizer = optim.SGD(model.parameters(), lr=1e-4)\n",
        "objective = torch.nn.CrossEntropyLoss();\n",
        "train_losses = []\n",
        "validation_losses = []\n",
        "num_epochs = 100\n",
        "loop = tqdm(total=len(train_loader) * num_epochs, position = 0)\n",
        "\n",
        "for epoch in range(num_epochs):\n",
        "  # Train the model\n",
        "  batch = 0\n",
        "  for x, y_truth in train_loader:\n",
        "    # Puts the variables onto the GPU\n",
        "    x, y_truth = x.cuda(), y_truth.cuda()\n",
        "\n",
        "    # Zeros out the gradient (Could do this every iteration or every couple of iterations)\n",
        "    optimizer.zero_grad()\n",
        "\n",
        "    # Prediction we made\n",
        "    y_hat = model(x)\n",
        "\n",
        "    # Determine how good or bad our guess was based on the model\n",
        "    loss = objective(y_hat, y_truth)\n",
        "\n",
        "    if epoch % 5 == 0 and batch == 0:\n",
        "      train_losses.append(loss.item())\n",
        "      validation_loss_list = []\n",
        "      for val_x, val_y_truth, in validation_loader:\n",
        "        val_x, val_y_truth = val_x.cuda(), val_y_truth.cuda()\n",
        "        val_y_hat = model(val_x)\n",
        "        validation_loss_list.append(objective(val_y_hat, val_y_truth).item())\n",
        "      validation_losses.append((sum(validation_loss_list) / float(len(validation_loss_list))))\n",
        "\n",
        "    loop.set_description(f'epoch:{epoch} batch:{batch} loss:{loss.item():.4f} val_loss:{validation_losses[-1]:.4f}')\n",
        "    # Compute the gradient via backtracking\n",
        "    loss.backward()\n",
        "\n",
        "    # Take next step based on the gradient ()\n",
        "    optimizer.step()\n",
        "\n",
        "    batch += 1\n",
        "loop.close()"
      ],
      "metadata": {
        "colab": {
          "base_uri": "https://localhost:8080/"
        },
        "id": "jdsAhdHoTFL2",
        "outputId": "e5f4e375-2288-46ff-f944-c1956e45c495"
      },
      "execution_count": null,
      "outputs": [
        {
          "output_type": "stream",
          "name": "stderr",
          "text": [
            "epoch:99 batch:1428 loss:0.6563 val_loss:0.6470:   0%|          | 0/142900 [22:19<?, ?it/s]\n"
          ]
        }
      ]
    },
    {
      "cell_type": "markdown",
      "metadata": {
        "id": "_IZmHOvirnFn"
      },
      "source": [
        "\n",
        "___\n",
        "\n",
        "### Part 3\n",
        "Your notebook should contain a visualization of test/training\n",
        "performance over time. Use matplotlib.pyplot, and label the graph's axes.\n",
        "\n",
        "**TODO:**\n",
        "\n",
        "**DONE:**\n",
        "* Add a visualization of test/train performance (i.e. loss) over time."
      ]
    },
    {
      "cell_type": "code",
      "execution_count": null,
      "metadata": {
        "id": "YqYrbI5-WHb3",
        "pycharm": {
          "is_executing": false
        },
        "colab": {
          "base_uri": "https://localhost:8080/",
          "height": 430
        },
        "outputId": "f9858d7b-126f-4983-f29d-2f4e496e390b"
      },
      "outputs": [
        {
          "output_type": "display_data",
          "data": {
            "text/plain": [
              "<Figure size 640x480 with 1 Axes>"
            ],
            "image/png": "[encoded data removed]"
          },
          "metadata": {}
        }
      ],
      "source": [
        "# Write your code to create a plot of your loss over time\n",
        "fig = plt.figure()\n",
        "ax = fig.add_subplot(111)\n",
        "ax.plot(range(len(validation_losses)), validation_losses, label=\"Validation Loss\")\n",
        "ax.plot(range(len(train_losses)), train_losses, label=\"Training Loss\")\n",
        "plt.legend()\n",
        "plt.show()"
      ]
    },
    {
      "cell_type": "markdown",
      "metadata": {
        "id": "0wW4QNYG4LE2"
      },
      "source": [
        "\n",
        "___\n",
        "\n",
        "### Part 4\n",
        "Complete the following microtasks to learn some important PyTorch skills.\n",
        "\n",
        "If you do not know how to complete one of the microtasks, use [PyTorch's documentation](https://pytorch.org/docs/stable/index.html)! PyTorch is very well documented, and you will need to learn how to use the documentation, especially in later labs.\n",
        "\n",
        "**TODO:**\n",
        "* Complete microtasks\n",
        "\n",
        "**DONE:**"
      ]
    },
    {
      "cell_type": "markdown",
      "metadata": {
        "id": "rqP3-EzkM6JA"
      },
      "source": [
        "### Computation Graph Microtasks"
      ]
    },
    {
      "cell_type": "code",
      "execution_count": null,
      "metadata": {
        "id": "QfBxNHJlM6JA",
        "colab": {
          "base_uri": "https://localhost:8080/"
        },
        "outputId": "14f9e12e-8799-4083-fefb-71592c75927a"
      },
      "outputs": [
        {
          "output_type": "stream",
          "name": "stdout",
          "text": [
            "tensor([0.1893, 0.0242, 0.7511, 0.1561, 0.3466, 0.5736, 0.5051, 0.8097, 0.8816,\n",
            "        0.6158])\n"
          ]
        }
      ],
      "source": [
        "# To understand how PyTorch organizes the computation graph, let's walk through\n",
        "# a quick example!\n",
        "\n",
        "# 1. First, construct a tensor 'a' that contains 10 random floats.\n",
        "# This will simulate the output layer of a network. Hint: use `torch.rand`.\n",
        "a = torch.rand(10)\n",
        "print(a)\n",
        "assert a.size() == torch.Size([10])"
      ]
    },
    {
      "cell_type": "code",
      "execution_count": null,
      "metadata": {
        "id": "cvTrB9FXM6JB",
        "colab": {
          "base_uri": "https://localhost:8080/"
        },
        "outputId": "83d234fa-089e-41cb-e64d-d2f31827c7f8"
      },
      "outputs": [
        {
          "output_type": "stream",
          "name": "stdout",
          "text": [
            "Parameter containing:\n",
            "tensor([0.1893, 0.0242, 0.7511, 0.1561, 0.3466, 0.5736, 0.5051, 0.8097, 0.8816,\n",
            "        0.6158], requires_grad=True)\n"
          ]
        }
      ],
      "source": [
        "# 2. Now turn 'a' into an `nn.Parameter` so that it be attached to the computation\n",
        "# graph.\n",
        "a = nn.Parameter(a)\n",
        "print(a)\n",
        "assert type(a) == nn.Parameter\n",
        "\n",
        "# Notice that our original tensor 'a' is nested inside of a Parameter object.\n",
        "# The Parameter object knows that it will need to compute gradients at some point.\n",
        "\n",
        "# No need to do anything here, but this assert should pass.\n",
        "assert a.requires_grad == True"
      ]
    },
    {
      "cell_type": "code",
      "execution_count": null,
      "metadata": {
        "id": "GBxadeh0M6JB",
        "colab": {
          "base_uri": "https://localhost:8080/"
        },
        "outputId": "f20ef8d6-0893-4367-cc50-60a29888d7de"
      },
      "outputs": [
        {
          "output_type": "stream",
          "name": "stdout",
          "text": [
            "tensor(2.0164, grad_fn=<NllLossBackward0>)\n",
            "tensor([ 0.0716,  0.0607,  0.1255,  0.0693,  0.0838,  0.1051,  0.0982, -0.8669,\n",
            "         0.1430,  0.1097])\n"
          ]
        }
      ],
      "source": [
        "# 3. Let's run 'a' through a loss function. The output of the loss function is\n",
        "# just another tensor, but this tensor remembers what operations produced it.\n",
        "loss_fn = nn.CrossEntropyLoss()\n",
        "loss = loss_fn(a.unsqueeze(0), torch.Tensor([7]).long())\n",
        "print(loss)\n",
        "\n",
        "# Now, instruct the network to do a backward pass, by calling '.backward()' on the\n",
        "# result of the loss function. We should now be able to see the gradients that\n",
        "# were computed for 'a' w.r.t. the loss.\n",
        "loss.backward()\n",
        "\n",
        "assert a.grad is not None\n",
        "print(a.grad)"
      ]
    },
    {
      "cell_type": "code",
      "execution_count": null,
      "metadata": {
        "id": "8EtD-I1XM6JB",
        "colab": {
          "base_uri": "https://localhost:8080/"
        },
        "outputId": "2910a4c5-d6cf-46ac-83eb-5afaf4095cf5"
      },
      "outputs": [
        {
          "output_type": "stream",
          "name": "stdout",
          "text": [
            "Parameter containing:\n",
            "tensor([0.1893, 0.0242, 0.7511, 0.1561, 0.3466, 0.5736, 0.5051, 0.8097, 0.8816,\n",
            "        0.6158], requires_grad=True)\n",
            "tensor([0.1893, 0.0242, 0.7511, 0.1561, 0.3466, 0.5736, 0.5051, 0.8097, 0.8816,\n",
            "        0.6158])\n"
          ]
        }
      ],
      "source": [
        "# 4. If we were to use 'a' in another operation, this might affect the computation graph.\n",
        "# To make sure that you are not adversly affecting the computation graph, call\n",
        "# `.detach()` on 'a' and assign the result to a new variable 'b'.\n",
        "b = a.detach()\n",
        "print(a)\n",
        "print(b)\n",
        "assert a.requires_grad == True\n",
        "assert b.requires_grad == False"
      ]
    }
  ],
  "metadata": {
    "accelerator": "GPU",
    "colab": {
      "provenance": [],
      "gpuType": "T4",
      "include_colab_link": true
    },
    "kernelspec": {
      "display_name": "Python 3",
      "name": "python3"
    },
    "language_info": {
      "codemirror_mode": {
        "name": "ipython",
        "version": 3
      },
      "file_extension": ".py",
      "mimetype": "text/x-python",
      "name": "python",
      "nbconvert_exporter": "python",
      "pygments_lexer": "ipython3",
      "version": "3.7.1"
    },
    "pycharm": {
      "stem_cell": {
        "cell_type": "raw",
        "metadata": {
          "collapsed": false
        },
        "source": []
      }
    }
  },
  "nbformat": 4,
  "nbformat_minor": 0
}
