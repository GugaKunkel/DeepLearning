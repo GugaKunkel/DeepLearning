{
  "cells": [
    {
      "cell_type": "markdown",
      "metadata": {
        "id": "w-jFCArcTC-B"
      },
      "source": [
        "<a\n",
        "href=\"https://colab.research.google.com/github/wingated/cs474_labs_f2019/blob/master/DL_Lab9.ipynb\"\n",
        "  target=\"_parent\">\n",
        "  <img\n",
        "    src=\"https://colab.research.google.com/assets/colab-badge.svg\"\n",
        "    alt=\"Open In Colab\"/>\n",
        "</a>"
      ]
    },
    {
      "cell_type": "markdown",
      "metadata": {
        "id": "sl7hEuB3J4k3"
      },
      "source": [
        "# Lab 10: Deep Reinforcement Learning\n",
        "\n",
        "## Objective\n",
        "\n",
        "- Build DQN and PPO Deep RL algorithms\n",
        "- Learn the difference between Q Learning and Policy Gradient techniques\n",
        "\n",
        "## Deliverable\n",
        "\n",
        "For this lab you will submit an ipython notebook via learning suite. This lab gives you a lot of code, and you should only need to modify two of the cells of this notebook. Feel free to download and modify this notebook or create your own. The below code is given for your convinience. You can modify any of the given code if you wish.\n",
        "\n",
        "## Tips\n",
        "\n",
        "Deep reinforcement learning is difficult. We provide hyperparameters, visualizations, and code for gathering experience, but require you to code up algorithms for training your networks.\n",
        "\n",
        "- Your networks should be able to demonstrate learning on cartpole within a minute of wall time.\n",
        "\n",
        "- Understand what your the starter code is doing. This will help you with the *TODO* sections. The main code block is similar for the two algorithms with some small yet important differences.\n",
        "\n",
        "- We provide hyperparameters for you to start with. Feel free to experiment with different values, but these worked for us.\n",
        "\n",
        "- **Print dtypes and shapes** throughout your code to make sure your tensors look the way you expect.\n",
        "\n",
        "- The DQN algorithm is significantly more unstable than PPO. Even with a correct implementation it may fail to learn every 1/10 times.\n",
        "\n",
        "- Unfortunately visualizing your agent acting in the environment is non-trivial in Colab. You can visualize your agent by running this code locally and uncommenting the `env.render()` line.\n",
        "\n",
        "## Grading\n",
        "\n",
        "- 40% Part 1: DQN *TODO* methods\n",
        "- 40% Part 2: PPO *TODO* methods\n",
        "- 20% Cartpole learning curves\n",
        "\n",
        "\n",
        "### Cartpole\n",
        "\n",
        "Cartpole is a simple environment to get your agent up and running. It has a continuous state space of 4 dimensions and a discrete action space of 2. The agent is given a reward of 1 for each timestep it remains standing. Your agent should be able to reach close to 200 cumulative reward for an episode after a minute or two of training. The below graphs show example results for dqn (left) and ppo (right).\n",
        "\n",
        "![alt text](https://github.com/wingated/cs474_labs/blob/master/images/dqn.png?raw=true)\n",
        "![alt text](https://github.com/wingated/cs474_labs/blob/master/images/ppo.png?raw=true)\n",
        "\n",
        "### TODO\n",
        "\n",
        "- Train DQN and PPO on cartpole\n",
        "- Display learning curves with average episodic reward per epoch"
      ]
    },
    {
      "cell_type": "markdown",
      "metadata": {
        "id": "gVWokqnVab6O"
      },
      "source": [
        "# Starter Code"
      ]
    },
    {
      "cell_type": "markdown",
      "metadata": {
        "id": "WhaPOG6xt0yn"
      },
      "source": [
        "## Init"
      ]
    },
    {
      "cell_type": "code",
      "execution_count": 1,
      "metadata": {
        "id": "EyykNyRM1Tf3",
        "colab": {
          "base_uri": "https://localhost:8080/"
        },
        "outputId": "44eb0675-85ae-431e-f647-62a441e07d4d"
      },
      "outputs": [
        {
          "output_type": "stream",
          "name": "stdout",
          "text": [
            "Collecting gymnasium\n",
            "  Downloading gymnasium-0.29.1-py3-none-any.whl (953 kB)\n",
            "\u001b[2K     \u001b[90m━━━━━━━━━━━━━━━━━━━━━━━━━━━━━━━━━━━━━━━━\u001b[0m \u001b[32m953.9/953.9 kB\u001b[0m \u001b[31m6.4 MB/s\u001b[0m eta \u001b[36m0:00:00\u001b[0m\n",
            "\u001b[?25hRequirement already satisfied: numpy>=1.21.0 in /usr/local/lib/python3.10/dist-packages (from gymnasium) (1.25.2)\n",
            "Requirement already satisfied: cloudpickle>=1.2.0 in /usr/local/lib/python3.10/dist-packages (from gymnasium) (2.2.1)\n",
            "Requirement already satisfied: typing-extensions>=4.3.0 in /usr/local/lib/python3.10/dist-packages (from gymnasium) (4.10.0)\n",
            "Collecting farama-notifications>=0.0.1 (from gymnasium)\n",
            "  Downloading Farama_Notifications-0.0.4-py3-none-any.whl (2.5 kB)\n",
            "Installing collected packages: farama-notifications, gymnasium\n",
            "Successfully installed farama-notifications-0.0.4 gymnasium-0.29.1\n",
            "Requirement already satisfied: torch in /usr/local/lib/python3.10/dist-packages (2.2.1+cu121)\n",
            "Requirement already satisfied: filelock in /usr/local/lib/python3.10/dist-packages (from torch) (3.13.3)\n",
            "Requirement already satisfied: typing-extensions>=4.8.0 in /usr/local/lib/python3.10/dist-packages (from torch) (4.10.0)\n",
            "Requirement already satisfied: sympy in /usr/local/lib/python3.10/dist-packages (from torch) (1.12)\n",
            "Requirement already satisfied: networkx in /usr/local/lib/python3.10/dist-packages (from torch) (3.2.1)\n",
            "Requirement already satisfied: jinja2 in /usr/local/lib/python3.10/dist-packages (from torch) (3.1.3)\n",
            "Requirement already satisfied: fsspec in /usr/local/lib/python3.10/dist-packages (from torch) (2023.6.0)\n",
            "Collecting nvidia-cuda-nvrtc-cu12==12.1.105 (from torch)\n",
            "  Downloading nvidia_cuda_nvrtc_cu12-12.1.105-py3-none-manylinux1_x86_64.whl (23.7 MB)\n",
            "\u001b[2K     \u001b[90m━━━━━━━━━━━━━━━━━━━━━━━━━━━━━━━━━━━━━━━━\u001b[0m \u001b[32m23.7/23.7 MB\u001b[0m \u001b[31m56.0 MB/s\u001b[0m eta \u001b[36m0:00:00\u001b[0m\n",
            "\u001b[?25hCollecting nvidia-cuda-runtime-cu12==12.1.105 (from torch)\n",
            "  Downloading nvidia_cuda_runtime_cu12-12.1.105-py3-none-manylinux1_x86_64.whl (823 kB)\n",
            "\u001b[2K     \u001b[90m━━━━━━━━━━━━━━━━━━━━━━━━━━━━━━━━━━━━━━━━\u001b[0m \u001b[32m823.6/823.6 kB\u001b[0m \u001b[31m45.2 MB/s\u001b[0m eta \u001b[36m0:00:00\u001b[0m\n",
            "\u001b[?25hCollecting nvidia-cuda-cupti-cu12==12.1.105 (from torch)\n",
            "  Downloading nvidia_cuda_cupti_cu12-12.1.105-py3-none-manylinux1_x86_64.whl (14.1 MB)\n",
            "\u001b[2K     \u001b[90m━━━━━━━━━━━━━━━━━━━━━━━━━━━━━━━━━━━━━━━━\u001b[0m \u001b[32m14.1/14.1 MB\u001b[0m \u001b[31m87.2 MB/s\u001b[0m eta \u001b[36m0:00:00\u001b[0m\n",
            "\u001b[?25hCollecting nvidia-cudnn-cu12==8.9.2.26 (from torch)\n",
            "  Downloading nvidia_cudnn_cu12-8.9.2.26-py3-none-manylinux1_x86_64.whl (731.7 MB)\n",
            "\u001b[2K     \u001b[90m━━━━━━━━━━━━━━━━━━━━━━━━━━━━━━━━━━━━━━━━\u001b[0m \u001b[32m731.7/731.7 MB\u001b[0m \u001b[31m1.1 MB/s\u001b[0m eta \u001b[36m0:00:00\u001b[0m\n",
            "\u001b[?25hCollecting nvidia-cublas-cu12==12.1.3.1 (from torch)\n",
            "  Downloading nvidia_cublas_cu12-12.1.3.1-py3-none-manylinux1_x86_64.whl (410.6 MB)\n",
            "\u001b[2K     \u001b[90m━━━━━━━━━━━━━━━━━━━━━━━━━━━━━━━━━━━━━━━━\u001b[0m \u001b[32m410.6/410.6 MB\u001b[0m \u001b[31m2.0 MB/s\u001b[0m eta \u001b[36m0:00:00\u001b[0m\n",
            "\u001b[?25hCollecting nvidia-cufft-cu12==11.0.2.54 (from torch)\n",
            "  Downloading nvidia_cufft_cu12-11.0.2.54-py3-none-manylinux1_x86_64.whl (121.6 MB)\n",
            "\u001b[2K     \u001b[90m━━━━━━━━━━━━━━━━━━━━━━━━━━━━━━━━━━━━━━━━\u001b[0m \u001b[32m121.6/121.6 MB\u001b[0m \u001b[31m8.1 MB/s\u001b[0m eta \u001b[36m0:00:00\u001b[0m\n",
            "\u001b[?25hCollecting nvidia-curand-cu12==10.3.2.106 (from torch)\n",
            "  Downloading nvidia_curand_cu12-10.3.2.106-py3-none-manylinux1_x86_64.whl (56.5 MB)\n",
            "\u001b[2K     \u001b[90m━━━━━━━━━━━━━━━━━━━━━━━━━━━━━━━━━━━━━━━━\u001b[0m \u001b[32m56.5/56.5 MB\u001b[0m \u001b[31m11.9 MB/s\u001b[0m eta \u001b[36m0:00:00\u001b[0m\n",
            "\u001b[?25hCollecting nvidia-cusolver-cu12==11.4.5.107 (from torch)\n",
            "  Downloading nvidia_cusolver_cu12-11.4.5.107-py3-none-manylinux1_x86_64.whl (124.2 MB)\n",
            "\u001b[2K     \u001b[90m━━━━━━━━━━━━━━━━━━━━━━━━━━━━━━━━━━━━━━━━\u001b[0m \u001b[32m124.2/124.2 MB\u001b[0m \u001b[31m8.3 MB/s\u001b[0m eta \u001b[36m0:00:00\u001b[0m\n",
            "\u001b[?25hCollecting nvidia-cusparse-cu12==12.1.0.106 (from torch)\n",
            "  Downloading nvidia_cusparse_cu12-12.1.0.106-py3-none-manylinux1_x86_64.whl (196.0 MB)\n",
            "\u001b[2K     \u001b[90m━━━━━━━━━━━━━━━━━━━━━━━━━━━━━━━━━━━━━━━━\u001b[0m \u001b[32m196.0/196.0 MB\u001b[0m \u001b[31m6.7 MB/s\u001b[0m eta \u001b[36m0:00:00\u001b[0m\n",
            "\u001b[?25hCollecting nvidia-nccl-cu12==2.19.3 (from torch)\n",
            "  Downloading nvidia_nccl_cu12-2.19.3-py3-none-manylinux1_x86_64.whl (166.0 MB)\n",
            "\u001b[2K     \u001b[90m━━━━━━━━━━━━━━━━━━━━━━━━━━━━━━━━━━━━━━━━\u001b[0m \u001b[32m166.0/166.0 MB\u001b[0m \u001b[31m7.4 MB/s\u001b[0m eta \u001b[36m0:00:00\u001b[0m\n",
            "\u001b[?25hCollecting nvidia-nvtx-cu12==12.1.105 (from torch)\n",
            "  Downloading nvidia_nvtx_cu12-12.1.105-py3-none-manylinux1_x86_64.whl (99 kB)\n",
            "\u001b[2K     \u001b[90m━━━━━━━━━━━━━━━━━━━━━━━━━━━━━━━━━━━━━━━━\u001b[0m \u001b[32m99.1/99.1 kB\u001b[0m \u001b[31m13.3 MB/s\u001b[0m eta \u001b[36m0:00:00\u001b[0m\n",
            "\u001b[?25hRequirement already satisfied: triton==2.2.0 in /usr/local/lib/python3.10/dist-packages (from torch) (2.2.0)\n",
            "Collecting nvidia-nvjitlink-cu12 (from nvidia-cusolver-cu12==11.4.5.107->torch)\n",
            "  Downloading nvidia_nvjitlink_cu12-12.4.99-py3-none-manylinux2014_x86_64.whl (21.1 MB)\n",
            "\u001b[2K     \u001b[90m━━━━━━━━━━━━━━━━━━━━━━━━━━━━━━━━━━━━━━━━\u001b[0m \u001b[32m21.1/21.1 MB\u001b[0m \u001b[31m54.0 MB/s\u001b[0m eta \u001b[36m0:00:00\u001b[0m\n",
            "\u001b[?25hRequirement already satisfied: MarkupSafe>=2.0 in /usr/local/lib/python3.10/dist-packages (from jinja2->torch) (2.1.5)\n",
            "Requirement already satisfied: mpmath>=0.19 in /usr/local/lib/python3.10/dist-packages (from sympy->torch) (1.3.0)\n",
            "Installing collected packages: nvidia-nvtx-cu12, nvidia-nvjitlink-cu12, nvidia-nccl-cu12, nvidia-curand-cu12, nvidia-cufft-cu12, nvidia-cuda-runtime-cu12, nvidia-cuda-nvrtc-cu12, nvidia-cuda-cupti-cu12, nvidia-cublas-cu12, nvidia-cusparse-cu12, nvidia-cudnn-cu12, nvidia-cusolver-cu12\n",
            "Successfully installed nvidia-cublas-cu12-12.1.3.1 nvidia-cuda-cupti-cu12-12.1.105 nvidia-cuda-nvrtc-cu12-12.1.105 nvidia-cuda-runtime-cu12-12.1.105 nvidia-cudnn-cu12-8.9.2.26 nvidia-cufft-cu12-11.0.2.54 nvidia-curand-cu12-10.3.2.106 nvidia-cusolver-cu12-11.4.5.107 nvidia-cusparse-cu12-12.1.0.106 nvidia-nccl-cu12-2.19.3 nvidia-nvjitlink-cu12-12.4.99 nvidia-nvtx-cu12-12.1.105\n",
            "Requirement already satisfied: pygame in /usr/local/lib/python3.10/dist-packages (2.5.2)\n",
            "Requirement already satisfied: moviepy==1.0.3 in /usr/local/lib/python3.10/dist-packages (1.0.3)\n",
            "Requirement already satisfied: decorator<5.0,>=4.0.2 in /usr/local/lib/python3.10/dist-packages (from moviepy==1.0.3) (4.4.2)\n",
            "Requirement already satisfied: tqdm<5.0,>=4.11.2 in /usr/local/lib/python3.10/dist-packages (from moviepy==1.0.3) (4.66.2)\n",
            "Requirement already satisfied: requests<3.0,>=2.8.1 in /usr/local/lib/python3.10/dist-packages (from moviepy==1.0.3) (2.31.0)\n",
            "Requirement already satisfied: proglog<=1.0.0 in /usr/local/lib/python3.10/dist-packages (from moviepy==1.0.3) (0.1.10)\n",
            "Requirement already satisfied: numpy>=1.17.3 in /usr/local/lib/python3.10/dist-packages (from moviepy==1.0.3) (1.25.2)\n",
            "Requirement already satisfied: imageio<3.0,>=2.5 in /usr/local/lib/python3.10/dist-packages (from moviepy==1.0.3) (2.31.6)\n",
            "Requirement already satisfied: imageio-ffmpeg>=0.2.0 in /usr/local/lib/python3.10/dist-packages (from moviepy==1.0.3) (0.4.9)\n",
            "Requirement already satisfied: pillow<10.1.0,>=8.3.2 in /usr/local/lib/python3.10/dist-packages (from imageio<3.0,>=2.5->moviepy==1.0.3) (9.4.0)\n",
            "Requirement already satisfied: setuptools in /usr/local/lib/python3.10/dist-packages (from imageio-ffmpeg>=0.2.0->moviepy==1.0.3) (67.7.2)\n",
            "Requirement already satisfied: charset-normalizer<4,>=2 in /usr/local/lib/python3.10/dist-packages (from requests<3.0,>=2.8.1->moviepy==1.0.3) (3.3.2)\n",
            "Requirement already satisfied: idna<4,>=2.5 in /usr/local/lib/python3.10/dist-packages (from requests<3.0,>=2.8.1->moviepy==1.0.3) (3.6)\n",
            "Requirement already satisfied: urllib3<3,>=1.21.1 in /usr/local/lib/python3.10/dist-packages (from requests<3.0,>=2.8.1->moviepy==1.0.3) (2.0.7)\n",
            "Requirement already satisfied: certifi>=2017.4.17 in /usr/local/lib/python3.10/dist-packages (from requests<3.0,>=2.8.1->moviepy==1.0.3) (2024.2.2)\n",
            "Requirement already satisfied: imageio_ffmpeg in /usr/local/lib/python3.10/dist-packages (0.4.9)\n",
            "Requirement already satisfied: setuptools in /usr/local/lib/python3.10/dist-packages (from imageio_ffmpeg) (67.7.2)\n",
            "Collecting pyvirtualdisplay\n",
            "  Downloading PyVirtualDisplay-3.0-py3-none-any.whl (15 kB)\n",
            "Installing collected packages: pyvirtualdisplay\n",
            "Successfully installed pyvirtualdisplay-3.0\n",
            "Reading package lists... Done\n",
            "Building dependency tree... Done\n",
            "Reading state information... Done\n",
            "ffmpeg is already the newest version (7:4.4.2-0ubuntu0.22.04.1).\n",
            "The following additional packages will be installed:\n",
            "  freeglut3 libfontenc1 libglu1-mesa libxfont2 libxkbfile1 x11-xkb-utils xfonts-base\n",
            "  xfonts-encodings xfonts-utils xserver-common\n",
            "Suggested packages:\n",
            "  libgle3 python3-numpy\n",
            "The following NEW packages will be installed:\n",
            "  freeglut3 libfontenc1 libglu1-mesa libxfont2 libxkbfile1 python3-opengl x11-xkb-utils xfonts-base\n",
            "  xfonts-encodings xfonts-utils xserver-common xvfb\n",
            "0 upgraded, 12 newly installed, 0 to remove and 45 not upgraded.\n",
            "Need to get 8,638 kB of archives.\n",
            "After this operation, 20.0 MB of additional disk space will be used.\n",
            "Get:1 http://archive.ubuntu.com/ubuntu jammy/universe amd64 freeglut3 amd64 2.8.1-6 [74.0 kB]\n",
            "Get:2 http://archive.ubuntu.com/ubuntu jammy/main amd64 libfontenc1 amd64 1:1.1.4-1build3 [14.7 kB]\n",
            "Get:3 http://archive.ubuntu.com/ubuntu jammy/main amd64 libxfont2 amd64 1:2.0.5-1build1 [94.5 kB]\n",
            "Get:4 http://archive.ubuntu.com/ubuntu jammy/main amd64 libxkbfile1 amd64 1:1.1.0-1build3 [71.8 kB]\n",
            "Get:5 http://archive.ubuntu.com/ubuntu jammy/main amd64 libglu1-mesa amd64 9.0.2-1 [145 kB]\n",
            "Get:6 http://archive.ubuntu.com/ubuntu jammy/universe amd64 python3-opengl all 3.1.5+dfsg-1 [605 kB]\n",
            "Get:7 http://archive.ubuntu.com/ubuntu jammy/main amd64 x11-xkb-utils amd64 7.7+5build4 [172 kB]\n",
            "Get:8 http://archive.ubuntu.com/ubuntu jammy/main amd64 xfonts-encodings all 1:1.0.5-0ubuntu2 [578 kB]\n",
            "Get:9 http://archive.ubuntu.com/ubuntu jammy/main amd64 xfonts-utils amd64 1:7.7+6build2 [94.6 kB]\n",
            "Get:10 http://archive.ubuntu.com/ubuntu jammy/main amd64 xfonts-base all 1:1.0.5 [5,896 kB]\n",
            "Get:11 http://archive.ubuntu.com/ubuntu jammy-updates/main amd64 xserver-common all 2:21.1.4-2ubuntu1.7~22.04.8 [28.6 kB]\n",
            "Get:12 http://archive.ubuntu.com/ubuntu jammy-updates/universe amd64 xvfb amd64 2:21.1.4-2ubuntu1.7~22.04.8 [863 kB]\n",
            "Fetched 8,638 kB in 1s (10.1 MB/s)\n",
            "Selecting previously unselected package freeglut3:amd64.\n",
            "(Reading database ... 121753 files and directories currently installed.)\n",
            "Preparing to unpack .../00-freeglut3_2.8.1-6_amd64.deb ...\n",
            "Unpacking freeglut3:amd64 (2.8.1-6) ...\n",
            "Selecting previously unselected package libfontenc1:amd64.\n",
            "Preparing to unpack .../01-libfontenc1_1%3a1.1.4-1build3_amd64.deb ...\n",
            "Unpacking libfontenc1:amd64 (1:1.1.4-1build3) ...\n",
            "Selecting previously unselected package libxfont2:amd64.\n",
            "Preparing to unpack .../02-libxfont2_1%3a2.0.5-1build1_amd64.deb ...\n",
            "Unpacking libxfont2:amd64 (1:2.0.5-1build1) ...\n",
            "Selecting previously unselected package libxkbfile1:amd64.\n",
            "Preparing to unpack .../03-libxkbfile1_1%3a1.1.0-1build3_amd64.deb ...\n",
            "Unpacking libxkbfile1:amd64 (1:1.1.0-1build3) ...\n",
            "Selecting previously unselected package libglu1-mesa:amd64.\n",
            "Preparing to unpack .../04-libglu1-mesa_9.0.2-1_amd64.deb ...\n",
            "Unpacking libglu1-mesa:amd64 (9.0.2-1) ...\n",
            "Selecting previously unselected package python3-opengl.\n",
            "Preparing to unpack .../05-python3-opengl_3.1.5+dfsg-1_all.deb ...\n",
            "Unpacking python3-opengl (3.1.5+dfsg-1) ...\n",
            "Selecting previously unselected package x11-xkb-utils.\n",
            "Preparing to unpack .../06-x11-xkb-utils_7.7+5build4_amd64.deb ...\n",
            "Unpacking x11-xkb-utils (7.7+5build4) ...\n",
            "Selecting previously unselected package xfonts-encodings.\n",
            "Preparing to unpack .../07-xfonts-encodings_1%3a1.0.5-0ubuntu2_all.deb ...\n",
            "Unpacking xfonts-encodings (1:1.0.5-0ubuntu2) ...\n",
            "Selecting previously unselected package xfonts-utils.\n",
            "Preparing to unpack .../08-xfonts-utils_1%3a7.7+6build2_amd64.deb ...\n",
            "Unpacking xfonts-utils (1:7.7+6build2) ...\n",
            "Selecting previously unselected package xfonts-base.\n",
            "Preparing to unpack .../09-xfonts-base_1%3a1.0.5_all.deb ...\n",
            "Unpacking xfonts-base (1:1.0.5) ...\n",
            "Selecting previously unselected package xserver-common.\n",
            "Preparing to unpack .../10-xserver-common_2%3a21.1.4-2ubuntu1.7~22.04.8_all.deb ...\n",
            "Unpacking xserver-common (2:21.1.4-2ubuntu1.7~22.04.8) ...\n",
            "Selecting previously unselected package xvfb.\n",
            "Preparing to unpack .../11-xvfb_2%3a21.1.4-2ubuntu1.7~22.04.8_amd64.deb ...\n",
            "Unpacking xvfb (2:21.1.4-2ubuntu1.7~22.04.8) ...\n",
            "Setting up freeglut3:amd64 (2.8.1-6) ...\n",
            "Setting up libfontenc1:amd64 (1:1.1.4-1build3) ...\n",
            "Setting up xfonts-encodings (1:1.0.5-0ubuntu2) ...\n",
            "Setting up libglu1-mesa:amd64 (9.0.2-1) ...\n",
            "Setting up libxkbfile1:amd64 (1:1.1.0-1build3) ...\n",
            "Setting up libxfont2:amd64 (1:2.0.5-1build1) ...\n",
            "Setting up x11-xkb-utils (7.7+5build4) ...\n",
            "Setting up python3-opengl (3.1.5+dfsg-1) ...\n",
            "Setting up xfonts-utils (1:7.7+6build2) ...\n",
            "Setting up xfonts-base (1:1.0.5) ...\n",
            "Setting up xserver-common (2:21.1.4-2ubuntu1.7~22.04.8) ...\n",
            "Setting up xvfb (2:21.1.4-2ubuntu1.7~22.04.8) ...\n",
            "Processing triggers for man-db (2.10.2-1) ...\n",
            "Processing triggers for fontconfig (2.13.1-4.2ubuntu5) ...\n",
            "Processing triggers for libc-bin (2.35-0ubuntu3.4) ...\n",
            "/sbin/ldconfig.real: /usr/local/lib/libtbbbind_2_5.so.3 is not a symbolic link\n",
            "\n",
            "/sbin/ldconfig.real: /usr/local/lib/libtbbbind.so.3 is not a symbolic link\n",
            "\n",
            "/sbin/ldconfig.real: /usr/local/lib/libtbbmalloc_proxy.so.2 is not a symbolic link\n",
            "\n",
            "/sbin/ldconfig.real: /usr/local/lib/libtbbmalloc.so.2 is not a symbolic link\n",
            "\n",
            "/sbin/ldconfig.real: /usr/local/lib/libtbb.so.12 is not a symbolic link\n",
            "\n",
            "/sbin/ldconfig.real: /usr/local/lib/libtbbbind_2_0.so.3 is not a symbolic link\n",
            "\n"
          ]
        }
      ],
      "source": [
        "! pip3 install gymnasium\n",
        "! pip3 install torch\n",
        "! pip install pygame\n",
        "! pip install moviepy==1.0.3\n",
        "! pip install imageio_ffmpeg\n",
        "! pip install pyvirtualdisplay\n",
        "! apt-get install -y xvfb python3-opengl ffmpeg"
      ]
    },
    {
      "cell_type": "code",
      "execution_count": 2,
      "metadata": {
        "id": "Rim8iocC1Vva"
      },
      "outputs": [],
      "source": [
        "import gymnasium as gym\n",
        "import torch\n",
        "import torch.nn as nn\n",
        "import torch.nn.functional as F\n",
        "from itertools import chain\n",
        "import matplotlib.pyplot as plt\n",
        "from tqdm import tqdm\n",
        "import random\n",
        "from torch.utils.data import Dataset, DataLoader\n",
        "import numpy as np\n",
        "\n",
        "from gymnasium import logger as gymlogger\n",
        "from gymnasium.wrappers import RecordVideo\n",
        "gymlogger.set_level(40) #error only\n",
        "\n",
        "import glob\n",
        "import io\n",
        "import base64\n",
        "from IPython.display import HTML\n",
        "from IPython import display as ipythondisplay"
      ]
    },
    {
      "cell_type": "code",
      "execution_count": 3,
      "metadata": {
        "id": "l1f8lZp19Lwj",
        "colab": {
          "base_uri": "https://localhost:8080/"
        },
        "outputId": "46cf1615-b003-4899-e5e8-e071213c66ee"
      },
      "outputs": [
        {
          "output_type": "execute_result",
          "data": {
            "text/plain": [
              "<pyvirtualdisplay.display.Display at 0x7a352f19ef50>"
            ]
          },
          "metadata": {},
          "execution_count": 3
        }
      ],
      "source": [
        "from pyvirtualdisplay import Display\n",
        "display = Display(visible=0, size=(1400,900))\n",
        "display.start()"
      ]
    },
    {
      "cell_type": "code",
      "execution_count": 4,
      "metadata": {
        "id": "_TI_5c0l9Ojv"
      },
      "outputs": [],
      "source": [
        "def show_video():\n",
        "  mp4list = glob.glob('video/*.mp4')\n",
        "  if len(mp4list) > 0:\n",
        "    mp4 = mp4list[0]\n",
        "    video = io.open(mp4, 'r+b').read()\n",
        "    encoded = base64.b64encode(video)\n",
        "    ipythondisplay.display(HTML(data='''<video alt=\"test\" autoplay\n",
        "                loop controls style=\"height: 400px;\">\n",
        "                <source src=\"data:video/mp4;base64,{0}\" type=\"video/mp4\" />\n",
        "             </video>'''.format(encoded.decode('ascii'))))\n",
        "  else:\n",
        "    print(\"Could not find video\")\n",
        "\n",
        "def wrap_env(env):\n",
        "  env = RecordVideo(env, './video')\n",
        "  return env"
      ]
    },
    {
      "cell_type": "markdown",
      "metadata": {
        "id": "mV282uYJ2aSw"
      },
      "source": [
        "## DQN"
      ]
    },
    {
      "cell_type": "markdown",
      "metadata": {
        "id": "Qi_aDdTg2btp"
      },
      "source": [
        "## Part 1\n",
        "\n",
        "\n",
        "Deep Q-Network (https://www.cs.toronto.edu/~vmnih/docs/dqn.pdf) is a Q-learning algorithm that learns values for state-action pairs.\n",
        "\n",
        "Actions are sampled according to an $\\epsilon-greedy$ policy to help with exploration of the state space. Every time an action is sampled, the agent chooses a random action with $\\epsilon$ probability. Otherwise, the agent selects the action with the highest Q-value for a state. $\\epsilon$ decays over time according to $\\epsilon \\gets \\epsilon * epsilon\\_decay$.\n",
        "\n",
        "Tuples of state, action, reward, next_state, and terminal $(s,a,r,s',d)$ are collected during training. Every $learn\\_frequency$ steps $sample\\_size$ tuples are sampled and made into 5 tensors tensors of states, actions, rewarads, next_states, and terminals.\n",
        "\n",
        "The loss for a batch of size N is given below.\n",
        "\n",
        "$Loss=\\frac{1}{N}\\sum \\bigg(Q(s,a) - (r + \\gamma \\underset{a'\\sim A}{max} \\hat{Q}(s',a')(1-d))\\bigg)^2 $\n",
        "\n",
        "Loss is calculated and used to update the Q-Network. The target network $\\hat{Q}$ begins as a copy of the Q network but is not updated by the optimizer. Every $target\\_update$ steps, the target network is updated with the parameters of the Q-Network. This process is a type of bootstrapping.\n",
        "\n",
        "### TODO\n",
        "\n",
        "- Implement get action method with e-greedy policy\n",
        "- Implement sample batch method\n",
        "- Implement DQN learning algorithm\n",
        "\n"
      ]
    },
    {
      "cell_type": "code",
      "execution_count": 11,
      "metadata": {
        "id": "_mBUvXkT2dHy"
      },
      "outputs": [],
      "source": [
        "from os import RWF_DSYNC\n",
        "def get_action_dqn(network, state, epsilon, epsilon_decay):\n",
        "  \"\"\"Select action according to e-greedy policy and decay epsilon\n",
        "\n",
        "    Args:\n",
        "        network (QNetwork): Q-Network\n",
        "        state (np-array): current state, size (state_size)\n",
        "        epsilon (float): probability of choosing a random action\n",
        "        epsilon_decay (float): amount by which to decay epsilon\n",
        "\n",
        "    Returns:\n",
        "        action (int): chosen action [0, action_size)\n",
        "        epsilon (float): decayed epsilon\n",
        "  \"\"\"\n",
        "  new_epsilon = epsilon * epsilon_decay\n",
        "  explore = np.random.rand() < epsilon\n",
        "  state_t = torch.tensor(state, dtype=torch.float).to('cuda')\n",
        "  action = np.random.choice([0, 1]) if explore else torch.argmax(network(state_t)).item()\n",
        "  return action, new_epsilon\n",
        "\n",
        "\n",
        "\n",
        "def prepare_batch(memory, batch_size):\n",
        "  \"\"\"Randomly sample batch from memory\n",
        "     Prepare cuda tensors\n",
        "\n",
        "    Args:\n",
        "        memory (list): state, action, next_state, reward, done tuples\n",
        "        batch_size (int): amount of memory to sample into a batch\n",
        "\n",
        "    Returns:\n",
        "        state (tensor): float cuda tensor of size (batch_size x state_size)\n",
        "        action (tensor): long tensor of size (batch_size)\n",
        "        next_state (tensor): float cuda tensor of size (batch_size x state_size)\n",
        "        reward (tensor): float cuda tensor of size (batch_size)\n",
        "        done (tensor): float cuda tensor of size (batch_size)\n",
        "  \"\"\"\n",
        "  indices = np.random.choice(len(memory), batch_size, replace=False)\n",
        "  batch = [memory[i] for i in indices]\n",
        "  s, a, n, r, d = zip(*batch)\n",
        "\n",
        "  state = torch.tensor(s, dtype=torch.float).to('cuda')\n",
        "  action = torch.tensor(a, dtype=torch.long).to('cuda')\n",
        "  next_state = torch.tensor(n, dtype=torch.float).to('cuda')\n",
        "  reward = torch.tensor(r, dtype=torch.float).to('cuda')\n",
        "  done = torch.tensor(d, dtype=torch.float).to('cuda')\n",
        "\n",
        "  return (state, action, next_state, reward, done)\n",
        "\n",
        "\n",
        "def learn_dqn(batch, optim, q_network, target_network, gamma, global_step, target_update):\n",
        "  \"\"\"Update Q-Network according to DQN Loss function\n",
        "     Update Target Network every target_update global steps\n",
        "\n",
        "    Args:\n",
        "        batch (tuple): tuple of state, action, next_state, reward, and done tensors\n",
        "        optim (Adam): Q-Network optimizer\n",
        "        q_network (QNetwork): Q-Network\n",
        "        target_network (QNetwork): Target Q-Network\n",
        "        gamma (float): discount factor\n",
        "        global_step (int): total steps taken in environment\n",
        "        target_update (int): frequency of target network update\n",
        "  \"\"\"\n",
        "  mse = nn.MSELoss()\n",
        "  optim.zero_grad()\n",
        "\n",
        "  state, action, next_state, reward, done = batch\n",
        "  action = action.unsqueeze(1)\n",
        "\n",
        "  # Compute Q-values for the given state-action pairs\n",
        "  q_sa = q_network(state).gather(1, action).squeeze()\n",
        "\n",
        "  # Compute the target Q-values using the target network\n",
        "  r_gm = reward + gamma * torch.max(target_network(next_state), dim=1)[0]\n",
        "\n",
        "  # Compute the target values\n",
        "  target_values = r_gm * (1 - done)\n",
        "\n",
        "  # Compute the loss\n",
        "  loss = mse(q_sa, target_values.detach())\n",
        "\n",
        "  loss.backward()\n",
        "  optim.step()\n",
        "\n",
        "  if global_step % target_update == 0:\n",
        "    target_network.load_state_dict(q_network.state_dict())\n",
        "  return loss\n"
      ]
    },
    {
      "cell_type": "markdown",
      "metadata": {
        "id": "vGQgiY0WvImB"
      },
      "source": [
        "### Modules"
      ]
    },
    {
      "cell_type": "code",
      "execution_count": 12,
      "metadata": {
        "id": "1vMhl-oevIBo"
      },
      "outputs": [],
      "source": [
        "# Q-Value Network\n",
        "class QNetwork(nn.Module):\n",
        "  def __init__(self, state_size, action_size):\n",
        "    super().__init__()\n",
        "    hidden_size = 8\n",
        "\n",
        "    self.net = nn.Sequential(nn.Linear(state_size, hidden_size),\n",
        "                             nn.ReLU(),\n",
        "                             nn.Linear(hidden_size, hidden_size),\n",
        "                             nn.ReLU(),\n",
        "                             nn.Linear(hidden_size, hidden_size),\n",
        "                             nn.ReLU(),\n",
        "                             nn.Linear(hidden_size, action_size))\n",
        "\n",
        "  def forward(self, x):\n",
        "    \"\"\"Estimate q-values given state\n",
        "\n",
        "      Args:\n",
        "          state (tensor): current state, size (batch x state_size)\n",
        "\n",
        "      Returns:\n",
        "          q-values (tensor): estimated q-values, size (batch x action_size)\n",
        "    \"\"\"\n",
        "    return self.net(x)"
      ]
    },
    {
      "cell_type": "markdown",
      "metadata": {
        "id": "yCafVI552dgg"
      },
      "source": [
        "### Main"
      ]
    },
    {
      "cell_type": "code",
      "execution_count": 17,
      "metadata": {
        "id": "8Sy_r9Wr2eg8",
        "colab": {
          "base_uri": "https://localhost:8080/",
          "height": 635
        },
        "outputId": "35eefc31-c2b2-4616-fe8e-2efc2a3ebc06"
      },
      "outputs": [
        {
          "output_type": "stream",
          "name": "stderr",
          "text": [
            "Episodes: 498 Reward: 200.0: 100%|█████████▉| 499/500 [01:33<00:00,  2.15it/s]"
          ]
        },
        {
          "output_type": "stream",
          "name": "stdout",
          "text": [
            "Moviepy - Building video /content/video/rl-video-episode-0.mp4.\n",
            "Moviepy - Writing video /content/video/rl-video-episode-0.mp4\n",
            "\n"
          ]
        },
        {
          "output_type": "stream",
          "name": "stderr",
          "text": [
            "\n",
            "t:   0%|          | 0/202 [00:00<?, ?it/s, now=None]\u001b[A\n",
            "t:  20%|█▉        | 40/202 [00:00<00:00, 394.55it/s, now=None]\u001b[A\n",
            "t:  40%|███▉      | 80/202 [00:00<00:00, 307.86it/s, now=None]\u001b[A\n",
            "t:  55%|█████▌    | 112/202 [00:00<00:00, 312.04it/s, now=None]\u001b[A\n",
            "t:  72%|███████▏  | 145/202 [00:00<00:00, 313.38it/s, now=None]\u001b[A\n",
            "t:  88%|████████▊ | 177/202 [00:00<00:00, 311.67it/s, now=None]\u001b[A\n",
            "                                                                              "
          ]
        },
        {
          "output_type": "stream",
          "name": "stdout",
          "text": [
            "Moviepy - Done !\n",
            "Moviepy - video ready /content/video/rl-video-episode-0.mp4\n"
          ]
        },
        {
          "output_type": "stream",
          "name": "stderr",
          "text": [
            "\r"
          ]
        },
        {
          "output_type": "display_data",
          "data": {
            "text/plain": [
              "<IPython.core.display.HTML object>"
            ],
            "text/html": [
              "<video alt=\"test\" autoplay\n",
              "                loop controls style=\"height: 400px;\">\n",
              "                <source src=\"data:video/mp4;base64,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\" type=\"video/mp4\" />\n",
              "             </video>"
            ]
          },
          "metadata": {}
        }
      ],
      "source": [
        "def dqn_main():\n",
        "  # Hyper parameters\n",
        "  lr = 1e-3\n",
        "  epochs = 500\n",
        "  start_training = 1000\n",
        "  gamma = 0.99\n",
        "  batch_size = 32\n",
        "  epsilon = 1\n",
        "  epsilon_decay = .9999\n",
        "  target_update = 1000\n",
        "  learn_frequency = 2\n",
        "\n",
        "  # Init environment\n",
        "  state_size = 4\n",
        "  action_size = 2\n",
        "  env = gym.make('CartPole-v1', render_mode=\"rgb_array\")\n",
        "\n",
        "  # Init networks\n",
        "  q_network = QNetwork(state_size, action_size).cuda()\n",
        "  target_network = QNetwork(state_size, action_size).cuda()\n",
        "  target_network.load_state_dict(q_network.state_dict())\n",
        "\n",
        "  # Init optimizer\n",
        "  optim = torch.optim.Adam(q_network.parameters(), lr=lr)\n",
        "\n",
        "  # Init replay buffer\n",
        "  memory = []\n",
        "\n",
        "  # Begin main loop\n",
        "  results_dqn = []\n",
        "  global_step = 0\n",
        "  loop = tqdm(total=epochs, position=0, leave=False)\n",
        "  for epoch in range(epochs):\n",
        "    last_epoch = (epoch+1 == epochs)\n",
        "    # Record the last epoch, not the previous epochs\n",
        "    if last_epoch:\n",
        "      env = wrap_env(env)\n",
        "\n",
        "    # Reset environment\n",
        "    state, _ = env.reset()\n",
        "    done = False\n",
        "    cum_reward = 0  # Track cumulative reward per episode\n",
        "\n",
        "    # Begin episode\n",
        "    while not done and cum_reward < 200:  # End after 200 steps\n",
        "      # Select e-greedy action\n",
        "      action, epsilon = get_action_dqn(q_network, state, epsilon, epsilon_decay)\n",
        "\n",
        "      # Take step\n",
        "      next_state, reward, terminated, truncated, _ = env.step(action)\n",
        "      done = terminated or truncated\n",
        "      # env.render()\n",
        "\n",
        "      # Store step in replay buffer\n",
        "      memory.append((state, action, next_state, reward, done))\n",
        "\n",
        "      cum_reward += reward\n",
        "      global_step += 1  # Increment total steps\n",
        "      state = next_state  # Set current state\n",
        "\n",
        "      # If time to train\n",
        "      if global_step > start_training and global_step % learn_frequency == 0:\n",
        "\n",
        "        # Sample batch\n",
        "        batch = prepare_batch(memory, batch_size)\n",
        "\n",
        "        # Train\n",
        "        learn_dqn(batch, optim, q_network, target_network, gamma, global_step, target_update)\n",
        "    env.close()\n",
        "    # Print results at end of episode\n",
        "    results_dqn.append(cum_reward)\n",
        "    loop.update(1)\n",
        "    loop.set_description('Episodes: {} Reward: {}'.format(epoch, cum_reward))\n",
        "\n",
        "  return results_dqn\n",
        "\n",
        "results_dqn = dqn_main()\n",
        "show_video()"
      ]
    },
    {
      "cell_type": "code",
      "execution_count": 18,
      "metadata": {
        "id": "ZWYwytCDC3aw",
        "colab": {
          "base_uri": "https://localhost:8080/",
          "height": 430
        },
        "outputId": "6a8b0fbb-ec11-4504-e757-d062ef1d43dc"
      },
      "outputs": [
        {
          "output_type": "display_data",
          "data": {
            "text/plain": [
              "<Figure size 640x480 with 1 Axes>"
            ],
            "image/png": "[encoded data removed]"
          },
          "metadata": {}
        }
      ],
      "source": [
        "plt.plot(results_dqn)\n",
        "plt.show()"
      ]
    },
    {
      "cell_type": "markdown",
      "metadata": {
        "id": "qN9yy5EWVNz0"
      },
      "source": [
        "## PPO"
      ]
    },
    {
      "cell_type": "markdown",
      "metadata": {
        "id": "XvRUJUew0yN_"
      },
      "source": [
        "## Part 2\n",
        "\n",
        "Proximal Policy Optimization (https://arxiv.org/pdf/1707.06347.pdf) is a type of policy gradient method. Instead of calculating Q-values, we train a network $\\pi$ to optimize the probability of taking good actions directly, using states as inputs and actions as outputs. PPO also uses a value network $V$ that estimates state values in order to estimate the advantage $\\hat{A}$.\n",
        "\n",
        "Tuples of state, action distribution, action taken, and return $(s,\\pi(s), a,\\hat{R})$ are gathered for several rollouts. After training on this experience, these tuples are discarded and new experience is gathered.\n",
        "\n",
        "Loss for the value network and the policy network are calculated according to the following formula:\n",
        "\n",
        "$Loss=ValueLoss+PolicyLoss$\n",
        "\n",
        "$ValueLoss=\\frac{1}{N}\\sum \\bigg(\\hat{R} - V(s) \\bigg)^2 $\n",
        "\n",
        "$PolicyLoss=-\\frac{1}{N}\\sum \\min\\bigg( \\frac{\\pi'(a|s)}{\\pi(a|s)} \\hat{A}, clip(\\frac{\\pi'(a|s)}{\\pi(a|s)},1-\\epsilon,1+\\epsilon) \\hat{A} \\bigg) $\n",
        "\n",
        "$\\hat{R}_t = \\sum_{i=t}^H \\gamma^{i-t}r_i$\n",
        "\n",
        "$\\hat{A}_t=\\hat{R}_t-V(s_t)$\n",
        "\n",
        "Here, $\\pi'(a|s)$ is the probability of taking an action given a state under the current policy and $\\pi(a|s)$ is the probability of taking an action given a state under the policy used to gather data. In the loss function, $a$ is the action your agent actually took and is sampled from memory.\n",
        "\n",
        "Additionally, the $clip$ function clips the value of the first argument according to the lower and upper bounds in the second and third arguments resectively.\n",
        "\n",
        "Another important note: Your the calculation of your advantage $\\hat{A}$ should not permit gradient flow from your policy loss calculation. In other words, make sure to call `.detach()` on your advantage.\n",
        "\n",
        "### TODO\n",
        "\n",
        "- Implement calculate return method\n",
        "- Implement get action method\n",
        "- Implement PPO learning algorithm"
      ]
    },
    {
      "cell_type": "code",
      "execution_count": 35,
      "metadata": {
        "id": "zsm1pILHVcEp"
      },
      "outputs": [],
      "source": [
        "def calculate_return(memory, rollout, gamma):\n",
        "  \"\"\"Return memory with calculated return in experience tuple\n",
        "\n",
        "    Args:\n",
        "        memory (list): (state, action, action_dist, return) tuples\n",
        "        rollout (list): (state, action, action_dist, reward) tuples from last rollout\n",
        "        gamma (float): discount factor\n",
        "\n",
        "    Returns:\n",
        "        list: memory updated with (state, action, action_dist, return) tuples from rollout\n",
        "  \"\"\"\n",
        "  return_val = 0\n",
        "  for s, a, a_d, r in reversed(rollout):\n",
        "    return_val = r + return_val * gamma\n",
        "    memory.append((s, a, a_d, return_val))\n",
        "\n",
        "  return memory\n",
        "\n",
        "\n",
        "def get_action_ppo(network, state):\n",
        "  \"\"\"Sample action from the distribution obtained from the policy network\n",
        "\n",
        "    Args:\n",
        "        network (PolicyNetwork): Policy Network\n",
        "        state (np-array): current state, size (state_size)\n",
        "\n",
        "    Returns:\n",
        "        int: action sampled from output distribution of policy network\n",
        "        array: output distribution of policy network\n",
        "  \"\"\"\n",
        "  state_t = torch.tensor(state, dtype=torch.float).unsqueeze(0).to('cuda')\n",
        "  action_dist = network(state_t)\n",
        "  action = torch.multinomial(action_dist, 1).item()\n",
        "  return action, action_dist.detach()\n",
        "\n",
        "\n",
        "def learn_ppo(optim, policy, value, memory_dataloader, epsilon, policy_epochs):\n",
        "  \"\"\"Implement PPO policy and value network updates. Iterate over your entire\n",
        "     memory the number of times indicated by policy_epochs.\n",
        "\n",
        "    Args:\n",
        "        optim (Adam): value and policy optimizer\n",
        "        policy (PolicyNetwork): Policy Network\n",
        "        value (ValueNetwork): Value Network\n",
        "        memory_dataloader (DataLoader): dataloader with (state, action, action_dist, return) tensors\n",
        "        epsilon (float): trust region\n",
        "        policy_epochs (int): number of times to iterate over all memory\n",
        "  \"\"\"\n",
        "  mse = nn.MSELoss()\n",
        "  for _ in range(policy_epochs):\n",
        "    for s, a, a_d, r in memory_dataloader:\n",
        "      optim.zero_grad()\n",
        "\n",
        "      # Convert tensors to proper type and put on cuda\n",
        "      state = s.float().to('cuda')\n",
        "      action = a.long().to('cuda')\n",
        "      action_dist = a_d.float().to('cuda').squeeze()\n",
        "      ret = r.float().to('cuda')\n",
        "\n",
        "      # Value loss\n",
        "      v_s = value(state[0]).squeeze()\n",
        "      v_loss = mse(ret, v_s)\n",
        "\n",
        "      # Compute advantage\n",
        "      adv = (ret - v_s).detach()\n",
        "\n",
        "      # Policy loss\n",
        "      old_prob = action_dist.gather(1, action.unsqueeze(1)).squeeze()\n",
        "      cur_prob = policy(state).gather(1, action.unsqueeze(1)).squeeze()\n",
        "      ratio = cur_prob / old_prob\n",
        "      clipped_ratio = torch.clamp(ratio, 1 - epsilon, 1 + epsilon)\n",
        "      p_loss = -torch.mean(torch.min((ratio * adv), (clipped_ratio * adv)))\n",
        "\n",
        "      # Total loss\n",
        "      loss = p_loss + v_loss\n",
        "\n",
        "      loss.backward()\n",
        "      optim.step()"
      ]
    },
    {
      "cell_type": "markdown",
      "metadata": {
        "id": "R6RXma_-vSGX"
      },
      "source": [
        "### Modules"
      ]
    },
    {
      "cell_type": "code",
      "execution_count": 36,
      "metadata": {
        "id": "L8URnP8xvTTG"
      },
      "outputs": [],
      "source": [
        "# Dataset that wraps memory for a dataloader\n",
        "class RLDataset(Dataset):\n",
        "  def __init__(self, data):\n",
        "    super().__init__()\n",
        "    self.data = []\n",
        "    for d in data:\n",
        "      self.data.append(d)\n",
        "\n",
        "  def __getitem__(self, index):\n",
        "    return self.data[index]\n",
        "\n",
        "  def __len__(self):\n",
        "    return len(self.data)\n",
        "\n",
        "\n",
        "# Policy Network\n",
        "class PolicyNetwork(nn.Module):\n",
        "  def __init__(self, state_size, action_size):\n",
        "    super().__init__()\n",
        "    hidden_size = 8\n",
        "\n",
        "    self.net = nn.Sequential(nn.Linear(state_size, hidden_size),\n",
        "                             nn.ReLU(),\n",
        "                             nn.Linear(hidden_size, hidden_size),\n",
        "                             nn.ReLU(),\n",
        "                             nn.Linear(hidden_size, hidden_size),\n",
        "                             nn.ReLU(),\n",
        "                             nn.Linear(hidden_size, action_size),\n",
        "                             nn.Softmax(dim=1))\n",
        "\n",
        "  def forward(self, x):\n",
        "    \"\"\"Get policy from state\n",
        "\n",
        "      Args:\n",
        "          state (tensor): current state, size (batch x state_size)\n",
        "\n",
        "      Returns:\n",
        "          action_dist (tensor): probability distribution over actions (batch x action_size)\n",
        "    \"\"\"\n",
        "    return self.net(x)\n",
        "\n",
        "\n",
        "# Value Network\n",
        "class ValueNetwork(nn.Module):\n",
        "  def __init__(self, state_size):\n",
        "    super().__init__()\n",
        "    hidden_size = 8\n",
        "\n",
        "    self.net = nn.Sequential(nn.Linear(state_size, hidden_size),\n",
        "                             nn.ReLU(),\n",
        "                             nn.Linear(hidden_size, hidden_size),\n",
        "                             nn.ReLU(),\n",
        "                             nn.Linear(hidden_size, hidden_size),\n",
        "                             nn.ReLU(),\n",
        "                             nn.Linear(hidden_size, 1))\n",
        "\n",
        "  def forward(self, x):\n",
        "    \"\"\"Estimate value given state\n",
        "\n",
        "      Args:\n",
        "          state (tensor): current state, size (batch x state_size)\n",
        "\n",
        "      Returns:\n",
        "          value (tensor): estimated value, size (batch)\n",
        "    \"\"\"\n",
        "    return self.net(x)"
      ]
    },
    {
      "cell_type": "markdown",
      "metadata": {
        "id": "_aBD_R_e01Qb"
      },
      "source": [
        "### Main"
      ]
    },
    {
      "cell_type": "code",
      "execution_count": 37,
      "metadata": {
        "id": "qX_Bv4M4MyY2",
        "colab": {
          "base_uri": "https://localhost:8080/",
          "height": 1000
        },
        "outputId": "f996155e-945d-4464-c8c9-da675ea437ff"
      },
      "outputs": [
        {
          "output_type": "stream",
          "name": "stderr",
          "text": [
            "\r  0%|          | 0/20 [00:00<?, ?it/s]/usr/local/lib/python3.10/dist-packages/torch/nn/modules/loss.py:535: UserWarning: Using a target size (torch.Size([])) that is different to the input size (torch.Size([201])). This will likely lead to incorrect results due to broadcasting. Please ensure they have the same size.\n",
            "  return F.mse_loss(input, target, reduction=self.reduction)\n",
            "Epochs: 0 Reward: 29.0:   5%|▌         | 1/20 [00:01<00:32,  1.69s/it]/usr/local/lib/python3.10/dist-packages/torch/nn/modules/loss.py:535: UserWarning: Using a target size (torch.Size([])) that is different to the input size (torch.Size([212])). This will likely lead to incorrect results due to broadcasting. Please ensure they have the same size.\n",
            "  return F.mse_loss(input, target, reduction=self.reduction)\n",
            "Epochs: 1 Reward: 22.0:  10%|█         | 2/20 [00:03<00:36,  2.01s/it]/usr/local/lib/python3.10/dist-packages/torch/nn/modules/loss.py:535: UserWarning: Using a target size (torch.Size([])) that is different to the input size (torch.Size([152])). This will likely lead to incorrect results due to broadcasting. Please ensure they have the same size.\n",
            "  return F.mse_loss(input, target, reduction=self.reduction)\n",
            "Epochs: 2 Reward: 11.0:  15%|█▌        | 3/20 [00:05<00:30,  1.81s/it]/usr/local/lib/python3.10/dist-packages/torch/nn/modules/loss.py:535: UserWarning: Using a target size (torch.Size([])) that is different to the input size (torch.Size([75])). This will likely lead to incorrect results due to broadcasting. Please ensure they have the same size.\n",
            "  return F.mse_loss(input, target, reduction=self.reduction)\n",
            "Epochs: 3 Reward: 21.0:  20%|██        | 4/20 [00:07<00:29,  1.83s/it]/usr/local/lib/python3.10/dist-packages/torch/nn/modules/loss.py:535: UserWarning: Using a target size (torch.Size([])) that is different to the input size (torch.Size([128])). This will likely lead to incorrect results due to broadcasting. Please ensure they have the same size.\n",
            "  return F.mse_loss(input, target, reduction=self.reduction)\n",
            "Epochs: 4 Reward: 14.0:  25%|██▌       | 5/20 [00:09<00:29,  1.96s/it]/usr/local/lib/python3.10/dist-packages/torch/nn/modules/loss.py:535: UserWarning: Using a target size (torch.Size([])) that is different to the input size (torch.Size([205])). This will likely lead to incorrect results due to broadcasting. Please ensure they have the same size.\n",
            "  return F.mse_loss(input, target, reduction=self.reduction)\n",
            "Epochs: 5 Reward: 21.0:  30%|███       | 6/20 [00:12<00:30,  2.20s/it]/usr/local/lib/python3.10/dist-packages/torch/nn/modules/loss.py:535: UserWarning: Using a target size (torch.Size([])) that is different to the input size (torch.Size([169])). This will likely lead to incorrect results due to broadcasting. Please ensure they have the same size.\n",
            "  return F.mse_loss(input, target, reduction=self.reduction)\n",
            "Epochs: 6 Reward: 40.0:  35%|███▌      | 7/20 [00:16<00:37,  2.88s/it]/usr/local/lib/python3.10/dist-packages/torch/nn/modules/loss.py:535: UserWarning: Using a target size (torch.Size([])) that is different to the input size (torch.Size([25])). This will likely lead to incorrect results due to broadcasting. Please ensure they have the same size.\n",
            "  return F.mse_loss(input, target, reduction=self.reduction)\n",
            "Epochs: 8 Reward: 67.0:  45%|████▌     | 9/20 [00:33<01:04,  5.89s/it] /usr/local/lib/python3.10/dist-packages/torch/nn/modules/loss.py:535: UserWarning: Using a target size (torch.Size([])) that is different to the input size (torch.Size([219])). This will likely lead to incorrect results due to broadcasting. Please ensure they have the same size.\n",
            "  return F.mse_loss(input, target, reduction=self.reduction)\n",
            "Epochs: 9 Reward: 134.0:  50%|█████     | 10/20 [00:44<01:16,  7.62s/it]/usr/local/lib/python3.10/dist-packages/torch/nn/modules/loss.py:535: UserWarning: Using a target size (torch.Size([])) that is different to the input size (torch.Size([90])). This will likely lead to incorrect results due to broadcasting. Please ensure they have the same size.\n",
            "  return F.mse_loss(input, target, reduction=self.reduction)\n",
            "Epochs: 10 Reward: 200.0:  55%|█████▌    | 11/20 [00:58<01:25,  9.50s/it]/usr/local/lib/python3.10/dist-packages/torch/nn/modules/loss.py:535: UserWarning: Using a target size (torch.Size([])) that is different to the input size (torch.Size([187])). This will likely lead to incorrect results due to broadcasting. Please ensure they have the same size.\n",
            "  return F.mse_loss(input, target, reduction=self.reduction)\n",
            "Epochs: 11 Reward: 200.0:  60%|██████    | 12/20 [01:12<01:28, 11.07s/it]/usr/local/lib/python3.10/dist-packages/torch/nn/modules/loss.py:535: UserWarning: Using a target size (torch.Size([])) that is different to the input size (torch.Size([12])). This will likely lead to incorrect results due to broadcasting. Please ensure they have the same size.\n",
            "  return F.mse_loss(input, target, reduction=self.reduction)\n",
            "Epochs: 12 Reward: 200.0:  65%|██████▌   | 13/20 [01:29<01:28, 12.60s/it]/usr/local/lib/python3.10/dist-packages/torch/nn/modules/loss.py:535: UserWarning: Using a target size (torch.Size([])) that is different to the input size (torch.Size([66])). This will likely lead to incorrect results due to broadcasting. Please ensure they have the same size.\n",
            "  return F.mse_loss(input, target, reduction=self.reduction)\n",
            "Epochs: 13 Reward: 191.0:  70%|███████   | 14/20 [01:43<01:18, 13.15s/it]/usr/local/lib/python3.10/dist-packages/torch/nn/modules/loss.py:535: UserWarning: Using a target size (torch.Size([])) that is different to the input size (torch.Size([112])). This will likely lead to incorrect results due to broadcasting. Please ensure they have the same size.\n",
            "  return F.mse_loss(input, target, reduction=self.reduction)\n",
            "Epochs: 14 Reward: 200.0:  75%|███████▌  | 15/20 [01:57<01:07, 13.55s/it]/usr/local/lib/python3.10/dist-packages/torch/nn/modules/loss.py:535: UserWarning: Using a target size (torch.Size([])) that is different to the input size (torch.Size([45])). This will likely lead to incorrect results due to broadcasting. Please ensure they have the same size.\n",
            "  return F.mse_loss(input, target, reduction=self.reduction)\n",
            "Epochs: 15 Reward: 200.0:  80%|████████  | 16/20 [02:12<00:55, 13.88s/it]/usr/local/lib/python3.10/dist-packages/torch/nn/modules/loss.py:535: UserWarning: Using a target size (torch.Size([])) that is different to the input size (torch.Size([8])). This will likely lead to incorrect results due to broadcasting. Please ensure they have the same size.\n",
            "  return F.mse_loss(input, target, reduction=self.reduction)\n",
            "Epochs: 16 Reward: 200.0:  85%|████████▌ | 17/20 [02:28<00:43, 14.43s/it]/usr/local/lib/python3.10/dist-packages/torch/nn/modules/loss.py:535: UserWarning: Using a target size (torch.Size([])) that is different to the input size (torch.Size([32])). This will likely lead to incorrect results due to broadcasting. Please ensure they have the same size.\n",
            "  return F.mse_loss(input, target, reduction=self.reduction)\n",
            "Epochs: 17 Reward: 200.0:  90%|█████████ | 18/20 [02:43<00:29, 14.50s/it]/usr/local/lib/python3.10/dist-packages/torch/nn/modules/loss.py:535: UserWarning: Using a target size (torch.Size([])) that is different to the input size (torch.Size([73])). This will likely lead to incorrect results due to broadcasting. Please ensure they have the same size.\n",
            "  return F.mse_loss(input, target, reduction=self.reduction)\n",
            "Epochs: 18 Reward: 200.0:  95%|█████████▌| 19/20 [02:58<00:14, 14.55s/it]"
          ]
        },
        {
          "output_type": "stream",
          "name": "stdout",
          "text": [
            "Moviepy - Building video /content/video/rl-video-episode-0.mp4.\n",
            "Moviepy - Writing video /content/video/rl-video-episode-0.mp4\n",
            "\n"
          ]
        },
        {
          "output_type": "stream",
          "name": "stderr",
          "text": [
            "\n",
            "t:   0%|          | 0/202 [00:00<?, ?it/s, now=None]\u001b[A\n",
            "t:  22%|██▏       | 45/202 [00:00<00:00, 449.95it/s, now=None]\u001b[A\n",
            "t:  45%|████▍     | 90/202 [00:00<00:00, 338.86it/s, now=None]\u001b[A\n",
            "t:  62%|██████▏   | 126/202 [00:00<00:00, 327.62it/s, now=None]\u001b[A\n",
            "t:  79%|███████▉  | 160/202 [00:00<00:00, 325.25it/s, now=None]\u001b[A\n",
            "t:  96%|█████████▌| 193/202 [00:00<00:00, 314.72it/s, now=None]\u001b[A\n",
            "Epochs: 18 Reward: 200.0:  95%|█████████▌| 19/20 [02:59<00:14, 14.55s/it]"
          ]
        },
        {
          "output_type": "stream",
          "name": "stdout",
          "text": [
            "Moviepy - Done !\n",
            "Moviepy - video ready /content/video/rl-video-episode-0.mp4\n"
          ]
        },
        {
          "output_type": "stream",
          "name": "stderr",
          "text": [
            "Epochs: 18 Reward: 200.0:  95%|█████████▌| 19/20 [02:59<00:14, 14.55s/it]"
          ]
        },
        {
          "output_type": "stream",
          "name": "stdout",
          "text": [
            "Moviepy - Building video /content/video/rl-video-episode-0.mp4.\n",
            "Moviepy - Writing video /content/video/rl-video-episode-0.mp4\n",
            "\n"
          ]
        },
        {
          "output_type": "stream",
          "name": "stderr",
          "text": [
            "\n",
            "t:   0%|          | 0/202 [00:00<?, ?it/s, now=None]\u001b[A\n",
            "t:  19%|█▉        | 39/202 [00:00<00:00, 387.40it/s, now=None]\u001b[A\n",
            "t:  39%|███▊      | 78/202 [00:00<00:00, 321.00it/s, now=None]\u001b[A\n",
            "t:  55%|█████▍    | 111/202 [00:00<00:00, 313.56it/s, now=None]\u001b[A\n",
            "t:  71%|███████▏  | 144/202 [00:00<00:00, 319.33it/s, now=None]\u001b[A\n",
            "t:  88%|████████▊ | 177/202 [00:00<00:00, 318.52it/s, now=None]\u001b[A\n",
            "Epochs: 18 Reward: 200.0:  95%|█████████▌| 19/20 [03:00<00:14, 14.55s/it]"
          ]
        },
        {
          "output_type": "stream",
          "name": "stdout",
          "text": [
            "Moviepy - Done !\n",
            "Moviepy - video ready /content/video/rl-video-episode-0.mp4\n"
          ]
        },
        {
          "output_type": "stream",
          "name": "stderr",
          "text": [
            "Epochs: 18 Reward: 200.0:  95%|█████████▌| 19/20 [03:01<00:14, 14.55s/it]"
          ]
        },
        {
          "output_type": "stream",
          "name": "stdout",
          "text": [
            "Moviepy - Building video /content/video/rl-video-episode-0.mp4.\n",
            "Moviepy - Writing video /content/video/rl-video-episode-0.mp4\n",
            "\n"
          ]
        },
        {
          "output_type": "stream",
          "name": "stderr",
          "text": [
            "\n",
            "t:   0%|          | 0/202 [00:00<?, ?it/s, now=None]\u001b[A\n",
            "t:  13%|█▎        | 26/202 [00:00<00:00, 254.77it/s, now=None]\u001b[A\n",
            "t:  26%|██▌       | 52/202 [00:00<00:00, 210.51it/s, now=None]\u001b[A\n",
            "t:  37%|███▋      | 74/202 [00:00<00:00, 199.38it/s, now=None]\u001b[A\n",
            "t:  47%|████▋     | 95/202 [00:00<00:00, 201.86it/s, now=None]\u001b[A\n",
            "t:  57%|█████▋    | 116/202 [00:00<00:00, 204.20it/s, now=None]\u001b[A\n",
            "t:  68%|██████▊   | 138/202 [00:00<00:00, 207.59it/s, now=None]\u001b[A\n",
            "t:  79%|███████▊  | 159/202 [00:00<00:00, 199.80it/s, now=None]\u001b[A\n",
            "t:  89%|████████▉ | 180/202 [00:00<00:00, 199.28it/s, now=None]\u001b[A\n",
            "t:  99%|█████████▉| 200/202 [00:00<00:00, 194.11it/s, now=None]\u001b[A\n",
            "Epochs: 18 Reward: 200.0:  95%|█████████▌| 19/20 [03:02<00:14, 14.55s/it]"
          ]
        },
        {
          "output_type": "stream",
          "name": "stdout",
          "text": [
            "Moviepy - Done !\n",
            "Moviepy - video ready /content/video/rl-video-episode-0.mp4\n"
          ]
        },
        {
          "output_type": "stream",
          "name": "stderr",
          "text": [
            "Epochs: 18 Reward: 200.0:  95%|█████████▌| 19/20 [03:03<00:14, 14.55s/it]"
          ]
        },
        {
          "output_type": "stream",
          "name": "stdout",
          "text": [
            "Moviepy - Building video /content/video/rl-video-episode-0.mp4.\n",
            "Moviepy - Writing video /content/video/rl-video-episode-0.mp4\n",
            "\n"
          ]
        },
        {
          "output_type": "stream",
          "name": "stderr",
          "text": [
            "\n",
            "t:   0%|          | 0/202 [00:00<?, ?it/s, now=None]\u001b[A\n",
            "t:  22%|██▏       | 44/202 [00:00<00:00, 437.44it/s, now=None]\u001b[A\n",
            "t:  44%|████▎     | 88/202 [00:00<00:00, 336.73it/s, now=None]\u001b[A\n",
            "t:  61%|██████▏   | 124/202 [00:00<00:00, 316.15it/s, now=None]\u001b[A\n",
            "t:  78%|███████▊  | 157/202 [00:00<00:00, 315.65it/s, now=None]\u001b[A\n",
            "t:  94%|█████████▎| 189/202 [00:00<00:00, 316.79it/s, now=None]\u001b[A\n",
            "Epochs: 18 Reward: 200.0:  95%|█████████▌| 19/20 [03:04<00:14, 14.55s/it]"
          ]
        },
        {
          "output_type": "stream",
          "name": "stdout",
          "text": [
            "Moviepy - Done !\n",
            "Moviepy - video ready /content/video/rl-video-episode-0.mp4\n"
          ]
        },
        {
          "output_type": "stream",
          "name": "stderr",
          "text": [
            "Epochs: 18 Reward: 200.0:  95%|█████████▌| 19/20 [03:05<00:14, 14.55s/it]"
          ]
        },
        {
          "output_type": "stream",
          "name": "stdout",
          "text": [
            "Moviepy - Building video /content/video/rl-video-episode-0.mp4.\n",
            "Moviepy - Writing video /content/video/rl-video-episode-0.mp4\n",
            "\n"
          ]
        },
        {
          "output_type": "stream",
          "name": "stderr",
          "text": [
            "\n",
            "t:   0%|          | 0/202 [00:00<?, ?it/s, now=None]\u001b[A\n",
            "t:  20%|█▉        | 40/202 [00:00<00:00, 399.43it/s, now=None]\u001b[A\n",
            "t:  40%|███▉      | 80/202 [00:00<00:00, 324.00it/s, now=None]\u001b[A\n",
            "t:  56%|█████▋    | 114/202 [00:00<00:00, 317.64it/s, now=None]\u001b[A\n",
            "t:  73%|███████▎  | 147/202 [00:00<00:00, 315.76it/s, now=None]\u001b[A\n",
            "t:  89%|████████▊ | 179/202 [00:00<00:00, 315.57it/s, now=None]\u001b[A\n",
            "Epochs: 18 Reward: 200.0:  95%|█████████▌| 19/20 [03:06<00:14, 14.55s/it]"
          ]
        },
        {
          "output_type": "stream",
          "name": "stdout",
          "text": [
            "Moviepy - Done !\n",
            "Moviepy - video ready /content/video/rl-video-episode-0.mp4\n"
          ]
        },
        {
          "output_type": "stream",
          "name": "stderr",
          "text": [
            "Epochs: 18 Reward: 200.0:  95%|█████████▌| 19/20 [03:06<00:14, 14.55s/it]"
          ]
        },
        {
          "output_type": "stream",
          "name": "stdout",
          "text": [
            "Moviepy - Building video /content/video/rl-video-episode-0.mp4.\n",
            "Moviepy - Writing video /content/video/rl-video-episode-0.mp4\n",
            "\n"
          ]
        },
        {
          "output_type": "stream",
          "name": "stderr",
          "text": [
            "\n",
            "t:   0%|          | 0/202 [00:00<?, ?it/s, now=None]\u001b[A\n",
            "t:  22%|██▏       | 45/202 [00:00<00:00, 439.51it/s, now=None]\u001b[A\n",
            "t:  44%|████▍     | 89/202 [00:00<00:00, 328.85it/s, now=None]\u001b[A\n",
            "t:  61%|██████▏   | 124/202 [00:00<00:00, 328.42it/s, now=None]\u001b[A\n",
            "t:  78%|███████▊  | 158/202 [00:00<00:00, 314.14it/s, now=None]\u001b[A\n",
            "t:  94%|█████████▍| 190/202 [00:00<00:00, 310.80it/s, now=None]\u001b[A\n",
            "Epochs: 18 Reward: 200.0:  95%|█████████▌| 19/20 [03:07<00:14, 14.55s/it]"
          ]
        },
        {
          "output_type": "stream",
          "name": "stdout",
          "text": [
            "Moviepy - Done !\n",
            "Moviepy - video ready /content/video/rl-video-episode-0.mp4\n"
          ]
        },
        {
          "output_type": "stream",
          "name": "stderr",
          "text": [
            "Epochs: 18 Reward: 200.0:  95%|█████████▌| 19/20 [03:08<00:14, 14.55s/it]"
          ]
        },
        {
          "output_type": "stream",
          "name": "stdout",
          "text": [
            "Moviepy - Building video /content/video/rl-video-episode-0.mp4.\n",
            "Moviepy - Writing video /content/video/rl-video-episode-0.mp4\n",
            "\n"
          ]
        },
        {
          "output_type": "stream",
          "name": "stderr",
          "text": [
            "\n",
            "t:   0%|          | 0/202 [00:00<?, ?it/s, now=None]\u001b[A\n",
            "t:  21%|██        | 42/202 [00:00<00:00, 418.76it/s, now=None]\u001b[A\n",
            "t:  42%|████▏     | 84/202 [00:00<00:00, 316.88it/s, now=None]\u001b[A\n",
            "t:  58%|█████▊    | 118/202 [00:00<00:00, 316.18it/s, now=None]\u001b[A\n",
            "t:  75%|███████▌  | 152/202 [00:00<00:00, 318.80it/s, now=None]\u001b[A\n",
            "t:  92%|█████████▏| 185/202 [00:00<00:00, 318.61it/s, now=None]\u001b[A\n",
            "Epochs: 18 Reward: 200.0:  95%|█████████▌| 19/20 [03:09<00:14, 14.55s/it]"
          ]
        },
        {
          "output_type": "stream",
          "name": "stdout",
          "text": [
            "Moviepy - Done !\n",
            "Moviepy - video ready /content/video/rl-video-episode-0.mp4\n"
          ]
        },
        {
          "output_type": "stream",
          "name": "stderr",
          "text": [
            "Epochs: 18 Reward: 200.0:  95%|█████████▌| 19/20 [03:09<00:14, 14.55s/it]"
          ]
        },
        {
          "output_type": "stream",
          "name": "stdout",
          "text": [
            "Moviepy - Building video /content/video/rl-video-episode-0.mp4.\n",
            "Moviepy - Writing video /content/video/rl-video-episode-0.mp4\n",
            "\n"
          ]
        },
        {
          "output_type": "stream",
          "name": "stderr",
          "text": [
            "\n",
            "t:   0%|          | 0/202 [00:00<?, ?it/s, now=None]\u001b[A\n",
            "t:  21%|██▏       | 43/202 [00:00<00:00, 425.36it/s, now=None]\u001b[A\n",
            "t:  43%|████▎     | 86/202 [00:00<00:00, 323.60it/s, now=None]\u001b[A\n",
            "t:  59%|█████▉    | 120/202 [00:00<00:00, 321.13it/s, now=None]\u001b[A\n",
            "t:  76%|███████▌  | 153/202 [00:00<00:00, 319.57it/s, now=None]\u001b[A\n",
            "t:  92%|█████████▏| 186/202 [00:00<00:00, 307.39it/s, now=None]\u001b[A\n",
            "Epochs: 18 Reward: 200.0:  95%|█████████▌| 19/20 [03:10<00:14, 14.55s/it]"
          ]
        },
        {
          "output_type": "stream",
          "name": "stdout",
          "text": [
            "Moviepy - Done !\n",
            "Moviepy - video ready /content/video/rl-video-episode-0.mp4\n"
          ]
        },
        {
          "output_type": "stream",
          "name": "stderr",
          "text": [
            "Epochs: 18 Reward: 200.0:  95%|█████████▌| 19/20 [03:11<00:14, 14.55s/it]"
          ]
        },
        {
          "output_type": "stream",
          "name": "stdout",
          "text": [
            "Moviepy - Building video /content/video/rl-video-episode-0.mp4.\n",
            "Moviepy - Writing video /content/video/rl-video-episode-0.mp4\n",
            "\n"
          ]
        },
        {
          "output_type": "stream",
          "name": "stderr",
          "text": [
            "\n",
            "t:   0%|          | 0/202 [00:00<?, ?it/s, now=None]\u001b[A\n",
            "t:  20%|██        | 41/202 [00:00<00:00, 406.55it/s, now=None]\u001b[A\n",
            "t:  41%|████      | 82/202 [00:00<00:00, 317.65it/s, now=None]\u001b[A\n",
            "t:  57%|█████▋    | 115/202 [00:00<00:00, 307.95it/s, now=None]\u001b[A\n",
            "t:  73%|███████▎  | 147/202 [00:00<00:00, 306.36it/s, now=None]\u001b[A\n",
            "t:  88%|████████▊ | 178/202 [00:00<00:00, 305.05it/s, now=None]\u001b[A\n",
            "Epochs: 18 Reward: 200.0:  95%|█████████▌| 19/20 [03:12<00:14, 14.55s/it]"
          ]
        },
        {
          "output_type": "stream",
          "name": "stdout",
          "text": [
            "Moviepy - Done !\n",
            "Moviepy - video ready /content/video/rl-video-episode-0.mp4\n"
          ]
        },
        {
          "output_type": "stream",
          "name": "stderr",
          "text": [
            "Epochs: 18 Reward: 200.0:  95%|█████████▌| 19/20 [03:12<00:14, 14.55s/it]"
          ]
        },
        {
          "output_type": "stream",
          "name": "stdout",
          "text": [
            "Moviepy - Building video /content/video/rl-video-episode-0.mp4.\n",
            "Moviepy - Writing video /content/video/rl-video-episode-0.mp4\n",
            "\n"
          ]
        },
        {
          "output_type": "stream",
          "name": "stderr",
          "text": [
            "\n",
            "t:   0%|          | 0/202 [00:00<?, ?it/s, now=None]\u001b[A\n",
            "t:  21%|██        | 42/202 [00:00<00:00, 419.67it/s, now=None]\u001b[A\n",
            "t:  42%|████▏     | 84/202 [00:00<00:00, 321.91it/s, now=None]\u001b[A\n",
            "t:  58%|█████▊    | 118/202 [00:00<00:00, 320.17it/s, now=None]\u001b[A\n",
            "t:  75%|███████▍  | 151/202 [00:00<00:00, 311.94it/s, now=None]\u001b[A\n",
            "t:  91%|█████████ | 184/202 [00:00<00:00, 316.13it/s, now=None]\u001b[A\n",
            "Epochs: 18 Reward: 200.0:  95%|█████████▌| 19/20 [03:13<00:14, 14.55s/it]"
          ]
        },
        {
          "output_type": "stream",
          "name": "stdout",
          "text": [
            "Moviepy - Done !\n",
            "Moviepy - video ready /content/video/rl-video-episode-0.mp4\n"
          ]
        },
        {
          "output_type": "stream",
          "name": "stderr",
          "text": [
            "Epochs: 18 Reward: 200.0:  95%|█████████▌| 19/20 [03:14<00:14, 14.55s/it]"
          ]
        },
        {
          "output_type": "stream",
          "name": "stdout",
          "text": [
            "Moviepy - Building video /content/video/rl-video-episode-0.mp4.\n",
            "Moviepy - Writing video /content/video/rl-video-episode-0.mp4\n",
            "\n"
          ]
        },
        {
          "output_type": "stream",
          "name": "stderr",
          "text": [
            "\n",
            "t:   0%|          | 0/202 [00:00<?, ?it/s, now=None]\u001b[A\n",
            "t:  15%|█▌        | 31/202 [00:00<00:00, 307.36it/s, now=None]\u001b[A\n",
            "t:  31%|███       | 62/202 [00:00<00:00, 217.40it/s, now=None]\u001b[A\n",
            "t:  43%|████▎     | 86/202 [00:00<00:00, 215.60it/s, now=None]\u001b[A\n",
            "t:  54%|█████▍    | 109/202 [00:00<00:00, 200.62it/s, now=None]\u001b[A\n",
            "t:  64%|██████▍   | 130/202 [00:00<00:00, 197.76it/s, now=None]\u001b[A\n",
            "t:  75%|███████▍  | 151/202 [00:00<00:00, 192.71it/s, now=None]\u001b[A\n",
            "t:  85%|████████▍ | 171/202 [00:00<00:00, 187.55it/s, now=None]\u001b[A\n",
            "t:  94%|█████████▍| 190/202 [00:00<00:00, 186.31it/s, now=None]\u001b[A\n",
            "Epochs: 18 Reward: 200.0:  95%|█████████▌| 19/20 [03:15<00:14, 14.55s/it]"
          ]
        },
        {
          "output_type": "stream",
          "name": "stdout",
          "text": [
            "Moviepy - Done !\n",
            "Moviepy - video ready /content/video/rl-video-episode-0.mp4\n"
          ]
        },
        {
          "output_type": "stream",
          "name": "stderr",
          "text": [
            "Epochs: 18 Reward: 200.0:  95%|█████████▌| 19/20 [03:16<00:14, 14.55s/it]"
          ]
        },
        {
          "output_type": "stream",
          "name": "stdout",
          "text": [
            "Moviepy - Building video /content/video/rl-video-episode-0.mp4.\n",
            "Moviepy - Writing video /content/video/rl-video-episode-0.mp4\n",
            "\n"
          ]
        },
        {
          "output_type": "stream",
          "name": "stderr",
          "text": [
            "\n",
            "t:   0%|          | 0/202 [00:00<?, ?it/s, now=None]\u001b[A\n",
            "t:  20%|██        | 41/202 [00:00<00:00, 408.46it/s, now=None]\u001b[A\n",
            "t:  41%|████      | 82/202 [00:00<00:00, 328.93it/s, now=None]\u001b[A\n",
            "t:  57%|█████▋    | 116/202 [00:00<00:00, 320.17it/s, now=None]\u001b[A\n",
            "t:  74%|███████▍  | 150/202 [00:00<00:00, 325.49it/s, now=None]\u001b[A\n",
            "t:  91%|█████████ | 183/202 [00:00<00:00, 322.94it/s, now=None]\u001b[A\n",
            "Epochs: 18 Reward: 200.0:  95%|█████████▌| 19/20 [03:17<00:14, 14.55s/it]"
          ]
        },
        {
          "output_type": "stream",
          "name": "stdout",
          "text": [
            "Moviepy - Done !\n",
            "Moviepy - video ready /content/video/rl-video-episode-0.mp4\n"
          ]
        },
        {
          "output_type": "stream",
          "name": "stderr",
          "text": [
            "Epochs: 18 Reward: 200.0:  95%|█████████▌| 19/20 [03:18<00:14, 14.55s/it]"
          ]
        },
        {
          "output_type": "stream",
          "name": "stdout",
          "text": [
            "Moviepy - Building video /content/video/rl-video-episode-0.mp4.\n",
            "Moviepy - Writing video /content/video/rl-video-episode-0.mp4\n",
            "\n"
          ]
        },
        {
          "output_type": "stream",
          "name": "stderr",
          "text": [
            "\n",
            "t:   0%|          | 0/202 [00:00<?, ?it/s, now=None]\u001b[A\n",
            "t:  21%|██▏       | 43/202 [00:00<00:00, 425.71it/s, now=None]\u001b[A\n",
            "t:  43%|████▎     | 86/202 [00:00<00:00, 330.26it/s, now=None]\u001b[A\n",
            "t:  60%|█████▉    | 121/202 [00:00<00:00, 326.92it/s, now=None]\u001b[A\n",
            "t:  77%|███████▋  | 155/202 [00:00<00:00, 318.94it/s, now=None]\u001b[A\n",
            "t:  93%|█████████▎| 188/202 [00:00<00:00, 320.63it/s, now=None]\u001b[A\n",
            "Epochs: 18 Reward: 200.0:  95%|█████████▌| 19/20 [03:18<00:14, 14.55s/it]"
          ]
        },
        {
          "output_type": "stream",
          "name": "stdout",
          "text": [
            "Moviepy - Done !\n",
            "Moviepy - video ready /content/video/rl-video-episode-0.mp4\n"
          ]
        },
        {
          "output_type": "stream",
          "name": "stderr",
          "text": [
            "Epochs: 18 Reward: 200.0:  95%|█████████▌| 19/20 [03:19<00:14, 14.55s/it]"
          ]
        },
        {
          "output_type": "stream",
          "name": "stdout",
          "text": [
            "Moviepy - Building video /content/video/rl-video-episode-0.mp4.\n",
            "Moviepy - Writing video /content/video/rl-video-episode-0.mp4\n",
            "\n"
          ]
        },
        {
          "output_type": "stream",
          "name": "stderr",
          "text": [
            "\n",
            "t:   0%|          | 0/202 [00:00<?, ?it/s, now=None]\u001b[A\n",
            "t:  17%|█▋        | 34/202 [00:00<00:00, 334.32it/s, now=None]\u001b[A\n",
            "t:  34%|███▎      | 68/202 [00:00<00:00, 287.29it/s, now=None]\u001b[A\n",
            "t:  49%|████▊     | 98/202 [00:00<00:00, 287.73it/s, now=None]\u001b[A\n",
            "t:  63%|██████▎   | 128/202 [00:00<00:00, 285.76it/s, now=None]\u001b[A\n",
            "t:  78%|███████▊  | 157/202 [00:00<00:00, 279.91it/s, now=None]\u001b[A\n",
            "t:  93%|█████████▎| 188/202 [00:00<00:00, 287.39it/s, now=None]\u001b[A\n",
            "Epochs: 18 Reward: 200.0:  95%|█████████▌| 19/20 [03:20<00:14, 14.55s/it]"
          ]
        },
        {
          "output_type": "stream",
          "name": "stdout",
          "text": [
            "Moviepy - Done !\n",
            "Moviepy - video ready /content/video/rl-video-episode-0.mp4\n"
          ]
        },
        {
          "output_type": "stream",
          "name": "stderr",
          "text": [
            "Epochs: 18 Reward: 200.0:  95%|█████████▌| 19/20 [03:21<00:14, 14.55s/it]"
          ]
        },
        {
          "output_type": "stream",
          "name": "stdout",
          "text": [
            "Moviepy - Building video /content/video/rl-video-episode-0.mp4.\n",
            "Moviepy - Writing video /content/video/rl-video-episode-0.mp4\n",
            "\n"
          ]
        },
        {
          "output_type": "stream",
          "name": "stderr",
          "text": [
            "\n",
            "t:   0%|          | 0/202 [00:00<?, ?it/s, now=None]\u001b[A\n",
            "t:  21%|██        | 42/202 [00:00<00:00, 419.65it/s, now=None]\u001b[A\n",
            "t:  42%|████▏     | 84/202 [00:00<00:00, 325.45it/s, now=None]\u001b[A\n",
            "t:  58%|█████▊    | 118/202 [00:00<00:00, 321.39it/s, now=None]\u001b[A\n",
            "t:  75%|███████▍  | 151/202 [00:00<00:00, 305.26it/s, now=None]\u001b[A\n",
            "t:  90%|█████████ | 182/202 [00:00<00:00, 305.04it/s, now=None]\u001b[A\n",
            "Epochs: 18 Reward: 200.0:  95%|█████████▌| 19/20 [03:22<00:14, 14.55s/it]"
          ]
        },
        {
          "output_type": "stream",
          "name": "stdout",
          "text": [
            "Moviepy - Done !\n",
            "Moviepy - video ready /content/video/rl-video-episode-0.mp4\n"
          ]
        },
        {
          "output_type": "stream",
          "name": "stderr",
          "text": [
            "Epochs: 18 Reward: 200.0:  95%|█████████▌| 19/20 [03:22<00:14, 14.55s/it]"
          ]
        },
        {
          "output_type": "stream",
          "name": "stdout",
          "text": [
            "Moviepy - Building video /content/video/rl-video-episode-0.mp4.\n",
            "Moviepy - Writing video /content/video/rl-video-episode-0.mp4\n",
            "\n"
          ]
        },
        {
          "output_type": "stream",
          "name": "stderr",
          "text": [
            "\n",
            "t:   0%|          | 0/202 [00:00<?, ?it/s, now=None]\u001b[A\n",
            "t:  21%|██▏       | 43/202 [00:00<00:00, 426.09it/s, now=None]\u001b[A\n",
            "t:  43%|████▎     | 86/202 [00:00<00:00, 327.31it/s, now=None]\u001b[A\n",
            "t:  60%|█████▉    | 121/202 [00:00<00:00, 324.24it/s, now=None]\u001b[A\n",
            "t:  77%|███████▋  | 155/202 [00:00<00:00, 318.44it/s, now=None]\u001b[A\n",
            "t:  93%|█████████▎| 188/202 [00:00<00:00, 321.68it/s, now=None]\u001b[A\n",
            "Epochs: 18 Reward: 200.0:  95%|█████████▌| 19/20 [03:23<00:14, 14.55s/it]"
          ]
        },
        {
          "output_type": "stream",
          "name": "stdout",
          "text": [
            "Moviepy - Done !\n",
            "Moviepy - video ready /content/video/rl-video-episode-0.mp4\n"
          ]
        },
        {
          "output_type": "stream",
          "name": "stderr",
          "text": [
            "Epochs: 18 Reward: 200.0:  95%|█████████▌| 19/20 [03:24<00:14, 14.55s/it]"
          ]
        },
        {
          "output_type": "stream",
          "name": "stdout",
          "text": [
            "Moviepy - Building video /content/video/rl-video-episode-0.mp4.\n",
            "Moviepy - Writing video /content/video/rl-video-episode-0.mp4\n",
            "\n"
          ]
        },
        {
          "output_type": "stream",
          "name": "stderr",
          "text": [
            "\n",
            "t:   0%|          | 0/202 [00:00<?, ?it/s, now=None]\u001b[A\n",
            "t:  20%|██        | 41/202 [00:00<00:00, 403.41it/s, now=None]\u001b[A\n",
            "t:  41%|████      | 82/202 [00:00<00:00, 328.65it/s, now=None]\u001b[A\n",
            "t:  57%|█████▋    | 116/202 [00:00<00:00, 327.28it/s, now=None]\u001b[A\n",
            "t:  74%|███████▍  | 150/202 [00:00<00:00, 325.11it/s, now=None]\u001b[A\n",
            "t:  91%|█████████ | 183/202 [00:00<00:00, 306.03it/s, now=None]\u001b[A\n",
            "Epochs: 18 Reward: 200.0:  95%|█████████▌| 19/20 [03:25<00:14, 14.55s/it]"
          ]
        },
        {
          "output_type": "stream",
          "name": "stdout",
          "text": [
            "Moviepy - Done !\n",
            "Moviepy - video ready /content/video/rl-video-episode-0.mp4\n"
          ]
        },
        {
          "output_type": "stream",
          "name": "stderr",
          "text": [
            "Epochs: 18 Reward: 200.0:  95%|█████████▌| 19/20 [03:25<00:14, 14.55s/it]"
          ]
        },
        {
          "output_type": "stream",
          "name": "stdout",
          "text": [
            "Moviepy - Building video /content/video/rl-video-episode-0.mp4.\n",
            "Moviepy - Writing video /content/video/rl-video-episode-0.mp4\n",
            "\n"
          ]
        },
        {
          "output_type": "stream",
          "name": "stderr",
          "text": [
            "\n",
            "t:   0%|          | 0/202 [00:00<?, ?it/s, now=None]\u001b[A\n",
            "t:  19%|█▉        | 38/202 [00:00<00:00, 375.60it/s, now=None]\u001b[A\n",
            "t:  38%|███▊      | 76/202 [00:00<00:00, 237.73it/s, now=None]\u001b[A\n",
            "t:  51%|█████     | 103/202 [00:00<00:00, 217.84it/s, now=None]\u001b[A\n",
            "t:  63%|██████▎   | 127/202 [00:00<00:00, 206.42it/s, now=None]\u001b[A\n",
            "t:  74%|███████▍  | 149/202 [00:00<00:00, 201.64it/s, now=None]\u001b[A\n",
            "t:  84%|████████▍ | 170/202 [00:00<00:00, 194.68it/s, now=None]\u001b[A\n",
            "t:  94%|█████████▍| 190/202 [00:00<00:00, 189.76it/s, now=None]\u001b[A\n",
            "Epochs: 18 Reward: 200.0:  95%|█████████▌| 19/20 [03:26<00:14, 14.55s/it]"
          ]
        },
        {
          "output_type": "stream",
          "name": "stdout",
          "text": [
            "Moviepy - Done !\n",
            "Moviepy - video ready /content/video/rl-video-episode-0.mp4\n"
          ]
        },
        {
          "output_type": "stream",
          "name": "stderr",
          "text": [
            "Epochs: 18 Reward: 200.0:  95%|█████████▌| 19/20 [03:28<00:14, 14.55s/it]"
          ]
        },
        {
          "output_type": "stream",
          "name": "stdout",
          "text": [
            "Moviepy - Building video /content/video/rl-video-episode-0.mp4.\n",
            "Moviepy - Writing video /content/video/rl-video-episode-0.mp4\n",
            "\n"
          ]
        },
        {
          "output_type": "stream",
          "name": "stderr",
          "text": [
            "\n",
            "t:   0%|          | 0/202 [00:00<?, ?it/s, now=None]\u001b[A\n",
            "t:  14%|█▍        | 28/202 [00:00<00:00, 277.06it/s, now=None]\u001b[A\n",
            "t:  28%|██▊       | 56/202 [00:00<00:00, 246.09it/s, now=None]\u001b[A\n",
            "t:  43%|████▎     | 87/202 [00:00<00:00, 271.26it/s, now=None]\u001b[A\n",
            "t:  58%|█████▊    | 117/202 [00:00<00:00, 282.04it/s, now=None]\u001b[A\n",
            "t:  74%|███████▍  | 149/202 [00:00<00:00, 294.88it/s, now=None]\u001b[A\n",
            "t:  90%|█████████ | 182/202 [00:00<00:00, 304.88it/s, now=None]\u001b[A\n",
            "Epochs: 18 Reward: 200.0:  95%|█████████▌| 19/20 [03:29<00:14, 14.55s/it]"
          ]
        },
        {
          "output_type": "stream",
          "name": "stdout",
          "text": [
            "Moviepy - Done !\n",
            "Moviepy - video ready /content/video/rl-video-episode-0.mp4\n"
          ]
        },
        {
          "output_type": "stream",
          "name": "stderr",
          "text": [
            "Epochs: 18 Reward: 200.0:  95%|█████████▌| 19/20 [03:29<00:14, 14.55s/it]"
          ]
        },
        {
          "output_type": "stream",
          "name": "stdout",
          "text": [
            "Moviepy - Building video /content/video/rl-video-episode-0.mp4.\n",
            "Moviepy - Writing video /content/video/rl-video-episode-0.mp4\n",
            "\n"
          ]
        },
        {
          "output_type": "stream",
          "name": "stderr",
          "text": [
            "\n",
            "t:   0%|          | 0/202 [00:00<?, ?it/s, now=None]\u001b[A\n",
            "t:  21%|██        | 42/202 [00:00<00:00, 419.26it/s, now=None]\u001b[A\n",
            "t:  42%|████▏     | 84/202 [00:00<00:00, 309.93it/s, now=None]\u001b[A\n",
            "t:  58%|█████▊    | 117/202 [00:00<00:00, 308.42it/s, now=None]\u001b[A\n",
            "t:  74%|███████▍  | 149/202 [00:00<00:00, 309.48it/s, now=None]\u001b[A\n",
            "t:  90%|████████▉ | 181/202 [00:00<00:00, 312.76it/s, now=None]\u001b[A\n",
            "Epochs: 18 Reward: 200.0:  95%|█████████▌| 19/20 [03:30<00:14, 14.55s/it]"
          ]
        },
        {
          "output_type": "stream",
          "name": "stdout",
          "text": [
            "Moviepy - Done !\n",
            "Moviepy - video ready /content/video/rl-video-episode-0.mp4\n"
          ]
        },
        {
          "output_type": "stream",
          "name": "stderr",
          "text": [
            "Epochs: 18 Reward: 200.0:  95%|█████████▌| 19/20 [03:31<00:14, 14.55s/it]"
          ]
        },
        {
          "output_type": "stream",
          "name": "stdout",
          "text": [
            "Moviepy - Building video /content/video/rl-video-episode-0.mp4.\n",
            "Moviepy - Writing video /content/video/rl-video-episode-0.mp4\n",
            "\n"
          ]
        },
        {
          "output_type": "stream",
          "name": "stderr",
          "text": [
            "\n",
            "t:   0%|          | 0/202 [00:00<?, ?it/s, now=None]\u001b[A\n",
            "t:  20%|█▉        | 40/202 [00:00<00:00, 394.92it/s, now=None]\u001b[A\n",
            "t:  40%|███▉      | 80/202 [00:00<00:00, 324.39it/s, now=None]\u001b[A\n",
            "t:  56%|█████▋    | 114/202 [00:00<00:00, 322.07it/s, now=None]\u001b[A\n",
            "t:  73%|███████▎  | 147/202 [00:00<00:00, 312.47it/s, now=None]\u001b[A\n",
            "t:  89%|████████▊ | 179/202 [00:00<00:00, 311.70it/s, now=None]\u001b[A\n",
            "Epochs: 18 Reward: 200.0:  95%|█████████▌| 19/20 [03:32<00:14, 14.55s/it]"
          ]
        },
        {
          "output_type": "stream",
          "name": "stdout",
          "text": [
            "Moviepy - Done !\n",
            "Moviepy - video ready /content/video/rl-video-episode-0.mp4\n"
          ]
        },
        {
          "output_type": "stream",
          "name": "stderr",
          "text": [
            "Epochs: 18 Reward: 200.0:  95%|█████████▌| 19/20 [03:32<00:14, 14.55s/it]"
          ]
        },
        {
          "output_type": "stream",
          "name": "stdout",
          "text": [
            "Moviepy - Building video /content/video/rl-video-episode-0.mp4.\n",
            "Moviepy - Writing video /content/video/rl-video-episode-0.mp4\n",
            "\n"
          ]
        },
        {
          "output_type": "stream",
          "name": "stderr",
          "text": [
            "\n",
            "t:   0%|          | 0/202 [00:00<?, ?it/s, now=None]\u001b[A\n",
            "t:  20%|██        | 41/202 [00:00<00:00, 403.65it/s, now=None]\u001b[A\n",
            "t:  41%|████      | 82/202 [00:00<00:00, 322.84it/s, now=None]\u001b[A\n",
            "t:  57%|█████▋    | 116/202 [00:00<00:00, 308.25it/s, now=None]\u001b[A\n",
            "t:  73%|███████▎  | 148/202 [00:00<00:00, 303.56it/s, now=None]\u001b[A\n",
            "t:  89%|████████▉ | 180/202 [00:00<00:00, 307.40it/s, now=None]\u001b[A\n",
            "Epochs: 18 Reward: 200.0:  95%|█████████▌| 19/20 [03:33<00:14, 14.55s/it]"
          ]
        },
        {
          "output_type": "stream",
          "name": "stdout",
          "text": [
            "Moviepy - Done !\n",
            "Moviepy - video ready /content/video/rl-video-episode-0.mp4\n"
          ]
        },
        {
          "output_type": "stream",
          "name": "stderr",
          "text": [
            "Epochs: 18 Reward: 200.0:  95%|█████████▌| 19/20 [03:34<00:14, 14.55s/it]"
          ]
        },
        {
          "output_type": "stream",
          "name": "stdout",
          "text": [
            "Moviepy - Building video /content/video/rl-video-episode-0.mp4.\n",
            "Moviepy - Writing video /content/video/rl-video-episode-0.mp4\n",
            "\n"
          ]
        },
        {
          "output_type": "stream",
          "name": "stderr",
          "text": [
            "\n",
            "t:   0%|          | 0/202 [00:00<?, ?it/s, now=None]\u001b[A\n",
            "t:  21%|██▏       | 43/202 [00:00<00:00, 426.64it/s, now=None]\u001b[A\n",
            "t:  43%|████▎     | 86/202 [00:00<00:00, 320.26it/s, now=None]\u001b[A\n",
            "t:  59%|█████▉    | 120/202 [00:00<00:00, 316.53it/s, now=None]\u001b[A\n",
            "t:  76%|███████▌  | 153/202 [00:00<00:00, 312.52it/s, now=None]\u001b[A\n",
            "t:  92%|█████████▏| 185/202 [00:00<00:00, 304.48it/s, now=None]\u001b[A\n",
            "Epochs: 18 Reward: 200.0:  95%|█████████▌| 19/20 [03:35<00:14, 14.55s/it]"
          ]
        },
        {
          "output_type": "stream",
          "name": "stdout",
          "text": [
            "Moviepy - Done !\n",
            "Moviepy - video ready /content/video/rl-video-episode-0.mp4\n"
          ]
        },
        {
          "output_type": "stream",
          "name": "stderr",
          "text": [
            "Epochs: 18 Reward: 200.0:  95%|█████████▌| 19/20 [03:35<00:14, 14.55s/it]"
          ]
        },
        {
          "output_type": "stream",
          "name": "stdout",
          "text": [
            "Moviepy - Building video /content/video/rl-video-episode-0.mp4.\n",
            "Moviepy - Writing video /content/video/rl-video-episode-0.mp4\n",
            "\n"
          ]
        },
        {
          "output_type": "stream",
          "name": "stderr",
          "text": [
            "\n",
            "t:   0%|          | 0/202 [00:00<?, ?it/s, now=None]\u001b[A\n",
            "t:  20%|██        | 41/202 [00:00<00:00, 406.46it/s, now=None]\u001b[A\n",
            "t:  41%|████      | 82/202 [00:00<00:00, 331.12it/s, now=None]\u001b[A\n",
            "t:  57%|█████▋    | 116/202 [00:00<00:00, 311.86it/s, now=None]\u001b[A\n",
            "t:  74%|███████▍  | 149/202 [00:00<00:00, 316.03it/s, now=None]\u001b[A\n",
            "t:  90%|████████▉ | 181/202 [00:00<00:00, 315.04it/s, now=None]\u001b[A\n",
            "Epochs: 18 Reward: 200.0:  95%|█████████▌| 19/20 [03:36<00:14, 14.55s/it]"
          ]
        },
        {
          "output_type": "stream",
          "name": "stdout",
          "text": [
            "Moviepy - Done !\n",
            "Moviepy - video ready /content/video/rl-video-episode-0.mp4\n"
          ]
        },
        {
          "output_type": "stream",
          "name": "stderr",
          "text": [
            "Epochs: 18 Reward: 200.0:  95%|█████████▌| 19/20 [03:37<00:14, 14.55s/it]"
          ]
        },
        {
          "output_type": "stream",
          "name": "stdout",
          "text": [
            "Moviepy - Building video /content/video/rl-video-episode-0.mp4.\n",
            "Moviepy - Writing video /content/video/rl-video-episode-0.mp4\n",
            "\n"
          ]
        },
        {
          "output_type": "stream",
          "name": "stderr",
          "text": [
            "\n",
            "t:   0%|          | 0/202 [00:00<?, ?it/s, now=None]\u001b[A\n",
            "t:  20%|██        | 41/202 [00:00<00:00, 407.46it/s, now=None]\u001b[A\n",
            "t:  41%|████      | 82/202 [00:00<00:00, 323.05it/s, now=None]\u001b[A\n",
            "t:  57%|█████▋    | 116/202 [00:00<00:00, 322.76it/s, now=None]\u001b[A\n",
            "t:  74%|███████▍  | 149/202 [00:00<00:00, 312.06it/s, now=None]\u001b[A\n",
            "t:  90%|████████▉ | 181/202 [00:00<00:00, 314.14it/s, now=None]\u001b[A\n",
            "Epochs: 18 Reward: 200.0:  95%|█████████▌| 19/20 [03:38<00:14, 14.55s/it]"
          ]
        },
        {
          "output_type": "stream",
          "name": "stdout",
          "text": [
            "Moviepy - Done !\n",
            "Moviepy - video ready /content/video/rl-video-episode-0.mp4\n"
          ]
        },
        {
          "output_type": "stream",
          "name": "stderr",
          "text": [
            "Epochs: 18 Reward: 200.0:  95%|█████████▌| 19/20 [03:39<00:14, 14.55s/it]"
          ]
        },
        {
          "output_type": "stream",
          "name": "stdout",
          "text": [
            "Moviepy - Building video /content/video/rl-video-episode-0.mp4.\n",
            "Moviepy - Writing video /content/video/rl-video-episode-0.mp4\n",
            "\n"
          ]
        },
        {
          "output_type": "stream",
          "name": "stderr",
          "text": [
            "\n",
            "t:   0%|          | 0/202 [00:00<?, ?it/s, now=None]\u001b[A\n",
            "t:  10%|█         | 21/202 [00:00<00:00, 206.41it/s, now=None]\u001b[A\n",
            "t:  24%|██▍       | 48/202 [00:00<00:00, 220.50it/s, now=None]\u001b[A\n",
            "t:  35%|███▍      | 70/202 [00:00<00:00, 201.00it/s, now=None]\u001b[A\n",
            "t:  46%|████▌     | 92/202 [00:00<00:00, 207.70it/s, now=None]\u001b[A\n",
            "t:  56%|█████▋    | 114/202 [00:00<00:00, 206.86it/s, now=None]\u001b[A\n",
            "t:  67%|██████▋   | 135/202 [00:00<00:00, 204.70it/s, now=None]\u001b[A\n",
            "t:  78%|███████▊  | 157/202 [00:00<00:00, 207.59it/s, now=None]\u001b[A\n",
            "t:  88%|████████▊ | 178/202 [00:00<00:00, 204.34it/s, now=None]\u001b[A\n",
            "t:  99%|█████████▉| 200/202 [00:00<00:00, 207.92it/s, now=None]\u001b[A\n",
            "Epochs: 18 Reward: 200.0:  95%|█████████▌| 19/20 [03:40<00:14, 14.55s/it]"
          ]
        },
        {
          "output_type": "stream",
          "name": "stdout",
          "text": [
            "Moviepy - Done !\n",
            "Moviepy - video ready /content/video/rl-video-episode-0.mp4\n"
          ]
        },
        {
          "output_type": "stream",
          "name": "stderr",
          "text": [
            "Epochs: 18 Reward: 200.0:  95%|█████████▌| 19/20 [03:41<00:14, 14.55s/it]"
          ]
        },
        {
          "output_type": "stream",
          "name": "stdout",
          "text": [
            "Moviepy - Building video /content/video/rl-video-episode-0.mp4.\n",
            "Moviepy - Writing video /content/video/rl-video-episode-0.mp4\n",
            "\n"
          ]
        },
        {
          "output_type": "stream",
          "name": "stderr",
          "text": [
            "\n",
            "t:   0%|          | 0/202 [00:00<?, ?it/s, now=None]\u001b[A\n",
            "t:  21%|██        | 42/202 [00:00<00:00, 414.21it/s, now=None]\u001b[A\n",
            "t:  42%|████▏     | 84/202 [00:00<00:00, 313.96it/s, now=None]\u001b[A\n",
            "t:  58%|█████▊    | 117/202 [00:00<00:00, 319.35it/s, now=None]\u001b[A\n",
            "t:  74%|███████▍  | 150/202 [00:00<00:00, 318.40it/s, now=None]\u001b[A\n",
            "t:  91%|█████████ | 183/202 [00:00<00:00, 315.31it/s, now=None]\u001b[A\n",
            "Epochs: 18 Reward: 200.0:  95%|█████████▌| 19/20 [03:41<00:14, 14.55s/it]"
          ]
        },
        {
          "output_type": "stream",
          "name": "stdout",
          "text": [
            "Moviepy - Done !\n",
            "Moviepy - video ready /content/video/rl-video-episode-0.mp4\n"
          ]
        },
        {
          "output_type": "stream",
          "name": "stderr",
          "text": [
            "Epochs: 18 Reward: 200.0:  95%|█████████▌| 19/20 [03:42<00:14, 14.55s/it]"
          ]
        },
        {
          "output_type": "stream",
          "name": "stdout",
          "text": [
            "Moviepy - Building video /content/video/rl-video-episode-0.mp4.\n",
            "Moviepy - Writing video /content/video/rl-video-episode-0.mp4\n",
            "\n"
          ]
        },
        {
          "output_type": "stream",
          "name": "stderr",
          "text": [
            "\n",
            "t:   0%|          | 0/202 [00:00<?, ?it/s, now=None]\u001b[A\n",
            "t:  20%|█▉        | 40/202 [00:00<00:00, 394.18it/s, now=None]\u001b[A\n",
            "t:  40%|███▉      | 80/202 [00:00<00:00, 317.25it/s, now=None]\u001b[A\n",
            "t:  56%|█████▌    | 113/202 [00:00<00:00, 319.63it/s, now=None]\u001b[A\n",
            "t:  72%|███████▏  | 146/202 [00:00<00:00, 320.05it/s, now=None]\u001b[A\n",
            "t:  89%|████████▊ | 179/202 [00:00<00:00, 319.21it/s, now=None]\u001b[A\n",
            "Epochs: 18 Reward: 200.0:  95%|█████████▌| 19/20 [03:43<00:14, 14.55s/it]"
          ]
        },
        {
          "output_type": "stream",
          "name": "stdout",
          "text": [
            "Moviepy - Done !\n",
            "Moviepy - video ready /content/video/rl-video-episode-0.mp4\n"
          ]
        },
        {
          "output_type": "stream",
          "name": "stderr",
          "text": [
            "Epochs: 18 Reward: 200.0:  95%|█████████▌| 19/20 [03:44<00:14, 14.55s/it]"
          ]
        },
        {
          "output_type": "stream",
          "name": "stdout",
          "text": [
            "Moviepy - Building video /content/video/rl-video-episode-0.mp4.\n",
            "Moviepy - Writing video /content/video/rl-video-episode-0.mp4\n",
            "\n"
          ]
        },
        {
          "output_type": "stream",
          "name": "stderr",
          "text": [
            "\n",
            "t:   0%|          | 0/202 [00:00<?, ?it/s, now=None]\u001b[A\n",
            "t:  20%|██        | 41/202 [00:00<00:00, 402.14it/s, now=None]\u001b[A\n",
            "t:  41%|████      | 82/202 [00:00<00:00, 332.30it/s, now=None]\u001b[A\n",
            "t:  57%|█████▋    | 116/202 [00:00<00:00, 312.91it/s, now=None]\u001b[A\n",
            "t:  74%|███████▍  | 149/202 [00:00<00:00, 316.34it/s, now=None]\u001b[A\n",
            "t:  90%|████████▉ | 181/202 [00:00<00:00, 317.24it/s, now=None]\u001b[A\n",
            "Epochs: 18 Reward: 200.0:  95%|█████████▌| 19/20 [03:44<00:14, 14.55s/it]"
          ]
        },
        {
          "output_type": "stream",
          "name": "stdout",
          "text": [
            "Moviepy - Done !\n",
            "Moviepy - video ready /content/video/rl-video-episode-0.mp4\n"
          ]
        },
        {
          "output_type": "stream",
          "name": "stderr",
          "text": [
            "Epochs: 18 Reward: 200.0:  95%|█████████▌| 19/20 [03:45<00:14, 14.55s/it]"
          ]
        },
        {
          "output_type": "stream",
          "name": "stdout",
          "text": [
            "Moviepy - Building video /content/video/rl-video-episode-0.mp4.\n",
            "Moviepy - Writing video /content/video/rl-video-episode-0.mp4\n",
            "\n"
          ]
        },
        {
          "output_type": "stream",
          "name": "stderr",
          "text": [
            "\n",
            "t:   0%|          | 0/202 [00:00<?, ?it/s, now=None]\u001b[A\n",
            "t:  18%|█▊        | 36/202 [00:00<00:00, 359.86it/s, now=None]\u001b[A\n",
            "t:  36%|███▌      | 72/202 [00:00<00:00, 312.76it/s, now=None]\u001b[A\n",
            "t:  51%|█████▏    | 104/202 [00:00<00:00, 314.07it/s, now=None]\u001b[A\n",
            "t:  67%|██████▋   | 136/202 [00:00<00:00, 311.27it/s, now=None]\u001b[A\n",
            "t:  83%|████████▎ | 168/202 [00:00<00:00, 310.55it/s, now=None]\u001b[A\n",
            "t:  99%|█████████▉| 200/202 [00:00<00:00, 309.61it/s, now=None]\u001b[A\n",
            "Epochs: 18 Reward: 200.0:  95%|█████████▌| 19/20 [03:46<00:14, 14.55s/it]"
          ]
        },
        {
          "output_type": "stream",
          "name": "stdout",
          "text": [
            "Moviepy - Done !\n",
            "Moviepy - video ready /content/video/rl-video-episode-0.mp4\n"
          ]
        },
        {
          "output_type": "stream",
          "name": "stderr",
          "text": [
            "Epochs: 18 Reward: 200.0:  95%|█████████▌| 19/20 [03:47<00:14, 14.55s/it]"
          ]
        },
        {
          "output_type": "stream",
          "name": "stdout",
          "text": [
            "Moviepy - Building video /content/video/rl-video-episode-0.mp4.\n",
            "Moviepy - Writing video /content/video/rl-video-episode-0.mp4\n",
            "\n"
          ]
        },
        {
          "output_type": "stream",
          "name": "stderr",
          "text": [
            "\n",
            "t:   0%|          | 0/202 [00:00<?, ?it/s, now=None]\u001b[A\n",
            "t:  21%|██        | 42/202 [00:00<00:00, 415.41it/s, now=None]\u001b[A\n",
            "t:  42%|████▏     | 84/202 [00:00<00:00, 326.14it/s, now=None]\u001b[A\n",
            "t:  58%|█████▊    | 118/202 [00:00<00:00, 317.83it/s, now=None]\u001b[A\n",
            "t:  75%|███████▍  | 151/202 [00:00<00:00, 302.34it/s, now=None]\u001b[A\n",
            "t:  90%|█████████ | 182/202 [00:00<00:00, 301.84it/s, now=None]\u001b[A\n",
            "Epochs: 18 Reward: 200.0:  95%|█████████▌| 19/20 [03:47<00:14, 14.55s/it]"
          ]
        },
        {
          "output_type": "stream",
          "name": "stdout",
          "text": [
            "Moviepy - Done !\n",
            "Moviepy - video ready /content/video/rl-video-episode-0.mp4\n"
          ]
        },
        {
          "output_type": "stream",
          "name": "stderr",
          "text": [
            "Epochs: 18 Reward: 200.0:  95%|█████████▌| 19/20 [03:48<00:14, 14.55s/it]"
          ]
        },
        {
          "output_type": "stream",
          "name": "stdout",
          "text": [
            "Moviepy - Building video /content/video/rl-video-episode-0.mp4.\n",
            "Moviepy - Writing video /content/video/rl-video-episode-0.mp4\n",
            "\n"
          ]
        },
        {
          "output_type": "stream",
          "name": "stderr",
          "text": [
            "\n",
            "t:   0%|          | 0/202 [00:00<?, ?it/s, now=None]\u001b[A\n",
            "t:  21%|██        | 42/202 [00:00<00:00, 412.66it/s, now=None]\u001b[A\n",
            "t:  42%|████▏     | 84/202 [00:00<00:00, 310.26it/s, now=None]\u001b[A\n",
            "t:  58%|█████▊    | 117/202 [00:00<00:00, 305.38it/s, now=None]\u001b[A\n",
            "t:  74%|███████▍  | 149/202 [00:00<00:00, 305.04it/s, now=None]\u001b[A\n",
            "t:  90%|████████▉ | 181/202 [00:00<00:00, 308.15it/s, now=None]\u001b[A\n",
            "Epochs: 18 Reward: 200.0:  95%|█████████▌| 19/20 [03:49<00:14, 14.55s/it]"
          ]
        },
        {
          "output_type": "stream",
          "name": "stdout",
          "text": [
            "Moviepy - Done !\n",
            "Moviepy - video ready /content/video/rl-video-episode-0.mp4\n"
          ]
        },
        {
          "output_type": "stream",
          "name": "stderr",
          "text": [
            "Epochs: 18 Reward: 200.0:  95%|█████████▌| 19/20 [03:50<00:14, 14.55s/it]"
          ]
        },
        {
          "output_type": "stream",
          "name": "stdout",
          "text": [
            "Moviepy - Building video /content/video/rl-video-episode-0.mp4.\n",
            "Moviepy - Writing video /content/video/rl-video-episode-0.mp4\n",
            "\n"
          ]
        },
        {
          "output_type": "stream",
          "name": "stderr",
          "text": [
            "\n",
            "t:   0%|          | 0/202 [00:00<?, ?it/s, now=None]\u001b[A\n",
            "t:  19%|█▉        | 38/202 [00:00<00:00, 378.25it/s, now=None]\u001b[A\n",
            "t:  38%|███▊      | 76/202 [00:00<00:00, 311.16it/s, now=None]\u001b[A\n",
            "t:  53%|█████▎    | 108/202 [00:00<00:00, 301.48it/s, now=None]\u001b[A\n",
            "t:  69%|██████▉   | 139/202 [00:00<00:00, 284.92it/s, now=None]\u001b[A\n",
            "t:  84%|████████▍ | 170/202 [00:00<00:00, 290.83it/s, now=None]\u001b[A\n",
            "t: 100%|██████████| 202/202 [00:00<00:00, 296.08it/s, now=None]\u001b[A\n",
            "Epochs: 18 Reward: 200.0:  95%|█████████▌| 19/20 [03:51<00:14, 14.55s/it]"
          ]
        },
        {
          "output_type": "stream",
          "name": "stdout",
          "text": [
            "Moviepy - Done !\n",
            "Moviepy - video ready /content/video/rl-video-episode-0.mp4\n"
          ]
        },
        {
          "output_type": "stream",
          "name": "stderr",
          "text": [
            "Epochs: 18 Reward: 200.0:  95%|█████████▌| 19/20 [03:52<00:14, 14.55s/it]"
          ]
        },
        {
          "output_type": "stream",
          "name": "stdout",
          "text": [
            "Moviepy - Building video /content/video/rl-video-episode-0.mp4.\n",
            "Moviepy - Writing video /content/video/rl-video-episode-0.mp4\n",
            "\n"
          ]
        },
        {
          "output_type": "stream",
          "name": "stderr",
          "text": [
            "\n",
            "t:   0%|          | 0/202 [00:00<?, ?it/s, now=None]\u001b[A\n",
            "t:   9%|▉         | 19/202 [00:00<00:00, 187.54it/s, now=None]\u001b[A\n",
            "t:  24%|██▍       | 48/202 [00:00<00:00, 227.23it/s, now=None]\u001b[A\n",
            "t:  35%|███▌      | 71/202 [00:00<00:00, 188.69it/s, now=None]\u001b[A\n",
            "t:  45%|████▌     | 91/202 [00:00<00:00, 173.83it/s, now=None]\u001b[A\n",
            "t:  54%|█████▍    | 109/202 [00:00<00:00, 175.52it/s, now=None]\u001b[A\n",
            "t:  64%|██████▍   | 129/202 [00:00<00:00, 182.10it/s, now=None]\u001b[A\n",
            "t:  73%|███████▎  | 148/202 [00:00<00:00, 181.85it/s, now=None]\u001b[A\n",
            "t:  84%|████████▎ | 169/202 [00:00<00:00, 189.54it/s, now=None]\u001b[A\n",
            "t:  94%|█████████▎| 189/202 [00:01<00:00, 190.18it/s, now=None]\u001b[A\n",
            "Epochs: 18 Reward: 200.0:  95%|█████████▌| 19/20 [03:53<00:14, 14.55s/it]"
          ]
        },
        {
          "output_type": "stream",
          "name": "stdout",
          "text": [
            "Moviepy - Done !\n",
            "Moviepy - video ready /content/video/rl-video-episode-0.mp4\n"
          ]
        },
        {
          "output_type": "stream",
          "name": "stderr",
          "text": [
            "Epochs: 18 Reward: 200.0:  95%|█████████▌| 19/20 [03:54<00:14, 14.55s/it]"
          ]
        },
        {
          "output_type": "stream",
          "name": "stdout",
          "text": [
            "Moviepy - Building video /content/video/rl-video-episode-0.mp4.\n",
            "Moviepy - Writing video /content/video/rl-video-episode-0.mp4\n",
            "\n"
          ]
        },
        {
          "output_type": "stream",
          "name": "stderr",
          "text": [
            "\n",
            "t:   0%|          | 0/202 [00:00<?, ?it/s, now=None]\u001b[A\n",
            "t:  21%|██▏       | 43/202 [00:00<00:00, 427.95it/s, now=None]\u001b[A\n",
            "t:  43%|████▎     | 86/202 [00:00<00:00, 319.83it/s, now=None]\u001b[A\n",
            "t:  59%|█████▉    | 120/202 [00:00<00:00, 306.45it/s, now=None]\u001b[A\n",
            "t:  75%|███████▌  | 152/202 [00:00<00:00, 279.78it/s, now=None]\u001b[A\n",
            "t:  90%|█████████ | 182/202 [00:00<00:00, 285.73it/s, now=None]\u001b[A\n",
            "Epochs: 18 Reward: 200.0:  95%|█████████▌| 19/20 [03:55<00:14, 14.55s/it]"
          ]
        },
        {
          "output_type": "stream",
          "name": "stdout",
          "text": [
            "Moviepy - Done !\n",
            "Moviepy - video ready /content/video/rl-video-episode-0.mp4\n"
          ]
        },
        {
          "output_type": "stream",
          "name": "stderr",
          "text": [
            "Epochs: 18 Reward: 200.0:  95%|█████████▌| 19/20 [03:55<00:14, 14.55s/it]"
          ]
        },
        {
          "output_type": "stream",
          "name": "stdout",
          "text": [
            "Moviepy - Building video /content/video/rl-video-episode-0.mp4.\n",
            "Moviepy - Writing video /content/video/rl-video-episode-0.mp4\n",
            "\n"
          ]
        },
        {
          "output_type": "stream",
          "name": "stderr",
          "text": [
            "\n",
            "t:   0%|          | 0/202 [00:00<?, ?it/s, now=None]\u001b[A\n",
            "t:  20%|██        | 41/202 [00:00<00:00, 405.09it/s, now=None]\u001b[A\n",
            "t:  41%|████      | 82/202 [00:00<00:00, 326.21it/s, now=None]\u001b[A\n",
            "t:  57%|█████▋    | 116/202 [00:00<00:00, 319.96it/s, now=None]\u001b[A\n",
            "t:  74%|███████▍  | 149/202 [00:00<00:00, 314.23it/s, now=None]\u001b[A\n",
            "t:  90%|████████▉ | 181/202 [00:00<00:00, 310.70it/s, now=None]\u001b[A\n",
            "Epochs: 18 Reward: 200.0:  95%|█████████▌| 19/20 [03:56<00:14, 14.55s/it]"
          ]
        },
        {
          "output_type": "stream",
          "name": "stdout",
          "text": [
            "Moviepy - Done !\n",
            "Moviepy - video ready /content/video/rl-video-episode-0.mp4\n"
          ]
        },
        {
          "output_type": "stream",
          "name": "stderr",
          "text": [
            "Epochs: 18 Reward: 200.0:  95%|█████████▌| 19/20 [03:57<00:14, 14.55s/it]"
          ]
        },
        {
          "output_type": "stream",
          "name": "stdout",
          "text": [
            "Moviepy - Building video /content/video/rl-video-episode-0.mp4.\n",
            "Moviepy - Writing video /content/video/rl-video-episode-0.mp4\n",
            "\n"
          ]
        },
        {
          "output_type": "stream",
          "name": "stderr",
          "text": [
            "\n",
            "t:   0%|          | 0/202 [00:00<?, ?it/s, now=None]\u001b[A\n",
            "t:  20%|██        | 41/202 [00:00<00:00, 406.55it/s, now=None]\u001b[A\n",
            "t:  41%|████      | 82/202 [00:00<00:00, 318.48it/s, now=None]\u001b[A\n",
            "t:  57%|█████▋    | 116/202 [00:00<00:00, 312.57it/s, now=None]\u001b[A\n",
            "t:  73%|███████▎  | 148/202 [00:00<00:00, 313.57it/s, now=None]\u001b[A\n",
            "t:  89%|████████▉ | 180/202 [00:00<00:00, 296.06it/s, now=None]\u001b[A\n",
            "Epochs: 18 Reward: 200.0:  95%|█████████▌| 19/20 [03:58<00:14, 14.55s/it]"
          ]
        },
        {
          "output_type": "stream",
          "name": "stdout",
          "text": [
            "Moviepy - Done !\n",
            "Moviepy - video ready /content/video/rl-video-episode-0.mp4\n"
          ]
        },
        {
          "output_type": "stream",
          "name": "stderr",
          "text": [
            "Epochs: 18 Reward: 200.0:  95%|█████████▌| 19/20 [03:58<00:14, 14.55s/it]"
          ]
        },
        {
          "output_type": "stream",
          "name": "stdout",
          "text": [
            "Moviepy - Building video /content/video/rl-video-episode-0.mp4.\n",
            "Moviepy - Writing video /content/video/rl-video-episode-0.mp4\n",
            "\n"
          ]
        },
        {
          "output_type": "stream",
          "name": "stderr",
          "text": [
            "\n",
            "t:   0%|          | 0/202 [00:00<?, ?it/s, now=None]\u001b[A\n",
            "t:  21%|██▏       | 43/202 [00:00<00:00, 421.09it/s, now=None]\u001b[A\n",
            "t:  43%|████▎     | 86/202 [00:00<00:00, 326.12it/s, now=None]\u001b[A\n",
            "t:  59%|█████▉    | 120/202 [00:00<00:00, 319.17it/s, now=None]\u001b[A\n",
            "t:  76%|███████▌  | 153/202 [00:00<00:00, 312.83it/s, now=None]\u001b[A\n",
            "t:  93%|█████████▎| 187/202 [00:00<00:00, 320.92it/s, now=None]\u001b[A\n",
            "Epochs: 18 Reward: 200.0:  95%|█████████▌| 19/20 [03:59<00:14, 14.55s/it]"
          ]
        },
        {
          "output_type": "stream",
          "name": "stdout",
          "text": [
            "Moviepy - Done !\n",
            "Moviepy - video ready /content/video/rl-video-episode-0.mp4\n"
          ]
        },
        {
          "output_type": "stream",
          "name": "stderr",
          "text": [
            "Epochs: 18 Reward: 200.0:  95%|█████████▌| 19/20 [04:00<00:14, 14.55s/it]"
          ]
        },
        {
          "output_type": "stream",
          "name": "stdout",
          "text": [
            "Moviepy - Building video /content/video/rl-video-episode-0.mp4.\n",
            "Moviepy - Writing video /content/video/rl-video-episode-0.mp4\n",
            "\n"
          ]
        },
        {
          "output_type": "stream",
          "name": "stderr",
          "text": [
            "\n",
            "t:   0%|          | 0/202 [00:00<?, ?it/s, now=None]\u001b[A\n",
            "t:  19%|█▉        | 38/202 [00:00<00:00, 377.64it/s, now=None]\u001b[A\n",
            "t:  38%|███▊      | 76/202 [00:00<00:00, 307.61it/s, now=None]\u001b[A\n",
            "t:  53%|█████▎    | 108/202 [00:00<00:00, 311.90it/s, now=None]\u001b[A\n",
            "t:  70%|██████▉   | 141/202 [00:00<00:00, 316.23it/s, now=None]\u001b[A\n",
            "t:  86%|████████▌ | 173/202 [00:00<00:00, 313.56it/s, now=None]\u001b[A\n",
            "Epochs: 18 Reward: 200.0:  95%|█████████▌| 19/20 [04:01<00:14, 14.55s/it]"
          ]
        },
        {
          "output_type": "stream",
          "name": "stdout",
          "text": [
            "Moviepy - Done !\n",
            "Moviepy - video ready /content/video/rl-video-episode-0.mp4\n"
          ]
        },
        {
          "output_type": "stream",
          "name": "stderr",
          "text": [
            "Epochs: 18 Reward: 200.0:  95%|█████████▌| 19/20 [04:01<00:14, 14.55s/it]"
          ]
        },
        {
          "output_type": "stream",
          "name": "stdout",
          "text": [
            "Moviepy - Building video /content/video/rl-video-episode-0.mp4.\n",
            "Moviepy - Writing video /content/video/rl-video-episode-0.mp4\n",
            "\n"
          ]
        },
        {
          "output_type": "stream",
          "name": "stderr",
          "text": [
            "\n",
            "t:   0%|          | 0/202 [00:00<?, ?it/s, now=None]\u001b[A\n",
            "t:  18%|█▊        | 36/202 [00:00<00:00, 355.38it/s, now=None]\u001b[A\n",
            "t:  36%|███▌      | 72/202 [00:00<00:00, 293.13it/s, now=None]\u001b[A\n",
            "t:  50%|█████     | 102/202 [00:00<00:00, 289.62it/s, now=None]\u001b[A\n",
            "t:  65%|██████▌   | 132/202 [00:00<00:00, 291.50it/s, now=None]\u001b[A\n",
            "t:  80%|████████  | 162/202 [00:00<00:00, 287.03it/s, now=None]\u001b[A\n",
            "t:  95%|█████████▍| 191/202 [00:00<00:00, 281.43it/s, now=None]\u001b[A\n",
            "Epochs: 18 Reward: 200.0:  95%|█████████▌| 19/20 [04:02<00:14, 14.55s/it]"
          ]
        },
        {
          "output_type": "stream",
          "name": "stdout",
          "text": [
            "Moviepy - Done !\n",
            "Moviepy - video ready /content/video/rl-video-episode-0.mp4\n"
          ]
        },
        {
          "output_type": "stream",
          "name": "stderr",
          "text": [
            "Epochs: 18 Reward: 200.0:  95%|█████████▌| 19/20 [04:03<00:14, 14.55s/it]"
          ]
        },
        {
          "output_type": "stream",
          "name": "stdout",
          "text": [
            "Moviepy - Building video /content/video/rl-video-episode-0.mp4.\n",
            "Moviepy - Writing video /content/video/rl-video-episode-0.mp4\n",
            "\n"
          ]
        },
        {
          "output_type": "stream",
          "name": "stderr",
          "text": [
            "\n",
            "t:   0%|          | 0/202 [00:00<?, ?it/s, now=None]\u001b[A\n",
            "t:  21%|██        | 42/202 [00:00<00:00, 415.81it/s, now=None]\u001b[A\n",
            "t:  42%|████▏     | 84/202 [00:00<00:00, 274.83it/s, now=None]\u001b[A\n",
            "t:  57%|█████▋    | 115/202 [00:00<00:00, 238.17it/s, now=None]\u001b[A\n",
            "t:  70%|██████▉   | 141/202 [00:00<00:00, 217.87it/s, now=None]\u001b[A\n",
            "t:  81%|████████  | 164/202 [00:00<00:00, 209.21it/s, now=None]\u001b[A\n",
            "t:  92%|█████████▏| 186/202 [00:00<00:00, 205.00it/s, now=None]\u001b[A\n",
            "Epochs: 18 Reward: 200.0:  95%|█████████▌| 19/20 [04:04<00:14, 14.55s/it]"
          ]
        },
        {
          "output_type": "stream",
          "name": "stdout",
          "text": [
            "Moviepy - Done !\n",
            "Moviepy - video ready /content/video/rl-video-episode-0.mp4\n"
          ]
        },
        {
          "output_type": "stream",
          "name": "stderr",
          "text": [
            "Epochs: 18 Reward: 200.0:  95%|█████████▌| 19/20 [04:05<00:14, 14.55s/it]"
          ]
        },
        {
          "output_type": "stream",
          "name": "stdout",
          "text": [
            "Moviepy - Building video /content/video/rl-video-episode-0.mp4.\n",
            "Moviepy - Writing video /content/video/rl-video-episode-0.mp4\n",
            "\n"
          ]
        },
        {
          "output_type": "stream",
          "name": "stderr",
          "text": [
            "\n",
            "t:   0%|          | 0/202 [00:00<?, ?it/s, now=None]\u001b[A\n",
            "t:  14%|█▍        | 28/202 [00:00<00:00, 278.74it/s, now=None]\u001b[A\n",
            "t:  28%|██▊       | 56/202 [00:00<00:00, 210.16it/s, now=None]\u001b[A\n",
            "t:  39%|███▉      | 79/202 [00:00<00:00, 205.21it/s, now=None]\u001b[A\n",
            "t:  50%|█████     | 101/202 [00:00<00:00, 188.38it/s, now=None]\u001b[A\n",
            "t:  61%|██████▏   | 124/202 [00:00<00:00, 198.98it/s, now=None]\u001b[A\n",
            "t:  76%|███████▌  | 154/202 [00:00<00:00, 227.81it/s, now=None]\u001b[A\n",
            "t:  91%|█████████ | 183/202 [00:00<00:00, 245.75it/s, now=None]\u001b[A\n",
            "Epochs: 18 Reward: 200.0:  95%|█████████▌| 19/20 [04:06<00:14, 14.55s/it]"
          ]
        },
        {
          "output_type": "stream",
          "name": "stdout",
          "text": [
            "Moviepy - Done !\n",
            "Moviepy - video ready /content/video/rl-video-episode-0.mp4\n"
          ]
        },
        {
          "output_type": "stream",
          "name": "stderr",
          "text": [
            "Epochs: 18 Reward: 200.0:  95%|█████████▌| 19/20 [04:07<00:14, 14.55s/it]"
          ]
        },
        {
          "output_type": "stream",
          "name": "stdout",
          "text": [
            "Moviepy - Building video /content/video/rl-video-episode-0.mp4.\n",
            "Moviepy - Writing video /content/video/rl-video-episode-0.mp4\n",
            "\n"
          ]
        },
        {
          "output_type": "stream",
          "name": "stderr",
          "text": [
            "\n",
            "t:   0%|          | 0/202 [00:00<?, ?it/s, now=None]\u001b[A\n",
            "t:  19%|█▉        | 39/202 [00:00<00:00, 389.39it/s, now=None]\u001b[A\n",
            "t:  39%|███▊      | 78/202 [00:00<00:00, 326.59it/s, now=None]\u001b[A\n",
            "t:  55%|█████▌    | 112/202 [00:00<00:00, 326.84it/s, now=None]\u001b[A\n",
            "t:  73%|███████▎  | 147/202 [00:00<00:00, 334.77it/s, now=None]\u001b[A\n",
            "t:  90%|████████▉ | 181/202 [00:00<00:00, 331.62it/s, now=None]\u001b[A\n",
            "Epochs: 18 Reward: 200.0:  95%|█████████▌| 19/20 [04:08<00:14, 14.55s/it]"
          ]
        },
        {
          "output_type": "stream",
          "name": "stdout",
          "text": [
            "Moviepy - Done !\n",
            "Moviepy - video ready /content/video/rl-video-episode-0.mp4\n"
          ]
        },
        {
          "output_type": "stream",
          "name": "stderr",
          "text": [
            "Epochs: 18 Reward: 200.0:  95%|█████████▌| 19/20 [04:08<00:14, 14.55s/it]"
          ]
        },
        {
          "output_type": "stream",
          "name": "stdout",
          "text": [
            "Moviepy - Building video /content/video/rl-video-episode-0.mp4.\n",
            "Moviepy - Writing video /content/video/rl-video-episode-0.mp4\n",
            "\n"
          ]
        },
        {
          "output_type": "stream",
          "name": "stderr",
          "text": [
            "\n",
            "t:   0%|          | 0/202 [00:00<?, ?it/s, now=None]\u001b[A\n",
            "t:  20%|█▉        | 40/202 [00:00<00:00, 398.13it/s, now=None]\u001b[A\n",
            "t:  40%|███▉      | 80/202 [00:00<00:00, 316.43it/s, now=None]\u001b[A\n",
            "t:  56%|█████▌    | 113/202 [00:00<00:00, 298.73it/s, now=None]\u001b[A\n",
            "t:  72%|███████▏  | 146/202 [00:00<00:00, 307.14it/s, now=None]\u001b[A\n",
            "t:  88%|████████▊ | 178/202 [00:00<00:00, 309.51it/s, now=None]\u001b[A\n",
            "Epochs: 18 Reward: 200.0:  95%|█████████▌| 19/20 [04:09<00:14, 14.55s/it]"
          ]
        },
        {
          "output_type": "stream",
          "name": "stdout",
          "text": [
            "Moviepy - Done !\n",
            "Moviepy - video ready /content/video/rl-video-episode-0.mp4\n"
          ]
        },
        {
          "output_type": "stream",
          "name": "stderr",
          "text": [
            "Epochs: 18 Reward: 200.0:  95%|█████████▌| 19/20 [04:10<00:14, 14.55s/it]"
          ]
        },
        {
          "output_type": "stream",
          "name": "stdout",
          "text": [
            "Moviepy - Building video /content/video/rl-video-episode-0.mp4.\n",
            "Moviepy - Writing video /content/video/rl-video-episode-0.mp4\n",
            "\n"
          ]
        },
        {
          "output_type": "stream",
          "name": "stderr",
          "text": [
            "\n",
            "t:   0%|          | 0/202 [00:00<?, ?it/s, now=None]\u001b[A\n",
            "t:  20%|█▉        | 40/202 [00:00<00:00, 392.88it/s, now=None]\u001b[A\n",
            "t:  40%|███▉      | 80/202 [00:00<00:00, 317.37it/s, now=None]\u001b[A\n",
            "t:  56%|█████▌    | 113/202 [00:00<00:00, 313.64it/s, now=None]\u001b[A\n",
            "t:  72%|███████▏  | 145/202 [00:00<00:00, 311.51it/s, now=None]\u001b[A\n",
            "t:  88%|████████▊ | 177/202 [00:00<00:00, 303.52it/s, now=None]\u001b[A\n",
            "Epochs: 18 Reward: 200.0:  95%|█████████▌| 19/20 [04:11<00:14, 14.55s/it]"
          ]
        },
        {
          "output_type": "stream",
          "name": "stdout",
          "text": [
            "Moviepy - Done !\n",
            "Moviepy - video ready /content/video/rl-video-episode-0.mp4\n"
          ]
        },
        {
          "output_type": "stream",
          "name": "stderr",
          "text": [
            "Epochs: 18 Reward: 200.0:  95%|█████████▌| 19/20 [04:11<00:14, 14.55s/it]"
          ]
        },
        {
          "output_type": "stream",
          "name": "stdout",
          "text": [
            "Moviepy - Building video /content/video/rl-video-episode-0.mp4.\n",
            "Moviepy - Writing video /content/video/rl-video-episode-0.mp4\n",
            "\n"
          ]
        },
        {
          "output_type": "stream",
          "name": "stderr",
          "text": [
            "\n",
            "t:   0%|          | 0/202 [00:00<?, ?it/s, now=None]\u001b[A\n",
            "t:  21%|██        | 42/202 [00:00<00:00, 413.26it/s, now=None]\u001b[A\n",
            "t:  42%|████▏     | 84/202 [00:00<00:00, 317.57it/s, now=None]\u001b[A\n",
            "t:  58%|█████▊    | 118/202 [00:00<00:00, 311.69it/s, now=None]\u001b[A\n",
            "t:  74%|███████▍  | 150/202 [00:00<00:00, 290.92it/s, now=None]\u001b[A\n",
            "t:  89%|████████▉ | 180/202 [00:00<00:00, 292.68it/s, now=None]\u001b[A\n",
            "Epochs: 18 Reward: 200.0:  95%|█████████▌| 19/20 [04:12<00:14, 14.55s/it]"
          ]
        },
        {
          "output_type": "stream",
          "name": "stdout",
          "text": [
            "Moviepy - Done !\n",
            "Moviepy - video ready /content/video/rl-video-episode-0.mp4\n"
          ]
        },
        {
          "output_type": "stream",
          "name": "stderr",
          "text": [
            "Epochs: 18 Reward: 200.0:  95%|█████████▌| 19/20 [04:13<00:14, 14.55s/it]"
          ]
        },
        {
          "output_type": "stream",
          "name": "stdout",
          "text": [
            "Moviepy - Building video /content/video/rl-video-episode-0.mp4.\n",
            "Moviepy - Writing video /content/video/rl-video-episode-0.mp4\n",
            "\n"
          ]
        },
        {
          "output_type": "stream",
          "name": "stderr",
          "text": [
            "\n",
            "t:   0%|          | 0/202 [00:00<?, ?it/s, now=None]\u001b[A\n",
            "t:  17%|█▋        | 34/202 [00:00<00:00, 338.39it/s, now=None]\u001b[A\n",
            "t:  34%|███▎      | 68/202 [00:00<00:00, 300.55it/s, now=None]\u001b[A\n",
            "t:  49%|████▉     | 99/202 [00:00<00:00, 291.57it/s, now=None]\u001b[A\n",
            "t:  65%|██████▍   | 131/202 [00:00<00:00, 301.80it/s, now=None]\u001b[A\n",
            "t:  80%|████████  | 162/202 [00:00<00:00, 299.45it/s, now=None]\u001b[A\n",
            "t:  96%|█████████▌| 193/202 [00:00<00:00, 296.55it/s, now=None]\u001b[A\n",
            "Epochs: 18 Reward: 200.0:  95%|█████████▌| 19/20 [04:14<00:14, 14.55s/it]"
          ]
        },
        {
          "output_type": "stream",
          "name": "stdout",
          "text": [
            "Moviepy - Done !\n",
            "Moviepy - video ready /content/video/rl-video-episode-0.mp4\n"
          ]
        },
        {
          "output_type": "stream",
          "name": "stderr",
          "text": [
            "Epochs: 18 Reward: 200.0:  95%|█████████▌| 19/20 [04:15<00:14, 14.55s/it]"
          ]
        },
        {
          "output_type": "stream",
          "name": "stdout",
          "text": [
            "Moviepy - Building video /content/video/rl-video-episode-0.mp4.\n",
            "Moviepy - Writing video /content/video/rl-video-episode-0.mp4\n",
            "\n"
          ]
        },
        {
          "output_type": "stream",
          "name": "stderr",
          "text": [
            "\n",
            "t:   0%|          | 0/202 [00:00<?, ?it/s, now=None]\u001b[A\n",
            "t:  18%|█▊        | 37/202 [00:00<00:00, 363.78it/s, now=None]\u001b[A\n",
            "t:  37%|███▋      | 74/202 [00:00<00:00, 315.37it/s, now=None]\u001b[A\n",
            "t:  52%|█████▏    | 106/202 [00:00<00:00, 313.98it/s, now=None]\u001b[A\n",
            "t:  68%|██████▊   | 138/202 [00:00<00:00, 300.34it/s, now=None]\u001b[A\n",
            "t:  84%|████████▎ | 169/202 [00:00<00:00, 299.91it/s, now=None]\u001b[A\n",
            "t: 100%|█████████▉| 201/202 [00:00<00:00, 303.33it/s, now=None]\u001b[A\n",
            "Epochs: 18 Reward: 200.0:  95%|█████████▌| 19/20 [04:15<00:14, 14.55s/it]"
          ]
        },
        {
          "output_type": "stream",
          "name": "stdout",
          "text": [
            "Moviepy - Done !\n",
            "Moviepy - video ready /content/video/rl-video-episode-0.mp4\n"
          ]
        },
        {
          "output_type": "stream",
          "name": "stderr",
          "text": [
            "Epochs: 18 Reward: 200.0:  95%|█████████▌| 19/20 [04:16<00:14, 14.55s/it]"
          ]
        },
        {
          "output_type": "stream",
          "name": "stdout",
          "text": [
            "Moviepy - Building video /content/video/rl-video-episode-0.mp4.\n",
            "Moviepy - Writing video /content/video/rl-video-episode-0.mp4\n",
            "\n"
          ]
        },
        {
          "output_type": "stream",
          "name": "stderr",
          "text": [
            "\n",
            "t:   0%|          | 0/202 [00:00<?, ?it/s, now=None]\u001b[A\n",
            "t:  16%|█▋        | 33/202 [00:00<00:00, 321.32it/s, now=None]\u001b[A\n",
            "t:  33%|███▎      | 66/202 [00:00<00:00, 238.52it/s, now=None]\u001b[A\n",
            "t:  46%|████▌     | 92/202 [00:00<00:00, 218.60it/s, now=None]\u001b[A\n",
            "t:  57%|█████▋    | 115/202 [00:00<00:00, 202.17it/s, now=None]\u001b[A\n",
            "t:  67%|██████▋   | 136/202 [00:00<00:00, 198.67it/s, now=None]\u001b[A\n",
            "t:  78%|███████▊  | 157/202 [00:00<00:00, 192.90it/s, now=None]\u001b[A\n",
            "t:  88%|████████▊ | 177/202 [00:00<00:00, 188.47it/s, now=None]\u001b[A\n",
            "t:  98%|█████████▊| 197/202 [00:00<00:00, 188.85it/s, now=None]\u001b[A\n",
            "Epochs: 18 Reward: 200.0:  95%|█████████▌| 19/20 [04:17<00:14, 14.55s/it]"
          ]
        },
        {
          "output_type": "stream",
          "name": "stdout",
          "text": [
            "Moviepy - Done !\n",
            "Moviepy - video ready /content/video/rl-video-episode-0.mp4\n"
          ]
        },
        {
          "output_type": "stream",
          "name": "stderr",
          "text": [
            "Epochs: 18 Reward: 200.0:  95%|█████████▌| 19/20 [04:18<00:14, 14.55s/it]"
          ]
        },
        {
          "output_type": "stream",
          "name": "stdout",
          "text": [
            "Moviepy - Building video /content/video/rl-video-episode-0.mp4.\n",
            "Moviepy - Writing video /content/video/rl-video-episode-0.mp4\n",
            "\n"
          ]
        },
        {
          "output_type": "stream",
          "name": "stderr",
          "text": [
            "\n",
            "t:   0%|          | 0/202 [00:00<?, ?it/s, now=None]\u001b[A\n",
            "t:  19%|█▉        | 38/202 [00:00<00:00, 374.15it/s, now=None]\u001b[A\n",
            "t:  38%|███▊      | 76/202 [00:00<00:00, 315.19it/s, now=None]\u001b[A\n",
            "t:  54%|█████▍    | 109/202 [00:00<00:00, 316.15it/s, now=None]\u001b[A\n",
            "t:  70%|███████   | 142/202 [00:00<00:00, 319.42it/s, now=None]\u001b[A\n",
            "t:  87%|████████▋ | 175/202 [00:00<00:00, 318.39it/s, now=None]\u001b[A\n",
            "Epochs: 18 Reward: 200.0:  95%|█████████▌| 19/20 [04:19<00:14, 14.55s/it]"
          ]
        },
        {
          "output_type": "stream",
          "name": "stdout",
          "text": [
            "Moviepy - Done !\n",
            "Moviepy - video ready /content/video/rl-video-episode-0.mp4\n"
          ]
        },
        {
          "output_type": "stream",
          "name": "stderr",
          "text": [
            "Epochs: 18 Reward: 200.0:  95%|█████████▌| 19/20 [04:20<00:14, 14.55s/it]"
          ]
        },
        {
          "output_type": "stream",
          "name": "stdout",
          "text": [
            "Moviepy - Building video /content/video/rl-video-episode-0.mp4.\n",
            "Moviepy - Writing video /content/video/rl-video-episode-0.mp4\n",
            "\n"
          ]
        },
        {
          "output_type": "stream",
          "name": "stderr",
          "text": [
            "\n",
            "t:   0%|          | 0/202 [00:00<?, ?it/s, now=None]\u001b[A\n",
            "t:  20%|██        | 41/202 [00:00<00:00, 403.63it/s, now=None]\u001b[A\n",
            "t:  41%|████      | 82/202 [00:00<00:00, 311.36it/s, now=None]\u001b[A\n",
            "t:  57%|█████▋    | 115/202 [00:00<00:00, 309.50it/s, now=None]\u001b[A\n",
            "t:  73%|███████▎  | 147/202 [00:00<00:00, 311.12it/s, now=None]\u001b[A\n",
            "t:  89%|████████▊ | 179/202 [00:00<00:00, 309.91it/s, now=None]\u001b[A\n",
            "Epochs: 18 Reward: 200.0:  95%|█████████▌| 19/20 [04:21<00:14, 14.55s/it]"
          ]
        },
        {
          "output_type": "stream",
          "name": "stdout",
          "text": [
            "Moviepy - Done !\n",
            "Moviepy - video ready /content/video/rl-video-episode-0.mp4\n"
          ]
        },
        {
          "output_type": "stream",
          "name": "stderr",
          "text": [
            "Epochs: 18 Reward: 200.0:  95%|█████████▌| 19/20 [04:21<00:14, 14.55s/it]"
          ]
        },
        {
          "output_type": "stream",
          "name": "stdout",
          "text": [
            "Moviepy - Building video /content/video/rl-video-episode-0.mp4.\n",
            "Moviepy - Writing video /content/video/rl-video-episode-0.mp4\n",
            "\n"
          ]
        },
        {
          "output_type": "stream",
          "name": "stderr",
          "text": [
            "\n",
            "t:   0%|          | 0/202 [00:00<?, ?it/s, now=None]\u001b[A\n",
            "t:  18%|█▊        | 37/202 [00:00<00:00, 367.87it/s, now=None]\u001b[A\n",
            "t:  37%|███▋      | 74/202 [00:00<00:00, 299.50it/s, now=None]\u001b[A\n",
            "t:  52%|█████▏    | 105/202 [00:00<00:00, 275.96it/s, now=None]\u001b[A\n",
            "t:  66%|██████▋   | 134/202 [00:00<00:00, 235.66it/s, now=None]\u001b[A\n",
            "t:  79%|███████▊  | 159/202 [00:00<00:00, 211.57it/s, now=None]\u001b[A\n",
            "t:  90%|████████▉ | 181/202 [00:00<00:00, 194.53it/s, now=None]\u001b[A\n",
            "t: 100%|█████████▉| 201/202 [00:00<00:00, 189.14it/s, now=None]\u001b[A\n",
            "Epochs: 18 Reward: 200.0:  95%|█████████▌| 19/20 [04:23<00:14, 14.55s/it]"
          ]
        },
        {
          "output_type": "stream",
          "name": "stdout",
          "text": [
            "Moviepy - Done !\n",
            "Moviepy - video ready /content/video/rl-video-episode-0.mp4\n"
          ]
        },
        {
          "output_type": "stream",
          "name": "stderr",
          "text": [
            "Epochs: 18 Reward: 200.0:  95%|█████████▌| 19/20 [04:24<00:14, 14.55s/it]"
          ]
        },
        {
          "output_type": "stream",
          "name": "stdout",
          "text": [
            "Moviepy - Building video /content/video/rl-video-episode-0.mp4.\n",
            "Moviepy - Writing video /content/video/rl-video-episode-0.mp4\n",
            "\n"
          ]
        },
        {
          "output_type": "stream",
          "name": "stderr",
          "text": [
            "\n",
            "t:   0%|          | 0/202 [00:00<?, ?it/s, now=None]\u001b[A\n",
            "t:  21%|██▏       | 43/202 [00:00<00:00, 427.10it/s, now=None]\u001b[A\n",
            "t:  43%|████▎     | 86/202 [00:00<00:00, 323.87it/s, now=None]\u001b[A\n",
            "t:  59%|█████▉    | 120/202 [00:00<00:00, 314.43it/s, now=None]\u001b[A\n",
            "t:  76%|███████▌  | 153/202 [00:00<00:00, 307.53it/s, now=None]\u001b[A\n",
            "t:  92%|█████████▏| 185/202 [00:00<00:00, 310.32it/s, now=None]\u001b[A\n",
            "Epochs: 18 Reward: 200.0:  95%|█████████▌| 19/20 [04:24<00:14, 14.55s/it]"
          ]
        },
        {
          "output_type": "stream",
          "name": "stdout",
          "text": [
            "Moviepy - Done !\n",
            "Moviepy - video ready /content/video/rl-video-episode-0.mp4\n"
          ]
        },
        {
          "output_type": "stream",
          "name": "stderr",
          "text": [
            "Epochs: 18 Reward: 200.0:  95%|█████████▌| 19/20 [04:25<00:14, 14.55s/it]"
          ]
        },
        {
          "output_type": "stream",
          "name": "stdout",
          "text": [
            "Moviepy - Building video /content/video/rl-video-episode-0.mp4.\n",
            "Moviepy - Writing video /content/video/rl-video-episode-0.mp4\n",
            "\n"
          ]
        },
        {
          "output_type": "stream",
          "name": "stderr",
          "text": [
            "\n",
            "t:   0%|          | 0/202 [00:00<?, ?it/s, now=None]\u001b[A\n",
            "t:  21%|██        | 42/202 [00:00<00:00, 419.75it/s, now=None]\u001b[A\n",
            "t:  42%|████▏     | 84/202 [00:00<00:00, 328.66it/s, now=None]\u001b[A\n",
            "t:  59%|█████▉    | 119/202 [00:00<00:00, 307.98it/s, now=None]\u001b[A\n",
            "t:  75%|███████▍  | 151/202 [00:00<00:00, 307.72it/s, now=None]\u001b[A\n",
            "t:  91%|█████████ | 183/202 [00:00<00:00, 308.50it/s, now=None]\u001b[A\n",
            "Epochs: 18 Reward: 200.0:  95%|█████████▌| 19/20 [04:26<00:14, 14.55s/it]"
          ]
        },
        {
          "output_type": "stream",
          "name": "stdout",
          "text": [
            "Moviepy - Done !\n",
            "Moviepy - video ready /content/video/rl-video-episode-0.mp4\n"
          ]
        },
        {
          "output_type": "stream",
          "name": "stderr",
          "text": [
            "Epochs: 18 Reward: 200.0:  95%|█████████▌| 19/20 [04:27<00:14, 14.55s/it]"
          ]
        },
        {
          "output_type": "stream",
          "name": "stdout",
          "text": [
            "Moviepy - Building video /content/video/rl-video-episode-0.mp4.\n",
            "Moviepy - Writing video /content/video/rl-video-episode-0.mp4\n",
            "\n"
          ]
        },
        {
          "output_type": "stream",
          "name": "stderr",
          "text": [
            "\n",
            "t:   0%|          | 0/202 [00:00<?, ?it/s, now=None]\u001b[A\n",
            "t:  19%|█▉        | 39/202 [00:00<00:00, 382.54it/s, now=None]\u001b[A\n",
            "t:  39%|███▊      | 78/202 [00:00<00:00, 316.45it/s, now=None]\u001b[A\n",
            "t:  55%|█████▍    | 111/202 [00:00<00:00, 309.69it/s, now=None]\u001b[A\n",
            "t:  71%|███████   | 143/202 [00:00<00:00, 301.29it/s, now=None]\u001b[A\n",
            "t:  86%|████████▌ | 174/202 [00:00<00:00, 303.41it/s, now=None]\u001b[A\n",
            "Epochs: 18 Reward: 200.0:  95%|█████████▌| 19/20 [04:27<00:14, 14.55s/it]"
          ]
        },
        {
          "output_type": "stream",
          "name": "stdout",
          "text": [
            "Moviepy - Done !\n",
            "Moviepy - video ready /content/video/rl-video-episode-0.mp4\n"
          ]
        },
        {
          "output_type": "stream",
          "name": "stderr",
          "text": [
            "Epochs: 18 Reward: 200.0:  95%|█████████▌| 19/20 [04:28<00:14, 14.55s/it]"
          ]
        },
        {
          "output_type": "stream",
          "name": "stdout",
          "text": [
            "Moviepy - Building video /content/video/rl-video-episode-0.mp4.\n",
            "Moviepy - Writing video /content/video/rl-video-episode-0.mp4\n",
            "\n"
          ]
        },
        {
          "output_type": "stream",
          "name": "stderr",
          "text": [
            "\n",
            "t:   0%|          | 0/202 [00:00<?, ?it/s, now=None]\u001b[A\n",
            "t:  18%|█▊        | 36/202 [00:00<00:00, 355.29it/s, now=None]\u001b[A\n",
            "t:  36%|███▌      | 72/202 [00:00<00:00, 316.60it/s, now=None]\u001b[A\n",
            "t:  51%|█████▏    | 104/202 [00:00<00:00, 316.20it/s, now=None]\u001b[A\n",
            "t:  67%|██████▋   | 136/202 [00:00<00:00, 275.06it/s, now=None]\u001b[A\n",
            "t:  82%|████████▏ | 165/202 [00:00<00:00, 238.73it/s, now=None]\u001b[A\n",
            "t:  94%|█████████▍| 190/202 [00:00<00:00, 212.49it/s, now=None]\u001b[A\n",
            "Epochs: 18 Reward: 200.0:  95%|█████████▌| 19/20 [04:29<00:14, 14.55s/it]"
          ]
        },
        {
          "output_type": "stream",
          "name": "stdout",
          "text": [
            "Moviepy - Done !\n",
            "Moviepy - video ready /content/video/rl-video-episode-0.mp4\n"
          ]
        },
        {
          "output_type": "stream",
          "name": "stderr",
          "text": [
            "Epochs: 18 Reward: 200.0:  95%|█████████▌| 19/20 [04:30<00:14, 14.55s/it]"
          ]
        },
        {
          "output_type": "stream",
          "name": "stdout",
          "text": [
            "Moviepy - Building video /content/video/rl-video-episode-0.mp4.\n",
            "Moviepy - Writing video /content/video/rl-video-episode-0.mp4\n",
            "\n"
          ]
        },
        {
          "output_type": "stream",
          "name": "stderr",
          "text": [
            "\n",
            "t:   0%|          | 0/202 [00:00<?, ?it/s, now=None]\u001b[A\n",
            "t:  12%|█▏        | 24/202 [00:00<00:00, 233.99it/s, now=None]\u001b[A\n",
            "t:  24%|██▍       | 48/202 [00:00<00:00, 219.68it/s, now=None]\u001b[A\n",
            "t:  35%|███▌      | 71/202 [00:00<00:00, 202.12it/s, now=None]\u001b[A\n",
            "t:  46%|████▌     | 92/202 [00:00<00:00, 201.55it/s, now=None]\u001b[A\n",
            "t:  56%|█████▌    | 113/202 [00:00<00:00, 195.82it/s, now=None]\u001b[A\n",
            "t:  66%|██████▌   | 133/202 [00:00<00:00, 189.69it/s, now=None]\u001b[A\n",
            "t:  77%|███████▋  | 156/202 [00:00<00:00, 199.83it/s, now=None]\u001b[A\n",
            "t:  94%|█████████▎| 189/202 [00:00<00:00, 236.07it/s, now=None]\u001b[A\n",
            "Epochs: 18 Reward: 200.0:  95%|█████████▌| 19/20 [04:31<00:14, 14.55s/it]"
          ]
        },
        {
          "output_type": "stream",
          "name": "stdout",
          "text": [
            "Moviepy - Done !\n",
            "Moviepy - video ready /content/video/rl-video-episode-0.mp4\n"
          ]
        },
        {
          "output_type": "stream",
          "name": "stderr",
          "text": [
            "Epochs: 18 Reward: 200.0:  95%|█████████▌| 19/20 [04:32<00:14, 14.55s/it]"
          ]
        },
        {
          "output_type": "stream",
          "name": "stdout",
          "text": [
            "Moviepy - Building video /content/video/rl-video-episode-0.mp4.\n",
            "Moviepy - Writing video /content/video/rl-video-episode-0.mp4\n",
            "\n"
          ]
        },
        {
          "output_type": "stream",
          "name": "stderr",
          "text": [
            "\n",
            "t:   0%|          | 0/202 [00:00<?, ?it/s, now=None]\u001b[A\n",
            "t:  21%|██        | 42/202 [00:00<00:00, 414.73it/s, now=None]\u001b[A\n",
            "t:  42%|████▏     | 84/202 [00:00<00:00, 330.86it/s, now=None]\u001b[A\n",
            "t:  59%|█████▉    | 119/202 [00:00<00:00, 332.07it/s, now=None]\u001b[A\n",
            "t:  76%|███████▌  | 153/202 [00:00<00:00, 330.63it/s, now=None]\u001b[A\n",
            "t:  93%|█████████▎| 187/202 [00:00<00:00, 324.90it/s, now=None]\u001b[A\n",
            "Epochs: 18 Reward: 200.0:  95%|█████████▌| 19/20 [04:33<00:14, 14.55s/it]"
          ]
        },
        {
          "output_type": "stream",
          "name": "stdout",
          "text": [
            "Moviepy - Done !\n",
            "Moviepy - video ready /content/video/rl-video-episode-0.mp4\n"
          ]
        },
        {
          "output_type": "stream",
          "name": "stderr",
          "text": [
            "Epochs: 18 Reward: 200.0:  95%|█████████▌| 19/20 [04:33<00:14, 14.55s/it]"
          ]
        },
        {
          "output_type": "stream",
          "name": "stdout",
          "text": [
            "Moviepy - Building video /content/video/rl-video-episode-0.mp4.\n",
            "Moviepy - Writing video /content/video/rl-video-episode-0.mp4\n",
            "\n"
          ]
        },
        {
          "output_type": "stream",
          "name": "stderr",
          "text": [
            "\n",
            "t:   0%|          | 0/202 [00:00<?, ?it/s, now=None]\u001b[A\n",
            "t:  18%|█▊        | 36/202 [00:00<00:00, 359.98it/s, now=None]\u001b[A\n",
            "t:  36%|███▌      | 72/202 [00:00<00:00, 297.90it/s, now=None]\u001b[A\n",
            "t:  51%|█████     | 103/202 [00:00<00:00, 301.70it/s, now=None]\u001b[A\n",
            "t:  67%|██████▋   | 135/202 [00:00<00:00, 303.69it/s, now=None]\u001b[A\n",
            "t:  83%|████████▎ | 167/202 [00:00<00:00, 308.52it/s, now=None]\u001b[A\n",
            "t:  99%|█████████▊| 199/202 [00:00<00:00, 304.58it/s, now=None]\u001b[A\n",
            "Epochs: 18 Reward: 200.0:  95%|█████████▌| 19/20 [04:34<00:14, 14.55s/it]"
          ]
        },
        {
          "output_type": "stream",
          "name": "stdout",
          "text": [
            "Moviepy - Done !\n",
            "Moviepy - video ready /content/video/rl-video-episode-0.mp4\n"
          ]
        },
        {
          "output_type": "stream",
          "name": "stderr",
          "text": [
            "Epochs: 18 Reward: 200.0:  95%|█████████▌| 19/20 [04:35<00:14, 14.55s/it]"
          ]
        },
        {
          "output_type": "stream",
          "name": "stdout",
          "text": [
            "Moviepy - Building video /content/video/rl-video-episode-0.mp4.\n",
            "Moviepy - Writing video /content/video/rl-video-episode-0.mp4\n",
            "\n"
          ]
        },
        {
          "output_type": "stream",
          "name": "stderr",
          "text": [
            "\n",
            "t:   0%|          | 0/202 [00:00<?, ?it/s, now=None]\u001b[A\n",
            "t:  19%|█▉        | 38/202 [00:00<00:00, 377.02it/s, now=None]\u001b[A\n",
            "t:  38%|███▊      | 76/202 [00:00<00:00, 308.01it/s, now=None]\u001b[A\n",
            "t:  53%|█████▎    | 108/202 [00:00<00:00, 306.45it/s, now=None]\u001b[A\n",
            "t:  70%|██████▉   | 141/202 [00:00<00:00, 310.15it/s, now=None]\u001b[A\n",
            "t:  86%|████████▌ | 173/202 [00:00<00:00, 306.26it/s, now=None]\u001b[A\n",
            "Epochs: 18 Reward: 200.0:  95%|█████████▌| 19/20 [04:36<00:14, 14.55s/it]"
          ]
        },
        {
          "output_type": "stream",
          "name": "stdout",
          "text": [
            "Moviepy - Done !\n",
            "Moviepy - video ready /content/video/rl-video-episode-0.mp4\n"
          ]
        },
        {
          "output_type": "stream",
          "name": "stderr",
          "text": [
            "Epochs: 18 Reward: 200.0:  95%|█████████▌| 19/20 [04:36<00:14, 14.55s/it]"
          ]
        },
        {
          "output_type": "stream",
          "name": "stdout",
          "text": [
            "Moviepy - Building video /content/video/rl-video-episode-0.mp4.\n",
            "Moviepy - Writing video /content/video/rl-video-episode-0.mp4\n",
            "\n"
          ]
        },
        {
          "output_type": "stream",
          "name": "stderr",
          "text": [
            "\n",
            "t:   0%|          | 0/202 [00:00<?, ?it/s, now=None]\u001b[A\n",
            "t:  18%|█▊        | 37/202 [00:00<00:00, 364.40it/s, now=None]\u001b[A\n",
            "t:  37%|███▋      | 74/202 [00:00<00:00, 308.39it/s, now=None]\u001b[A\n",
            "t:  52%|█████▏    | 106/202 [00:00<00:00, 295.99it/s, now=None]\u001b[A\n",
            "t:  68%|██████▊   | 137/202 [00:00<00:00, 300.76it/s, now=None]\u001b[A\n",
            "t:  84%|████████▎ | 169/202 [00:00<00:00, 307.16it/s, now=None]\u001b[A\n",
            "t: 100%|█████████▉| 201/202 [00:00<00:00, 311.07it/s, now=None]\u001b[A\n",
            "Epochs: 18 Reward: 200.0:  95%|█████████▌| 19/20 [04:37<00:14, 14.55s/it]"
          ]
        },
        {
          "output_type": "stream",
          "name": "stdout",
          "text": [
            "Moviepy - Done !\n",
            "Moviepy - video ready /content/video/rl-video-episode-0.mp4\n"
          ]
        },
        {
          "output_type": "stream",
          "name": "stderr",
          "text": [
            "Epochs: 18 Reward: 200.0:  95%|█████████▌| 19/20 [04:38<00:14, 14.55s/it]"
          ]
        },
        {
          "output_type": "stream",
          "name": "stdout",
          "text": [
            "Moviepy - Building video /content/video/rl-video-episode-0.mp4.\n",
            "Moviepy - Writing video /content/video/rl-video-episode-0.mp4\n",
            "\n"
          ]
        },
        {
          "output_type": "stream",
          "name": "stderr",
          "text": [
            "\n",
            "t:   0%|          | 0/202 [00:00<?, ?it/s, now=None]\u001b[A\n",
            "t:  18%|█▊        | 37/202 [00:00<00:00, 368.28it/s, now=None]\u001b[A\n",
            "t:  37%|███▋      | 74/202 [00:00<00:00, 316.97it/s, now=None]\u001b[A\n",
            "t:  53%|█████▎    | 107/202 [00:00<00:00, 313.83it/s, now=None]\u001b[A\n",
            "t:  69%|██████▉   | 139/202 [00:00<00:00, 311.45it/s, now=None]\u001b[A\n",
            "t:  85%|████████▍ | 171/202 [00:00<00:00, 307.40it/s, now=None]\u001b[A\n",
            "t: 100%|██████████| 202/202 [00:00<00:00, 305.17it/s, now=None]\u001b[A\n",
            "Epochs: 18 Reward: 200.0:  95%|█████████▌| 19/20 [04:39<00:14, 14.55s/it]"
          ]
        },
        {
          "output_type": "stream",
          "name": "stdout",
          "text": [
            "Moviepy - Done !\n",
            "Moviepy - video ready /content/video/rl-video-episode-0.mp4\n"
          ]
        },
        {
          "output_type": "stream",
          "name": "stderr",
          "text": [
            "Epochs: 18 Reward: 200.0:  95%|█████████▌| 19/20 [04:40<00:14, 14.55s/it]"
          ]
        },
        {
          "output_type": "stream",
          "name": "stdout",
          "text": [
            "Moviepy - Building video /content/video/rl-video-episode-0.mp4.\n",
            "Moviepy - Writing video /content/video/rl-video-episode-0.mp4\n",
            "\n"
          ]
        },
        {
          "output_type": "stream",
          "name": "stderr",
          "text": [
            "\n",
            "t:   0%|          | 0/202 [00:00<?, ?it/s, now=None]\u001b[A\n",
            "t:  19%|█▉        | 39/202 [00:00<00:00, 382.94it/s, now=None]\u001b[A\n",
            "t:  39%|███▊      | 78/202 [00:00<00:00, 316.98it/s, now=None]\u001b[A\n",
            "t:  55%|█████▍    | 111/202 [00:00<00:00, 287.37it/s, now=None]\u001b[A\n",
            "t:  70%|██████▉   | 141/202 [00:00<00:00, 289.38it/s, now=None]\u001b[A\n",
            "t:  85%|████████▌ | 172/202 [00:00<00:00, 291.24it/s, now=None]\u001b[A\n",
            "Epochs: 18 Reward: 200.0:  95%|█████████▌| 19/20 [04:40<00:14, 14.55s/it]"
          ]
        },
        {
          "output_type": "stream",
          "name": "stdout",
          "text": [
            "Moviepy - Done !\n",
            "Moviepy - video ready /content/video/rl-video-episode-0.mp4\n"
          ]
        },
        {
          "output_type": "stream",
          "name": "stderr",
          "text": [
            "Epochs: 18 Reward: 200.0:  95%|█████████▌| 19/20 [04:41<00:14, 14.55s/it]"
          ]
        },
        {
          "output_type": "stream",
          "name": "stdout",
          "text": [
            "Moviepy - Building video /content/video/rl-video-episode-0.mp4.\n",
            "Moviepy - Writing video /content/video/rl-video-episode-0.mp4\n",
            "\n"
          ]
        },
        {
          "output_type": "stream",
          "name": "stderr",
          "text": [
            "\n",
            "t:   0%|          | 0/202 [00:00<?, ?it/s, now=None]\u001b[A\n",
            "t:  16%|█▌        | 32/202 [00:00<00:00, 318.15it/s, now=None]\u001b[A\n",
            "t:  32%|███▏      | 64/202 [00:00<00:00, 226.28it/s, now=None]\u001b[A\n",
            "t:  44%|████▍     | 89/202 [00:00<00:00, 209.13it/s, now=None]\u001b[A\n",
            "t:  55%|█████▍    | 111/202 [00:00<00:00, 199.83it/s, now=None]\u001b[A\n",
            "t:  65%|██████▌   | 132/202 [00:00<00:00, 192.31it/s, now=None]\u001b[A\n",
            "t:  75%|███████▌  | 152/202 [00:00<00:00, 187.84it/s, now=None]\u001b[A\n",
            "t:  85%|████████▍ | 171/202 [00:00<00:00, 181.61it/s, now=None]\u001b[A\n",
            "t:  94%|█████████▍| 190/202 [00:00<00:00, 175.37it/s, now=None]\u001b[A\n",
            "Epochs: 18 Reward: 200.0:  95%|█████████▌| 19/20 [04:42<00:14, 14.55s/it]"
          ]
        },
        {
          "output_type": "stream",
          "name": "stdout",
          "text": [
            "Moviepy - Done !\n",
            "Moviepy - video ready /content/video/rl-video-episode-0.mp4\n"
          ]
        },
        {
          "output_type": "stream",
          "name": "stderr",
          "text": [
            "Epochs: 18 Reward: 200.0:  95%|█████████▌| 19/20 [04:43<00:14, 14.55s/it]"
          ]
        },
        {
          "output_type": "stream",
          "name": "stdout",
          "text": [
            "Moviepy - Building video /content/video/rl-video-episode-0.mp4.\n",
            "Moviepy - Writing video /content/video/rl-video-episode-0.mp4\n",
            "\n"
          ]
        },
        {
          "output_type": "stream",
          "name": "stderr",
          "text": [
            "\n",
            "t:   0%|          | 0/202 [00:00<?, ?it/s, now=None]\u001b[A\n",
            "t:  13%|█▎        | 26/202 [00:00<00:00, 256.01it/s, now=None]\u001b[A\n",
            "t:  28%|██▊       | 57/202 [00:00<00:00, 279.81it/s, now=None]\u001b[A\n",
            "t:  44%|████▎     | 88/202 [00:00<00:00, 291.28it/s, now=None]\u001b[A\n",
            "t:  59%|█████▉    | 119/202 [00:00<00:00, 298.49it/s, now=None]\u001b[A\n",
            "t:  75%|███████▍  | 151/202 [00:00<00:00, 304.42it/s, now=None]\u001b[A\n",
            "t:  90%|█████████ | 182/202 [00:00<00:00, 292.11it/s, now=None]\u001b[A\n",
            "Epochs: 18 Reward: 200.0:  95%|█████████▌| 19/20 [04:44<00:14, 14.55s/it]"
          ]
        },
        {
          "output_type": "stream",
          "name": "stdout",
          "text": [
            "Moviepy - Done !\n",
            "Moviepy - video ready /content/video/rl-video-episode-0.mp4\n"
          ]
        },
        {
          "output_type": "stream",
          "name": "stderr",
          "text": [
            "Epochs: 18 Reward: 200.0:  95%|█████████▌| 19/20 [04:45<00:14, 14.55s/it]"
          ]
        },
        {
          "output_type": "stream",
          "name": "stdout",
          "text": [
            "Moviepy - Building video /content/video/rl-video-episode-0.mp4.\n",
            "Moviepy - Writing video /content/video/rl-video-episode-0.mp4\n",
            "\n"
          ]
        },
        {
          "output_type": "stream",
          "name": "stderr",
          "text": [
            "\n",
            "t:   0%|          | 0/202 [00:00<?, ?it/s, now=None]\u001b[A\n",
            "t:  16%|█▌        | 32/202 [00:00<00:00, 315.04it/s, now=None]\u001b[A\n",
            "t:  32%|███▏      | 64/202 [00:00<00:00, 301.98it/s, now=None]\u001b[A\n",
            "t:  48%|████▊     | 96/202 [00:00<00:00, 307.43it/s, now=None]\u001b[A\n",
            "t:  63%|██████▎   | 127/202 [00:00<00:00, 306.46it/s, now=None]\u001b[A\n",
            "t:  79%|███████▊  | 159/202 [00:00<00:00, 310.46it/s, now=None]\u001b[A\n",
            "t:  95%|█████████▍| 191/202 [00:00<00:00, 311.07it/s, now=None]\u001b[A\n",
            "Epochs: 18 Reward: 200.0:  95%|█████████▌| 19/20 [04:46<00:14, 14.55s/it]"
          ]
        },
        {
          "output_type": "stream",
          "name": "stdout",
          "text": [
            "Moviepy - Done !\n",
            "Moviepy - video ready /content/video/rl-video-episode-0.mp4\n"
          ]
        },
        {
          "output_type": "stream",
          "name": "stderr",
          "text": [
            "Epochs: 18 Reward: 200.0:  95%|█████████▌| 19/20 [04:46<00:14, 14.55s/it]"
          ]
        },
        {
          "output_type": "stream",
          "name": "stdout",
          "text": [
            "Moviepy - Building video /content/video/rl-video-episode-0.mp4.\n",
            "Moviepy - Writing video /content/video/rl-video-episode-0.mp4\n",
            "\n"
          ]
        },
        {
          "output_type": "stream",
          "name": "stderr",
          "text": [
            "\n",
            "t:   0%|          | 0/202 [00:00<?, ?it/s, now=None]\u001b[A\n",
            "t:  21%|██▏       | 43/202 [00:00<00:00, 427.73it/s, now=None]\u001b[A\n",
            "t:  43%|████▎     | 86/202 [00:00<00:00, 335.94it/s, now=None]\u001b[A\n",
            "t:  60%|█████▉    | 121/202 [00:00<00:00, 317.15it/s, now=None]\u001b[A\n",
            "t:  76%|███████▌  | 154/202 [00:00<00:00, 312.25it/s, now=None]\u001b[A\n",
            "t:  92%|█████████▏| 186/202 [00:00<00:00, 311.13it/s, now=None]\u001b[A\n",
            "Epochs: 18 Reward: 200.0:  95%|█████████▌| 19/20 [04:47<00:14, 14.55s/it]"
          ]
        },
        {
          "output_type": "stream",
          "name": "stdout",
          "text": [
            "Moviepy - Done !\n",
            "Moviepy - video ready /content/video/rl-video-episode-0.mp4\n"
          ]
        },
        {
          "output_type": "stream",
          "name": "stderr",
          "text": [
            "Epochs: 18 Reward: 200.0:  95%|█████████▌| 19/20 [04:48<00:14, 14.55s/it]"
          ]
        },
        {
          "output_type": "stream",
          "name": "stdout",
          "text": [
            "Moviepy - Building video /content/video/rl-video-episode-0.mp4.\n",
            "Moviepy - Writing video /content/video/rl-video-episode-0.mp4\n",
            "\n"
          ]
        },
        {
          "output_type": "stream",
          "name": "stderr",
          "text": [
            "\n",
            "t:   0%|          | 0/202 [00:00<?, ?it/s, now=None]\u001b[A\n",
            "t:  17%|█▋        | 35/202 [00:00<00:00, 346.14it/s, now=None]\u001b[A\n",
            "t:  35%|███▍      | 70/202 [00:00<00:00, 296.60it/s, now=None]\u001b[A\n",
            "t:  51%|█████     | 103/202 [00:00<00:00, 308.21it/s, now=None]\u001b[A\n",
            "t:  67%|██████▋   | 135/202 [00:00<00:00, 305.77it/s, now=None]\u001b[A\n",
            "t:  82%|████████▏ | 166/202 [00:00<00:00, 303.82it/s, now=None]\u001b[A\n",
            "t:  98%|█████████▊| 197/202 [00:00<00:00, 303.78it/s, now=None]\u001b[A\n",
            "Epochs: 18 Reward: 200.0:  95%|█████████▌| 19/20 [04:49<00:14, 14.55s/it]"
          ]
        },
        {
          "output_type": "stream",
          "name": "stdout",
          "text": [
            "Moviepy - Done !\n",
            "Moviepy - video ready /content/video/rl-video-episode-0.mp4\n"
          ]
        },
        {
          "output_type": "stream",
          "name": "stderr",
          "text": [
            "Epochs: 18 Reward: 200.0:  95%|█████████▌| 19/20 [04:50<00:14, 14.55s/it]"
          ]
        },
        {
          "output_type": "stream",
          "name": "stdout",
          "text": [
            "Moviepy - Building video /content/video/rl-video-episode-0.mp4.\n",
            "Moviepy - Writing video /content/video/rl-video-episode-0.mp4\n",
            "\n"
          ]
        },
        {
          "output_type": "stream",
          "name": "stderr",
          "text": [
            "\n",
            "t:   0%|          | 0/202 [00:00<?, ?it/s, now=None]\u001b[A\n",
            "t:  19%|█▉        | 38/202 [00:00<00:00, 379.10it/s, now=None]\u001b[A\n",
            "t:  38%|███▊      | 76/202 [00:00<00:00, 315.17it/s, now=None]\u001b[A\n",
            "t:  54%|█████▍    | 109/202 [00:00<00:00, 313.26it/s, now=None]\u001b[A\n",
            "t:  70%|██████▉   | 141/202 [00:00<00:00, 302.55it/s, now=None]\u001b[A\n",
            "t:  86%|████████▌ | 173/202 [00:00<00:00, 306.66it/s, now=None]\u001b[A\n",
            "Epochs: 18 Reward: 200.0:  95%|█████████▌| 19/20 [04:50<00:14, 14.55s/it]"
          ]
        },
        {
          "output_type": "stream",
          "name": "stdout",
          "text": [
            "Moviepy - Done !\n",
            "Moviepy - video ready /content/video/rl-video-episode-0.mp4\n"
          ]
        },
        {
          "output_type": "stream",
          "name": "stderr",
          "text": [
            "Epochs: 18 Reward: 200.0:  95%|█████████▌| 19/20 [04:51<00:14, 14.55s/it]"
          ]
        },
        {
          "output_type": "stream",
          "name": "stdout",
          "text": [
            "Moviepy - Building video /content/video/rl-video-episode-0.mp4.\n",
            "Moviepy - Writing video /content/video/rl-video-episode-0.mp4\n",
            "\n"
          ]
        },
        {
          "output_type": "stream",
          "name": "stderr",
          "text": [
            "\n",
            "t:   0%|          | 0/202 [00:00<?, ?it/s, now=None]\u001b[A\n",
            "t:  19%|█▉        | 39/202 [00:00<00:00, 383.44it/s, now=None]\u001b[A\n",
            "t:  39%|███▊      | 78/202 [00:00<00:00, 296.20it/s, now=None]\u001b[A\n",
            "t:  54%|█████▍    | 110/202 [00:00<00:00, 304.51it/s, now=None]\u001b[A\n",
            "t:  70%|███████   | 142/202 [00:00<00:00, 305.30it/s, now=None]\u001b[A\n",
            "t:  86%|████████▌ | 174/202 [00:00<00:00, 308.76it/s, now=None]\u001b[A\n",
            "Epochs: 18 Reward: 200.0:  95%|█████████▌| 19/20 [04:52<00:14, 14.55s/it]"
          ]
        },
        {
          "output_type": "stream",
          "name": "stdout",
          "text": [
            "Moviepy - Done !\n",
            "Moviepy - video ready /content/video/rl-video-episode-0.mp4\n"
          ]
        },
        {
          "output_type": "stream",
          "name": "stderr",
          "text": [
            "Epochs: 18 Reward: 200.0:  95%|█████████▌| 19/20 [04:53<00:14, 14.55s/it]"
          ]
        },
        {
          "output_type": "stream",
          "name": "stdout",
          "text": [
            "Moviepy - Building video /content/video/rl-video-episode-0.mp4.\n",
            "Moviepy - Writing video /content/video/rl-video-episode-0.mp4\n",
            "\n"
          ]
        },
        {
          "output_type": "stream",
          "name": "stderr",
          "text": [
            "\n",
            "t:   0%|          | 0/202 [00:00<?, ?it/s, now=None]\u001b[A\n",
            "t:   9%|▉         | 18/202 [00:00<00:01, 172.23it/s, now=None]\u001b[A\n",
            "t:  20%|█▉        | 40/202 [00:00<00:00, 196.50it/s, now=None]\u001b[A\n",
            "t:  30%|██▉       | 60/202 [00:00<00:00, 167.52it/s, now=None]\u001b[A\n",
            "t:  39%|███▉      | 79/202 [00:00<00:00, 172.88it/s, now=None]\u001b[A\n",
            "t:  50%|████▉     | 100/202 [00:00<00:00, 182.38it/s, now=None]\u001b[A\n",
            "t:  59%|█████▉    | 120/202 [00:00<00:00, 187.26it/s, now=None]\u001b[A\n",
            "t:  69%|██████▉   | 139/202 [00:00<00:00, 187.11it/s, now=None]\u001b[A\n",
            "t:  83%|████████▎ | 167/202 [00:00<00:00, 214.65it/s, now=None]\u001b[A\n",
            "t:  97%|█████████▋| 195/202 [00:00<00:00, 229.78it/s, now=None]\u001b[A\n",
            "Epochs: 18 Reward: 200.0:  95%|█████████▌| 19/20 [04:54<00:14, 14.55s/it]"
          ]
        },
        {
          "output_type": "stream",
          "name": "stdout",
          "text": [
            "Moviepy - Done !\n",
            "Moviepy - video ready /content/video/rl-video-episode-0.mp4\n"
          ]
        },
        {
          "output_type": "stream",
          "name": "stderr",
          "text": [
            "Epochs: 18 Reward: 200.0:  95%|█████████▌| 19/20 [04:55<00:14, 14.55s/it]"
          ]
        },
        {
          "output_type": "stream",
          "name": "stdout",
          "text": [
            "Moviepy - Building video /content/video/rl-video-episode-0.mp4.\n",
            "Moviepy - Writing video /content/video/rl-video-episode-0.mp4\n",
            "\n"
          ]
        },
        {
          "output_type": "stream",
          "name": "stderr",
          "text": [
            "\n",
            "t:   0%|          | 0/202 [00:00<?, ?it/s, now=None]\u001b[A\n",
            "t:  15%|█▍        | 30/202 [00:00<00:00, 295.11it/s, now=None]\u001b[A\n",
            "t:  30%|██▉       | 60/202 [00:00<00:00, 216.81it/s, now=None]\u001b[A\n",
            "t:  41%|████      | 83/202 [00:00<00:00, 208.46it/s, now=None]\u001b[A\n",
            "t:  52%|█████▏    | 105/202 [00:00<00:00, 198.20it/s, now=None]\u001b[A\n",
            "t:  62%|██████▏   | 126/202 [00:00<00:00, 190.24it/s, now=None]\u001b[A\n",
            "t:  72%|███████▏  | 146/202 [00:00<00:00, 189.09it/s, now=None]\u001b[A\n",
            "t:  82%|████████▏ | 166/202 [00:00<00:00, 190.44it/s, now=None]\u001b[A\n",
            "t:  92%|█████████▏| 186/202 [00:00<00:00, 188.73it/s, now=None]\u001b[A\n",
            "Epochs: 18 Reward: 200.0:  95%|█████████▌| 19/20 [04:56<00:14, 14.55s/it]"
          ]
        },
        {
          "output_type": "stream",
          "name": "stdout",
          "text": [
            "Moviepy - Done !\n",
            "Moviepy - video ready /content/video/rl-video-episode-0.mp4\n"
          ]
        },
        {
          "output_type": "stream",
          "name": "stderr",
          "text": [
            "Epochs: 18 Reward: 200.0:  95%|█████████▌| 19/20 [04:57<00:14, 14.55s/it]"
          ]
        },
        {
          "output_type": "stream",
          "name": "stdout",
          "text": [
            "Moviepy - Building video /content/video/rl-video-episode-0.mp4.\n",
            "Moviepy - Writing video /content/video/rl-video-episode-0.mp4\n",
            "\n"
          ]
        },
        {
          "output_type": "stream",
          "name": "stderr",
          "text": [
            "\n",
            "t:   0%|          | 0/202 [00:00<?, ?it/s, now=None]\u001b[A\n",
            "t:  18%|█▊        | 37/202 [00:00<00:00, 364.23it/s, now=None]\u001b[A\n",
            "t:  37%|███▋      | 74/202 [00:00<00:00, 306.09it/s, now=None]\u001b[A\n",
            "t:  53%|█████▎    | 107/202 [00:00<00:00, 315.70it/s, now=None]\u001b[A\n",
            "t:  69%|██████▉   | 139/202 [00:00<00:00, 309.45it/s, now=None]\u001b[A\n",
            "t:  85%|████████▍ | 171/202 [00:00<00:00, 310.08it/s, now=None]\u001b[A\n",
            "Epochs: 18 Reward: 200.0:  95%|█████████▌| 19/20 [04:58<00:14, 14.55s/it]"
          ]
        },
        {
          "output_type": "stream",
          "name": "stdout",
          "text": [
            "Moviepy - Done !\n",
            "Moviepy - video ready /content/video/rl-video-episode-0.mp4\n"
          ]
        },
        {
          "output_type": "stream",
          "name": "stderr",
          "text": [
            "Epochs: 18 Reward: 200.0:  95%|█████████▌| 19/20 [04:58<00:14, 14.55s/it]"
          ]
        },
        {
          "output_type": "stream",
          "name": "stdout",
          "text": [
            "Moviepy - Building video /content/video/rl-video-episode-0.mp4.\n",
            "Moviepy - Writing video /content/video/rl-video-episode-0.mp4\n",
            "\n"
          ]
        },
        {
          "output_type": "stream",
          "name": "stderr",
          "text": [
            "\n",
            "t:   0%|          | 0/202 [00:00<?, ?it/s, now=None]\u001b[A\n",
            "t:  20%|█▉        | 40/202 [00:00<00:00, 396.82it/s, now=None]\u001b[A\n",
            "t:  40%|███▉      | 80/202 [00:00<00:00, 301.39it/s, now=None]\u001b[A\n",
            "t:  55%|█████▌    | 112/202 [00:00<00:00, 299.49it/s, now=None]\u001b[A\n",
            "t:  71%|███████   | 143/202 [00:00<00:00, 299.05it/s, now=None]\u001b[A\n",
            "t:  87%|████████▋ | 175/202 [00:00<00:00, 301.46it/s, now=None]\u001b[A\n",
            "Epochs: 18 Reward: 200.0:  95%|█████████▌| 19/20 [04:59<00:14, 14.55s/it]"
          ]
        },
        {
          "output_type": "stream",
          "name": "stdout",
          "text": [
            "Moviepy - Done !\n",
            "Moviepy - video ready /content/video/rl-video-episode-0.mp4\n"
          ]
        },
        {
          "output_type": "stream",
          "name": "stderr",
          "text": [
            "Epochs: 18 Reward: 200.0:  95%|█████████▌| 19/20 [05:00<00:14, 14.55s/it]"
          ]
        },
        {
          "output_type": "stream",
          "name": "stdout",
          "text": [
            "Moviepy - Building video /content/video/rl-video-episode-0.mp4.\n",
            "Moviepy - Writing video /content/video/rl-video-episode-0.mp4\n",
            "\n"
          ]
        },
        {
          "output_type": "stream",
          "name": "stderr",
          "text": [
            "\n",
            "t:   0%|          | 0/202 [00:00<?, ?it/s, now=None]\u001b[A\n",
            "t:  17%|█▋        | 35/202 [00:00<00:00, 345.26it/s, now=None]\u001b[A\n",
            "t:  35%|███▍      | 70/202 [00:00<00:00, 309.57it/s, now=None]\u001b[A\n",
            "t:  50%|█████     | 102/202 [00:00<00:00, 301.25it/s, now=None]\u001b[A\n",
            "t:  67%|██████▋   | 135/202 [00:00<00:00, 308.95it/s, now=None]\u001b[A\n",
            "t:  83%|████████▎ | 167/202 [00:00<00:00, 304.43it/s, now=None]\u001b[A\n",
            "t:  98%|█████████▊| 198/202 [00:00<00:00, 305.26it/s, now=None]\u001b[A\n",
            "Epochs: 18 Reward: 200.0:  95%|█████████▌| 19/20 [05:01<00:14, 14.55s/it]"
          ]
        },
        {
          "output_type": "stream",
          "name": "stdout",
          "text": [
            "Moviepy - Done !\n",
            "Moviepy - video ready /content/video/rl-video-episode-0.mp4\n"
          ]
        },
        {
          "output_type": "stream",
          "name": "stderr",
          "text": [
            "Epochs: 18 Reward: 200.0:  95%|█████████▌| 19/20 [05:01<00:14, 14.55s/it]"
          ]
        },
        {
          "output_type": "stream",
          "name": "stdout",
          "text": [
            "Moviepy - Building video /content/video/rl-video-episode-0.mp4.\n",
            "Moviepy - Writing video /content/video/rl-video-episode-0.mp4\n",
            "\n"
          ]
        },
        {
          "output_type": "stream",
          "name": "stderr",
          "text": [
            "\n",
            "t:   0%|          | 0/202 [00:00<?, ?it/s, now=None]\u001b[A\n",
            "t:  17%|█▋        | 35/202 [00:00<00:00, 349.18it/s, now=None]\u001b[A\n",
            "t:  35%|███▍      | 70/202 [00:00<00:00, 282.66it/s, now=None]\u001b[A\n",
            "t:  50%|████▉     | 100/202 [00:00<00:00, 288.59it/s, now=None]\u001b[A\n",
            "t:  64%|██████▍   | 130/202 [00:00<00:00, 289.72it/s, now=None]\u001b[A\n",
            "t:  80%|███████▉  | 161/202 [00:00<00:00, 290.91it/s, now=None]\u001b[A\n",
            "t:  96%|█████████▌| 193/202 [00:00<00:00, 297.13it/s, now=None]\u001b[A\n",
            "Epochs: 18 Reward: 200.0:  95%|█████████▌| 19/20 [05:02<00:14, 14.55s/it]"
          ]
        },
        {
          "output_type": "stream",
          "name": "stdout",
          "text": [
            "Moviepy - Done !\n",
            "Moviepy - video ready /content/video/rl-video-episode-0.mp4\n"
          ]
        },
        {
          "output_type": "stream",
          "name": "stderr",
          "text": [
            "Epochs: 18 Reward: 200.0:  95%|█████████▌| 19/20 [05:03<00:14, 14.55s/it]"
          ]
        },
        {
          "output_type": "stream",
          "name": "stdout",
          "text": [
            "Moviepy - Building video /content/video/rl-video-episode-0.mp4.\n",
            "Moviepy - Writing video /content/video/rl-video-episode-0.mp4\n",
            "\n"
          ]
        },
        {
          "output_type": "stream",
          "name": "stderr",
          "text": [
            "\n",
            "t:   0%|          | 0/202 [00:00<?, ?it/s, now=None]\u001b[A\n",
            "t:  19%|█▉        | 39/202 [00:00<00:00, 388.68it/s, now=None]\u001b[A\n",
            "t:  39%|███▊      | 78/202 [00:00<00:00, 316.16it/s, now=None]\u001b[A\n",
            "t:  55%|█████▍    | 111/202 [00:00<00:00, 315.64it/s, now=None]\u001b[A\n",
            "t:  71%|███████▏  | 144/202 [00:00<00:00, 313.02it/s, now=None]\u001b[A\n",
            "t:  87%|████████▋ | 176/202 [00:00<00:00, 313.90it/s, now=None]\u001b[A\n",
            "Epochs: 18 Reward: 200.0:  95%|█████████▌| 19/20 [05:04<00:14, 14.55s/it]"
          ]
        },
        {
          "output_type": "stream",
          "name": "stdout",
          "text": [
            "Moviepy - Done !\n",
            "Moviepy - video ready /content/video/rl-video-episode-0.mp4\n"
          ]
        },
        {
          "output_type": "stream",
          "name": "stderr",
          "text": [
            "Epochs: 18 Reward: 200.0:  95%|█████████▌| 19/20 [05:04<00:14, 14.55s/it]"
          ]
        },
        {
          "output_type": "stream",
          "name": "stdout",
          "text": [
            "Moviepy - Building video /content/video/rl-video-episode-0.mp4.\n",
            "Moviepy - Writing video /content/video/rl-video-episode-0.mp4\n",
            "\n"
          ]
        },
        {
          "output_type": "stream",
          "name": "stderr",
          "text": [
            "\n",
            "t:   0%|          | 0/202 [00:00<?, ?it/s, now=None]\u001b[A\n",
            "t:  18%|█▊        | 37/202 [00:00<00:00, 367.62it/s, now=None]\u001b[A\n",
            "t:  37%|███▋      | 74/202 [00:00<00:00, 310.38it/s, now=None]\u001b[A\n",
            "t:  52%|█████▏    | 106/202 [00:00<00:00, 296.14it/s, now=None]\u001b[A\n",
            "t:  67%|██████▋   | 136/202 [00:00<00:00, 286.96it/s, now=None]\u001b[A\n",
            "t:  82%|████████▏ | 165/202 [00:00<00:00, 287.58it/s, now=None]\u001b[A\n",
            "t:  96%|█████████▌| 194/202 [00:00<00:00, 287.56it/s, now=None]\u001b[A\n",
            "Epochs: 18 Reward: 200.0:  95%|█████████▌| 19/20 [05:05<00:14, 14.55s/it]"
          ]
        },
        {
          "output_type": "stream",
          "name": "stdout",
          "text": [
            "Moviepy - Done !\n",
            "Moviepy - video ready /content/video/rl-video-episode-0.mp4\n"
          ]
        },
        {
          "output_type": "stream",
          "name": "stderr",
          "text": [
            "Epochs: 18 Reward: 200.0:  95%|█████████▌| 19/20 [05:06<00:14, 14.55s/it]"
          ]
        },
        {
          "output_type": "stream",
          "name": "stdout",
          "text": [
            "Moviepy - Building video /content/video/rl-video-episode-0.mp4.\n",
            "Moviepy - Writing video /content/video/rl-video-episode-0.mp4\n",
            "\n"
          ]
        },
        {
          "output_type": "stream",
          "name": "stderr",
          "text": [
            "\n",
            "t:   0%|          | 0/202 [00:00<?, ?it/s, now=None]\u001b[A\n",
            "t:  18%|█▊        | 36/202 [00:00<00:00, 359.79it/s, now=None]\u001b[A\n",
            "t:  36%|███▌      | 72/202 [00:00<00:00, 312.57it/s, now=None]\u001b[A\n",
            "t:  51%|█████▏    | 104/202 [00:00<00:00, 270.20it/s, now=None]\u001b[A\n",
            "t:  65%|██████▌   | 132/202 [00:00<00:00, 233.88it/s, now=None]\u001b[A\n",
            "t:  78%|███████▊  | 157/202 [00:00<00:00, 217.32it/s, now=None]\u001b[A\n",
            "t:  89%|████████▉ | 180/202 [00:00<00:00, 207.72it/s, now=None]\u001b[A\n",
            "t: 100%|██████████| 202/202 [00:00<00:00, 199.87it/s, now=None]\u001b[A\n",
            "Epochs: 18 Reward: 200.0:  95%|█████████▌| 19/20 [05:07<00:14, 14.55s/it]"
          ]
        },
        {
          "output_type": "stream",
          "name": "stdout",
          "text": [
            "Moviepy - Done !\n",
            "Moviepy - video ready /content/video/rl-video-episode-0.mp4\n"
          ]
        },
        {
          "output_type": "stream",
          "name": "stderr",
          "text": [
            "Epochs: 18 Reward: 200.0:  95%|█████████▌| 19/20 [05:08<00:14, 14.55s/it]"
          ]
        },
        {
          "output_type": "stream",
          "name": "stdout",
          "text": [
            "Moviepy - Building video /content/video/rl-video-episode-0.mp4.\n",
            "Moviepy - Writing video /content/video/rl-video-episode-0.mp4\n",
            "\n"
          ]
        },
        {
          "output_type": "stream",
          "name": "stderr",
          "text": [
            "\n",
            "t:   0%|          | 0/202 [00:00<?, ?it/s, now=None]\u001b[A\n",
            "t:  11%|█         | 22/202 [00:00<00:00, 219.06it/s, now=None]\u001b[A\n",
            "t:  24%|██▍       | 48/202 [00:00<00:00, 219.61it/s, now=None]\u001b[A\n",
            "t:  35%|███▍      | 70/202 [00:00<00:00, 195.57it/s, now=None]\u001b[A\n",
            "t:  45%|████▍     | 90/202 [00:00<00:00, 194.46it/s, now=None]\u001b[A\n",
            "t:  54%|█████▍    | 110/202 [00:00<00:00, 190.25it/s, now=None]\u001b[A\n",
            "t:  64%|██████▍   | 130/202 [00:00<00:00, 188.75it/s, now=None]\u001b[A\n",
            "t:  79%|███████▉  | 160/202 [00:00<00:00, 222.52it/s, now=None]\u001b[A\n",
            "t:  95%|█████████▍| 191/202 [00:00<00:00, 248.00it/s, now=None]\u001b[A\n",
            "Epochs: 18 Reward: 200.0:  95%|█████████▌| 19/20 [05:09<00:14, 14.55s/it]"
          ]
        },
        {
          "output_type": "stream",
          "name": "stdout",
          "text": [
            "Moviepy - Done !\n",
            "Moviepy - video ready /content/video/rl-video-episode-0.mp4\n"
          ]
        },
        {
          "output_type": "stream",
          "name": "stderr",
          "text": [
            "Epochs: 18 Reward: 200.0:  95%|█████████▌| 19/20 [05:10<00:14, 14.55s/it]"
          ]
        },
        {
          "output_type": "stream",
          "name": "stdout",
          "text": [
            "Moviepy - Building video /content/video/rl-video-episode-0.mp4.\n",
            "Moviepy - Writing video /content/video/rl-video-episode-0.mp4\n",
            "\n"
          ]
        },
        {
          "output_type": "stream",
          "name": "stderr",
          "text": [
            "\n",
            "t:   0%|          | 0/202 [00:00<?, ?it/s, now=None]\u001b[A\n",
            "t:  19%|█▉        | 39/202 [00:00<00:00, 386.05it/s, now=None]\u001b[A\n",
            "t:  39%|███▊      | 78/202 [00:00<00:00, 313.58it/s, now=None]\u001b[A\n",
            "t:  55%|█████▍    | 111/202 [00:00<00:00, 305.54it/s, now=None]\u001b[A\n",
            "t:  70%|███████   | 142/202 [00:00<00:00, 307.09it/s, now=None]\u001b[A\n",
            "t:  86%|████████▌ | 173/202 [00:00<00:00, 301.61it/s, now=None]\u001b[A\n",
            "Epochs: 18 Reward: 200.0:  95%|█████████▌| 19/20 [05:11<00:14, 14.55s/it]"
          ]
        },
        {
          "output_type": "stream",
          "name": "stdout",
          "text": [
            "Moviepy - Done !\n",
            "Moviepy - video ready /content/video/rl-video-episode-0.mp4\n"
          ]
        },
        {
          "output_type": "stream",
          "name": "stderr",
          "text": [
            "Epochs: 18 Reward: 200.0:  95%|█████████▌| 19/20 [05:12<00:14, 14.55s/it]"
          ]
        },
        {
          "output_type": "stream",
          "name": "stdout",
          "text": [
            "Moviepy - Building video /content/video/rl-video-episode-0.mp4.\n",
            "Moviepy - Writing video /content/video/rl-video-episode-0.mp4\n",
            "\n"
          ]
        },
        {
          "output_type": "stream",
          "name": "stderr",
          "text": [
            "\n",
            "t:   0%|          | 0/202 [00:00<?, ?it/s, now=None]\u001b[A\n",
            "t:  17%|█▋        | 35/202 [00:00<00:00, 343.41it/s, now=None]\u001b[A\n",
            "t:  35%|███▍      | 70/202 [00:00<00:00, 307.04it/s, now=None]\u001b[A\n",
            "t:  51%|█████     | 103/202 [00:00<00:00, 314.09it/s, now=None]\u001b[A\n",
            "t:  67%|██████▋   | 135/202 [00:00<00:00, 296.91it/s, now=None]\u001b[A\n",
            "t:  82%|████████▏ | 166/202 [00:00<00:00, 300.55it/s, now=None]\u001b[A\n",
            "t:  98%|█████████▊| 197/202 [00:00<00:00, 296.68it/s, now=None]\u001b[A\n",
            "Epochs: 18 Reward: 200.0:  95%|█████████▌| 19/20 [05:12<00:14, 14.55s/it]"
          ]
        },
        {
          "output_type": "stream",
          "name": "stdout",
          "text": [
            "Moviepy - Done !\n",
            "Moviepy - video ready /content/video/rl-video-episode-0.mp4\n"
          ]
        },
        {
          "output_type": "stream",
          "name": "stderr",
          "text": [
            "Epochs: 18 Reward: 200.0:  95%|█████████▌| 19/20 [05:13<00:14, 14.55s/it]"
          ]
        },
        {
          "output_type": "stream",
          "name": "stdout",
          "text": [
            "Moviepy - Building video /content/video/rl-video-episode-0.mp4.\n",
            "Moviepy - Writing video /content/video/rl-video-episode-0.mp4\n",
            "\n"
          ]
        },
        {
          "output_type": "stream",
          "name": "stderr",
          "text": [
            "\n",
            "t:   0%|          | 0/202 [00:00<?, ?it/s, now=None]\u001b[A\n",
            "t:  17%|█▋        | 35/202 [00:00<00:00, 348.91it/s, now=None]\u001b[A\n",
            "t:  35%|███▍      | 70/202 [00:00<00:00, 310.82it/s, now=None]\u001b[A\n",
            "t:  50%|█████     | 102/202 [00:00<00:00, 302.82it/s, now=None]\u001b[A\n",
            "t:  66%|██████▌   | 133/202 [00:00<00:00, 304.48it/s, now=None]\u001b[A\n",
            "t:  81%|████████  | 164/202 [00:00<00:00, 299.59it/s, now=None]\u001b[A\n",
            "t:  97%|█████████▋| 195/202 [00:00<00:00, 297.91it/s, now=None]\u001b[A\n",
            "Epochs: 18 Reward: 200.0:  95%|█████████▌| 19/20 [05:14<00:14, 14.55s/it]"
          ]
        },
        {
          "output_type": "stream",
          "name": "stdout",
          "text": [
            "Moviepy - Done !\n",
            "Moviepy - video ready /content/video/rl-video-episode-0.mp4\n"
          ]
        },
        {
          "output_type": "stream",
          "name": "stderr",
          "text": [
            "Epochs: 18 Reward: 200.0:  95%|█████████▌| 19/20 [05:15<00:14, 14.55s/it]"
          ]
        },
        {
          "output_type": "stream",
          "name": "stdout",
          "text": [
            "Moviepy - Building video /content/video/rl-video-episode-0.mp4.\n",
            "Moviepy - Writing video /content/video/rl-video-episode-0.mp4\n",
            "\n"
          ]
        },
        {
          "output_type": "stream",
          "name": "stderr",
          "text": [
            "\n",
            "t:   0%|          | 0/202 [00:00<?, ?it/s, now=None]\u001b[A\n",
            "t:  17%|█▋        | 35/202 [00:00<00:00, 348.18it/s, now=None]\u001b[A\n",
            "t:  35%|███▍      | 70/202 [00:00<00:00, 313.79it/s, now=None]\u001b[A\n",
            "t:  50%|█████     | 102/202 [00:00<00:00, 296.38it/s, now=None]\u001b[A\n",
            "t:  66%|██████▋   | 134/202 [00:00<00:00, 303.68it/s, now=None]\u001b[A\n",
            "t:  82%|████████▏ | 166/202 [00:00<00:00, 308.02it/s, now=None]\u001b[A\n",
            "t:  98%|█████████▊| 197/202 [00:00<00:00, 304.54it/s, now=None]\u001b[A\n",
            "Epochs: 18 Reward: 200.0:  95%|█████████▌| 19/20 [05:16<00:14, 14.55s/it]"
          ]
        },
        {
          "output_type": "stream",
          "name": "stdout",
          "text": [
            "Moviepy - Done !\n",
            "Moviepy - video ready /content/video/rl-video-episode-0.mp4\n"
          ]
        },
        {
          "output_type": "stream",
          "name": "stderr",
          "text": [
            "Epochs: 18 Reward: 200.0:  95%|█████████▌| 19/20 [05:16<00:14, 14.55s/it]"
          ]
        },
        {
          "output_type": "stream",
          "name": "stdout",
          "text": [
            "Moviepy - Building video /content/video/rl-video-episode-0.mp4.\n",
            "Moviepy - Writing video /content/video/rl-video-episode-0.mp4\n",
            "\n"
          ]
        },
        {
          "output_type": "stream",
          "name": "stderr",
          "text": [
            "\n",
            "t:   0%|          | 0/202 [00:00<?, ?it/s, now=None]\u001b[A\n",
            "t:  18%|█▊        | 37/202 [00:00<00:00, 367.09it/s, now=None]\u001b[A\n",
            "t:  37%|███▋      | 74/202 [00:00<00:00, 313.87it/s, now=None]\u001b[A\n",
            "t:  52%|█████▏    | 106/202 [00:00<00:00, 313.09it/s, now=None]\u001b[A\n",
            "t:  68%|██████▊   | 138/202 [00:00<00:00, 302.13it/s, now=None]\u001b[A\n",
            "t:  84%|████████▎ | 169/202 [00:00<00:00, 304.03it/s, now=None]\u001b[A\n",
            "t: 100%|█████████▉| 201/202 [00:00<00:00, 308.70it/s, now=None]\u001b[A\n",
            "Epochs: 18 Reward: 200.0:  95%|█████████▌| 19/20 [05:17<00:14, 14.55s/it]"
          ]
        },
        {
          "output_type": "stream",
          "name": "stdout",
          "text": [
            "Moviepy - Done !\n",
            "Moviepy - video ready /content/video/rl-video-episode-0.mp4\n"
          ]
        },
        {
          "output_type": "stream",
          "name": "stderr",
          "text": [
            "Epochs: 18 Reward: 200.0:  95%|█████████▌| 19/20 [05:18<00:14, 14.55s/it]"
          ]
        },
        {
          "output_type": "stream",
          "name": "stdout",
          "text": [
            "Moviepy - Building video /content/video/rl-video-episode-0.mp4.\n",
            "Moviepy - Writing video /content/video/rl-video-episode-0.mp4\n",
            "\n"
          ]
        },
        {
          "output_type": "stream",
          "name": "stderr",
          "text": [
            "\n",
            "t:   0%|          | 0/202 [00:00<?, ?it/s, now=None]\u001b[A\n",
            "t:  15%|█▍        | 30/202 [00:00<00:00, 297.08it/s, now=None]\u001b[A\n",
            "t:  30%|██▉       | 60/202 [00:00<00:00, 280.25it/s, now=None]\u001b[A\n",
            "t:  44%|████▍     | 89/202 [00:00<00:00, 280.48it/s, now=None]\u001b[A\n",
            "t:  58%|█████▊    | 118/202 [00:00<00:00, 270.71it/s, now=None]\u001b[A\n",
            "t:  72%|███████▏  | 146/202 [00:00<00:00, 273.26it/s, now=None]\u001b[A\n",
            "t:  86%|████████▌ | 174/202 [00:00<00:00, 274.64it/s, now=None]\u001b[A\n",
            "Epochs: 18 Reward: 200.0:  95%|█████████▌| 19/20 [05:19<00:14, 14.55s/it]"
          ]
        },
        {
          "output_type": "stream",
          "name": "stdout",
          "text": [
            "Moviepy - Done !\n",
            "Moviepy - video ready /content/video/rl-video-episode-0.mp4\n"
          ]
        },
        {
          "output_type": "stream",
          "name": "stderr",
          "text": [
            "Epochs: 18 Reward: 200.0:  95%|█████████▌| 19/20 [05:20<00:14, 14.55s/it]"
          ]
        },
        {
          "output_type": "stream",
          "name": "stdout",
          "text": [
            "Moviepy - Building video /content/video/rl-video-episode-0.mp4.\n",
            "Moviepy - Writing video /content/video/rl-video-episode-0.mp4\n",
            "\n"
          ]
        },
        {
          "output_type": "stream",
          "name": "stderr",
          "text": [
            "\n",
            "t:   0%|          | 0/202 [00:00<?, ?it/s, now=None]\u001b[A\n",
            "t:  10%|▉         | 20/202 [00:00<00:00, 198.44it/s, now=None]\u001b[A\n",
            "t:  24%|██▍       | 48/202 [00:00<00:00, 222.99it/s, now=None]\u001b[A\n",
            "t:  35%|███▌      | 71/202 [00:00<00:00, 204.78it/s, now=None]\u001b[A\n",
            "t:  46%|████▌     | 92/202 [00:00<00:00, 201.46it/s, now=None]\u001b[A\n",
            "t:  56%|█████▌    | 113/202 [00:00<00:00, 189.05it/s, now=None]\u001b[A\n",
            "t:  65%|██████▌   | 132/202 [00:00<00:00, 183.82it/s, now=None]\u001b[A\n",
            "t:  75%|███████▌  | 152/202 [00:00<00:00, 186.49it/s, now=None]\u001b[A\n",
            "t:  85%|████████▌ | 172/202 [00:00<00:00, 190.24it/s, now=None]\u001b[A\n",
            "t:  95%|█████████▌| 192/202 [00:00<00:00, 188.77it/s, now=None]\u001b[A\n",
            "Epochs: 18 Reward: 200.0:  95%|█████████▌| 19/20 [05:21<00:14, 14.55s/it]"
          ]
        },
        {
          "output_type": "stream",
          "name": "stdout",
          "text": [
            "Moviepy - Done !\n",
            "Moviepy - video ready /content/video/rl-video-episode-0.mp4\n"
          ]
        },
        {
          "output_type": "stream",
          "name": "stderr",
          "text": [
            "Epochs: 18 Reward: 200.0:  95%|█████████▌| 19/20 [05:22<00:14, 14.55s/it]"
          ]
        },
        {
          "output_type": "stream",
          "name": "stdout",
          "text": [
            "Moviepy - Building video /content/video/rl-video-episode-0.mp4.\n",
            "Moviepy - Writing video /content/video/rl-video-episode-0.mp4\n",
            "\n"
          ]
        },
        {
          "output_type": "stream",
          "name": "stderr",
          "text": [
            "\n",
            "t:   0%|          | 0/202 [00:00<?, ?it/s, now=None]\u001b[A\n",
            "t:  15%|█▌        | 31/202 [00:00<00:00, 308.44it/s, now=None]\u001b[A\n",
            "t:  31%|███       | 62/202 [00:00<00:00, 295.58it/s, now=None]\u001b[A\n",
            "t:  47%|████▋     | 95/202 [00:00<00:00, 308.39it/s, now=None]\u001b[A\n",
            "t:  62%|██████▏   | 126/202 [00:00<00:00, 293.70it/s, now=None]\u001b[A\n",
            "t:  77%|███████▋  | 156/202 [00:00<00:00, 287.93it/s, now=None]\u001b[A\n",
            "t:  92%|█████████▏| 186/202 [00:00<00:00, 289.57it/s, now=None]\u001b[A\n",
            "Epochs: 18 Reward: 200.0:  95%|█████████▌| 19/20 [05:23<00:14, 14.55s/it]"
          ]
        },
        {
          "output_type": "stream",
          "name": "stdout",
          "text": [
            "Moviepy - Done !\n",
            "Moviepy - video ready /content/video/rl-video-episode-0.mp4\n"
          ]
        },
        {
          "output_type": "stream",
          "name": "stderr",
          "text": [
            "Epochs: 18 Reward: 200.0:  95%|█████████▌| 19/20 [05:23<00:14, 14.55s/it]"
          ]
        },
        {
          "output_type": "stream",
          "name": "stdout",
          "text": [
            "Moviepy - Building video /content/video/rl-video-episode-0.mp4.\n",
            "Moviepy - Writing video /content/video/rl-video-episode-0.mp4\n",
            "\n"
          ]
        },
        {
          "output_type": "stream",
          "name": "stderr",
          "text": [
            "\n",
            "t:   0%|          | 0/202 [00:00<?, ?it/s, now=None]\u001b[A\n",
            "t:  13%|█▎        | 27/202 [00:00<00:00, 264.72it/s, now=None]\u001b[A\n",
            "t:  27%|██▋       | 54/202 [00:00<00:00, 222.18it/s, now=None]\u001b[A\n",
            "t:  38%|███▊      | 77/202 [00:00<00:00, 203.29it/s, now=None]\u001b[A\n",
            "t:  49%|████▊     | 98/202 [00:00<00:00, 199.61it/s, now=None]\u001b[A\n",
            "t:  59%|█████▉    | 119/202 [00:00<00:00, 195.26it/s, now=None]\u001b[A\n",
            "t:  69%|██████▉   | 139/202 [00:00<00:00, 193.24it/s, now=None]\u001b[A\n",
            "t:  83%|████████▎ | 168/202 [00:00<00:00, 216.16it/s, now=None]\u001b[A\n",
            "t:  95%|█████████▌| 192/202 [00:00<00:00, 221.99it/s, now=None]\u001b[A\n",
            "Epochs: 18 Reward: 200.0:  95%|█████████▌| 19/20 [05:24<00:14, 14.55s/it]"
          ]
        },
        {
          "output_type": "stream",
          "name": "stdout",
          "text": [
            "Moviepy - Done !\n",
            "Moviepy - video ready /content/video/rl-video-episode-0.mp4\n"
          ]
        },
        {
          "output_type": "stream",
          "name": "stderr",
          "text": [
            "Epochs: 18 Reward: 200.0:  95%|█████████▌| 19/20 [05:25<00:14, 14.55s/it]"
          ]
        },
        {
          "output_type": "stream",
          "name": "stdout",
          "text": [
            "Moviepy - Building video /content/video/rl-video-episode-0.mp4.\n",
            "Moviepy - Writing video /content/video/rl-video-episode-0.mp4\n",
            "\n"
          ]
        },
        {
          "output_type": "stream",
          "name": "stderr",
          "text": [
            "\n",
            "t:   0%|          | 0/202 [00:00<?, ?it/s, now=None]\u001b[A\n",
            "t:  20%|█▉        | 40/202 [00:00<00:00, 394.93it/s, now=None]\u001b[A\n",
            "t:  40%|███▉      | 80/202 [00:00<00:00, 294.82it/s, now=None]\u001b[A\n",
            "t:  55%|█████▍    | 111/202 [00:00<00:00, 289.96it/s, now=None]\u001b[A\n",
            "t:  70%|██████▉   | 141/202 [00:00<00:00, 288.82it/s, now=None]\u001b[A\n",
            "t:  85%|████████▍ | 171/202 [00:00<00:00, 292.01it/s, now=None]\u001b[A\n",
            "t: 100%|█████████▉| 201/202 [00:00<00:00, 287.51it/s, now=None]\u001b[A\n",
            "Epochs: 18 Reward: 200.0:  95%|█████████▌| 19/20 [05:26<00:14, 14.55s/it]"
          ]
        },
        {
          "output_type": "stream",
          "name": "stdout",
          "text": [
            "Moviepy - Done !\n",
            "Moviepy - video ready /content/video/rl-video-episode-0.mp4\n"
          ]
        },
        {
          "output_type": "stream",
          "name": "stderr",
          "text": [
            "Epochs: 18 Reward: 200.0:  95%|█████████▌| 19/20 [05:27<00:14, 14.55s/it]"
          ]
        },
        {
          "output_type": "stream",
          "name": "stdout",
          "text": [
            "Moviepy - Building video /content/video/rl-video-episode-0.mp4.\n",
            "Moviepy - Writing video /content/video/rl-video-episode-0.mp4\n",
            "\n"
          ]
        },
        {
          "output_type": "stream",
          "name": "stderr",
          "text": [
            "\n",
            "t:   0%|          | 0/202 [00:00<?, ?it/s, now=None]\u001b[A\n",
            "t:  16%|█▋        | 33/202 [00:00<00:00, 325.35it/s, now=None]\u001b[A\n",
            "t:  33%|███▎      | 66/202 [00:00<00:00, 307.03it/s, now=None]\u001b[A\n",
            "t:  48%|████▊     | 97/202 [00:00<00:00, 297.03it/s, now=None]\u001b[A\n",
            "t:  63%|██████▎   | 127/202 [00:00<00:00, 297.46it/s, now=None]\u001b[A\n",
            "t:  78%|███████▊  | 158/202 [00:00<00:00, 299.49it/s, now=None]\u001b[A\n",
            "t:  93%|█████████▎| 188/202 [00:00<00:00, 296.69it/s, now=None]\u001b[A\n",
            "Epochs: 18 Reward: 200.0:  95%|█████████▌| 19/20 [05:28<00:14, 14.55s/it]"
          ]
        },
        {
          "output_type": "stream",
          "name": "stdout",
          "text": [
            "Moviepy - Done !\n",
            "Moviepy - video ready /content/video/rl-video-episode-0.mp4\n"
          ]
        },
        {
          "output_type": "stream",
          "name": "stderr",
          "text": [
            "Epochs: 18 Reward: 200.0:  95%|█████████▌| 19/20 [05:28<00:14, 14.55s/it]"
          ]
        },
        {
          "output_type": "stream",
          "name": "stdout",
          "text": [
            "Moviepy - Building video /content/video/rl-video-episode-0.mp4.\n",
            "Moviepy - Writing video /content/video/rl-video-episode-0.mp4\n",
            "\n"
          ]
        },
        {
          "output_type": "stream",
          "name": "stderr",
          "text": [
            "\n",
            "t:   0%|          | 0/202 [00:00<?, ?it/s, now=None]\u001b[A\n",
            "t:  16%|█▌        | 32/202 [00:00<00:00, 316.90it/s, now=None]\u001b[A\n",
            "t:  32%|███▏      | 64/202 [00:00<00:00, 278.92it/s, now=None]\u001b[A\n",
            "t:  47%|████▋     | 95/202 [00:00<00:00, 291.01it/s, now=None]\u001b[A\n",
            "t:  63%|██████▎   | 127/202 [00:00<00:00, 298.02it/s, now=None]\u001b[A\n",
            "t:  79%|███████▊  | 159/202 [00:00<00:00, 304.03it/s, now=None]\u001b[A\n",
            "t:  94%|█████████▍| 190/202 [00:00<00:00, 302.70it/s, now=None]\u001b[A\n",
            "Epochs: 18 Reward: 200.0:  95%|█████████▌| 19/20 [05:29<00:14, 14.55s/it]"
          ]
        },
        {
          "output_type": "stream",
          "name": "stdout",
          "text": [
            "Moviepy - Done !\n",
            "Moviepy - video ready /content/video/rl-video-episode-0.mp4\n"
          ]
        },
        {
          "output_type": "stream",
          "name": "stderr",
          "text": [
            "Epochs: 18 Reward: 200.0:  95%|█████████▌| 19/20 [05:30<00:14, 14.55s/it]"
          ]
        },
        {
          "output_type": "stream",
          "name": "stdout",
          "text": [
            "Moviepy - Building video /content/video/rl-video-episode-0.mp4.\n",
            "Moviepy - Writing video /content/video/rl-video-episode-0.mp4\n",
            "\n"
          ]
        },
        {
          "output_type": "stream",
          "name": "stderr",
          "text": [
            "\n",
            "t:   0%|          | 0/202 [00:00<?, ?it/s, now=None]\u001b[A\n",
            "t:  19%|█▉        | 38/202 [00:00<00:00, 376.46it/s, now=None]\u001b[A\n",
            "t:  38%|███▊      | 76/202 [00:00<00:00, 302.84it/s, now=None]\u001b[A\n",
            "t:  53%|█████▎    | 108/202 [00:00<00:00, 299.70it/s, now=None]\u001b[A\n",
            "t:  69%|██████▉   | 139/202 [00:00<00:00, 302.34it/s, now=None]\u001b[A\n",
            "t:  84%|████████▍ | 170/202 [00:00<00:00, 295.88it/s, now=None]\u001b[A\n",
            "t: 100%|█████████▉| 201/202 [00:00<00:00, 296.52it/s, now=None]\u001b[A\n",
            "Epochs: 18 Reward: 200.0:  95%|█████████▌| 19/20 [05:31<00:14, 14.55s/it]"
          ]
        },
        {
          "output_type": "stream",
          "name": "stdout",
          "text": [
            "Moviepy - Done !\n",
            "Moviepy - video ready /content/video/rl-video-episode-0.mp4\n"
          ]
        },
        {
          "output_type": "stream",
          "name": "stderr",
          "text": [
            "Epochs: 18 Reward: 200.0:  95%|█████████▌| 19/20 [05:31<00:14, 14.55s/it]"
          ]
        },
        {
          "output_type": "stream",
          "name": "stdout",
          "text": [
            "Moviepy - Building video /content/video/rl-video-episode-0.mp4.\n",
            "Moviepy - Writing video /content/video/rl-video-episode-0.mp4\n",
            "\n"
          ]
        },
        {
          "output_type": "stream",
          "name": "stderr",
          "text": [
            "\n",
            "t:   0%|          | 0/202 [00:00<?, ?it/s, now=None]\u001b[A\n",
            "t:  16%|█▋        | 33/202 [00:00<00:00, 328.70it/s, now=None]\u001b[A\n",
            "t:  33%|███▎      | 66/202 [00:00<00:00, 219.48it/s, now=None]\u001b[A\n",
            "t:  45%|████▌     | 91/202 [00:00<00:00, 207.35it/s, now=None]\u001b[A\n",
            "t:  56%|█████▌    | 113/202 [00:00<00:00, 205.40it/s, now=None]\u001b[A\n",
            "t:  67%|██████▋   | 135/202 [00:00<00:00, 201.94it/s, now=None]\u001b[A\n",
            "t:  77%|███████▋  | 156/202 [00:00<00:00, 193.19it/s, now=None]\u001b[A\n",
            "t:  87%|████████▋ | 176/202 [00:00<00:00, 191.78it/s, now=None]\u001b[A\n",
            "t:  97%|█████████▋| 196/202 [00:00<00:00, 187.48it/s, now=None]\u001b[A\n",
            "Epochs: 18 Reward: 200.0:  95%|█████████▌| 19/20 [05:33<00:14, 14.55s/it]"
          ]
        },
        {
          "output_type": "stream",
          "name": "stdout",
          "text": [
            "Moviepy - Done !\n",
            "Moviepy - video ready /content/video/rl-video-episode-0.mp4\n"
          ]
        },
        {
          "output_type": "stream",
          "name": "stderr",
          "text": [
            "Epochs: 18 Reward: 200.0:  95%|█████████▌| 19/20 [05:34<00:14, 14.55s/it]"
          ]
        },
        {
          "output_type": "stream",
          "name": "stdout",
          "text": [
            "Moviepy - Building video /content/video/rl-video-episode-0.mp4.\n",
            "Moviepy - Writing video /content/video/rl-video-episode-0.mp4\n",
            "\n"
          ]
        },
        {
          "output_type": "stream",
          "name": "stderr",
          "text": [
            "\n",
            "t:   0%|          | 0/202 [00:00<?, ?it/s, now=None]\u001b[A\n",
            "t:  11%|█         | 22/202 [00:00<00:00, 218.96it/s, now=None]\u001b[A\n",
            "t:  23%|██▎       | 47/202 [00:00<00:00, 229.05it/s, now=None]\u001b[A\n",
            "t:  35%|███▍      | 70/202 [00:00<00:00, 198.39it/s, now=None]\u001b[A\n",
            "t:  45%|████▌     | 91/202 [00:00<00:00, 187.67it/s, now=None]\u001b[A\n",
            "t:  60%|██████    | 122/202 [00:00<00:00, 225.95it/s, now=None]\u001b[A\n",
            "t:  75%|███████▌  | 152/202 [00:00<00:00, 248.32it/s, now=None]\u001b[A\n",
            "t:  91%|█████████ | 183/202 [00:00<00:00, 264.05it/s, now=None]\u001b[A\n",
            "Epochs: 18 Reward: 200.0:  95%|█████████▌| 19/20 [05:35<00:14, 14.55s/it]"
          ]
        },
        {
          "output_type": "stream",
          "name": "stdout",
          "text": [
            "Moviepy - Done !\n",
            "Moviepy - video ready /content/video/rl-video-episode-0.mp4\n"
          ]
        },
        {
          "output_type": "stream",
          "name": "stderr",
          "text": [
            "Epochs: 18 Reward: 200.0:  95%|█████████▌| 19/20 [05:35<00:14, 14.55s/it]"
          ]
        },
        {
          "output_type": "stream",
          "name": "stdout",
          "text": [
            "Moviepy - Building video /content/video/rl-video-episode-0.mp4.\n",
            "Moviepy - Writing video /content/video/rl-video-episode-0.mp4\n",
            "\n"
          ]
        },
        {
          "output_type": "stream",
          "name": "stderr",
          "text": [
            "\n",
            "t:   0%|          | 0/202 [00:00<?, ?it/s, now=None]\u001b[A\n",
            "t:  17%|█▋        | 35/202 [00:00<00:00, 346.67it/s, now=None]\u001b[A\n",
            "t:  35%|███▍      | 70/202 [00:00<00:00, 308.62it/s, now=None]\u001b[A\n",
            "t:  50%|█████     | 102/202 [00:00<00:00, 302.92it/s, now=None]\u001b[A\n",
            "t:  66%|██████▌   | 133/202 [00:00<00:00, 285.96it/s, now=None]\u001b[A\n",
            "t:  81%|████████  | 163/202 [00:00<00:00, 289.78it/s, now=None]\u001b[A\n",
            "t:  96%|█████████▌| 193/202 [00:00<00:00, 292.94it/s, now=None]\u001b[A\n",
            "Epochs: 18 Reward: 200.0:  95%|█████████▌| 19/20 [05:36<00:14, 14.55s/it]"
          ]
        },
        {
          "output_type": "stream",
          "name": "stdout",
          "text": [
            "Moviepy - Done !\n",
            "Moviepy - video ready /content/video/rl-video-episode-0.mp4\n"
          ]
        },
        {
          "output_type": "stream",
          "name": "stderr",
          "text": [
            "Epochs: 18 Reward: 200.0:  95%|█████████▌| 19/20 [05:37<00:14, 14.55s/it]"
          ]
        },
        {
          "output_type": "stream",
          "name": "stdout",
          "text": [
            "Moviepy - Building video /content/video/rl-video-episode-0.mp4.\n",
            "Moviepy - Writing video /content/video/rl-video-episode-0.mp4\n",
            "\n"
          ]
        },
        {
          "output_type": "stream",
          "name": "stderr",
          "text": [
            "\n",
            "t:   0%|          | 0/202 [00:00<?, ?it/s, now=None]\u001b[A\n",
            "t:  18%|█▊        | 37/202 [00:00<00:00, 361.91it/s, now=None]\u001b[A\n",
            "t:  37%|███▋      | 74/202 [00:00<00:00, 318.98it/s, now=None]\u001b[A\n",
            "t:  53%|█████▎    | 107/202 [00:00<00:00, 313.08it/s, now=None]\u001b[A\n",
            "t:  69%|██████▉   | 139/202 [00:00<00:00, 311.74it/s, now=None]\u001b[A\n",
            "t:  85%|████████▍ | 171/202 [00:00<00:00, 313.30it/s, now=None]\u001b[A\n",
            "Epochs: 18 Reward: 200.0:  95%|█████████▌| 19/20 [05:38<00:14, 14.55s/it]"
          ]
        },
        {
          "output_type": "stream",
          "name": "stdout",
          "text": [
            "Moviepy - Done !\n",
            "Moviepy - video ready /content/video/rl-video-episode-0.mp4\n"
          ]
        },
        {
          "output_type": "stream",
          "name": "stderr",
          "text": [
            "Epochs: 18 Reward: 200.0:  95%|█████████▌| 19/20 [05:38<00:14, 14.55s/it]"
          ]
        },
        {
          "output_type": "stream",
          "name": "stdout",
          "text": [
            "Moviepy - Building video /content/video/rl-video-episode-0.mp4.\n",
            "Moviepy - Writing video /content/video/rl-video-episode-0.mp4\n",
            "\n"
          ]
        },
        {
          "output_type": "stream",
          "name": "stderr",
          "text": [
            "\n",
            "t:   0%|          | 0/202 [00:00<?, ?it/s, now=None]\u001b[A\n",
            "t:  16%|█▌        | 32/202 [00:00<00:00, 317.01it/s, now=None]\u001b[A\n",
            "t:  32%|███▏      | 64/202 [00:00<00:00, 292.63it/s, now=None]\u001b[A\n",
            "t:  47%|████▋     | 94/202 [00:00<00:00, 290.13it/s, now=None]\u001b[A\n",
            "t:  61%|██████▏   | 124/202 [00:00<00:00, 289.98it/s, now=None]\u001b[A\n",
            "t:  76%|███████▌  | 154/202 [00:00<00:00, 286.67it/s, now=None]\u001b[A\n",
            "t:  91%|█████████ | 183/202 [00:00<00:00, 287.25it/s, now=None]\u001b[A\n",
            "Epochs: 18 Reward: 200.0:  95%|█████████▌| 19/20 [05:39<00:14, 14.55s/it]"
          ]
        },
        {
          "output_type": "stream",
          "name": "stdout",
          "text": [
            "Moviepy - Done !\n",
            "Moviepy - video ready /content/video/rl-video-episode-0.mp4\n"
          ]
        },
        {
          "output_type": "stream",
          "name": "stderr",
          "text": [
            "Epochs: 18 Reward: 200.0:  95%|█████████▌| 19/20 [05:40<00:14, 14.55s/it]"
          ]
        },
        {
          "output_type": "stream",
          "name": "stdout",
          "text": [
            "Moviepy - Building video /content/video/rl-video-episode-0.mp4.\n",
            "Moviepy - Writing video /content/video/rl-video-episode-0.mp4\n",
            "\n"
          ]
        },
        {
          "output_type": "stream",
          "name": "stderr",
          "text": [
            "\n",
            "t:   0%|          | 0/202 [00:00<?, ?it/s, now=None]\u001b[A\n",
            "t:  17%|█▋        | 34/202 [00:00<00:00, 337.22it/s, now=None]\u001b[A\n",
            "t:  34%|███▎      | 68/202 [00:00<00:00, 312.47it/s, now=None]\u001b[A\n",
            "t:  50%|████▉     | 100/202 [00:00<00:00, 307.71it/s, now=None]\u001b[A\n",
            "t:  65%|██████▍   | 131/202 [00:00<00:00, 308.05it/s, now=None]\u001b[A\n",
            "t:  80%|████████  | 162/202 [00:00<00:00, 301.17it/s, now=None]\u001b[A\n",
            "t:  96%|█████████▌| 193/202 [00:00<00:00, 295.74it/s, now=None]\u001b[A\n",
            "Epochs: 18 Reward: 200.0:  95%|█████████▌| 19/20 [05:41<00:14, 14.55s/it]"
          ]
        },
        {
          "output_type": "stream",
          "name": "stdout",
          "text": [
            "Moviepy - Done !\n",
            "Moviepy - video ready /content/video/rl-video-episode-0.mp4\n"
          ]
        },
        {
          "output_type": "stream",
          "name": "stderr",
          "text": [
            "Epochs: 18 Reward: 200.0:  95%|█████████▌| 19/20 [05:41<00:14, 14.55s/it]"
          ]
        },
        {
          "output_type": "stream",
          "name": "stdout",
          "text": [
            "Moviepy - Building video /content/video/rl-video-episode-0.mp4.\n",
            "Moviepy - Writing video /content/video/rl-video-episode-0.mp4\n",
            "\n"
          ]
        },
        {
          "output_type": "stream",
          "name": "stderr",
          "text": [
            "\n",
            "t:   0%|          | 0/202 [00:00<?, ?it/s, now=None]\u001b[A\n",
            "t:  17%|█▋        | 34/202 [00:00<00:00, 336.72it/s, now=None]\u001b[A\n",
            "t:  34%|███▎      | 68/202 [00:00<00:00, 297.25it/s, now=None]\u001b[A\n",
            "t:  49%|████▉     | 99/202 [00:00<00:00, 292.42it/s, now=None]\u001b[A\n",
            "t:  64%|██████▍   | 129/202 [00:00<00:00, 288.32it/s, now=None]\u001b[A\n",
            "t:  78%|███████▊  | 158/202 [00:00<00:00, 279.00it/s, now=None]\u001b[A\n",
            "t:  93%|█████████▎| 187/202 [00:00<00:00, 282.00it/s, now=None]\u001b[A\n",
            "Epochs: 18 Reward: 200.0:  95%|█████████▌| 19/20 [05:42<00:14, 14.55s/it]"
          ]
        },
        {
          "output_type": "stream",
          "name": "stdout",
          "text": [
            "Moviepy - Done !\n",
            "Moviepy - video ready /content/video/rl-video-episode-0.mp4\n"
          ]
        },
        {
          "output_type": "stream",
          "name": "stderr",
          "text": []
        },
        {
          "output_type": "display_data",
          "data": {
            "text/plain": [
              "<IPython.core.display.HTML object>"
            ],
            "text/html": [
              "<video alt=\"test\" autoplay\n",
              "                loop controls style=\"height: 400px;\">\n",
              "                <source src=\"data:video/mp4;base64,AAAAIGZ0eXBpc29tAAACAGlzb21pc28yYXZjMW1wNDEAAAAIZnJlZQAANYptZGF0AAACrgYF//+q3EXpvebZSLeWLNgg2SPu73gyNjQgLSBjb3JlIDE1OSByMjk5MSAxNzcxYjU1IC0gSC4yNjQvTVBFRy00IEFWQyBjb2RlYyAtIENvcHlsZWZ0IDIwMDMtMjAxOSAtIGh0dHA6Ly93d3cudmlkZW9sYW4ub3JnL3gyNjQuaHRtbCAtIG9wdGlvbnM6IGNhYmFjPTEgcmVmPTMgZGVibG9jaz0xOjA6MCBhbmFseXNlPTB4MzoweDExMyBtZT1oZXggc3VibWU9NyBwc3k9MSBwc3lfcmQ9MS4wMDowLjAwIG1peGVkX3JlZj0xIG1lX3JhbmdlPTE2IGNocm9tYV9tZT0xIHRyZWxsaXM9MSA4eDhkY3Q9MSBjcW09MCBkZWFkem9uZT0yMSwxMSBmYXN0X3Bza2lwPTEgY2hyb21hX3FwX29mZnNldD0tMiB0aHJlYWRzPTMgbG9va2FoZWFkX3RocmVhZHM9MSBzbGljZWRfdGhyZWFkcz0wIG5yPTAgZGVjaW1hdGU9MSBpbnRlcmxhY2VkPTAgYmx1cmF5X2NvbXBhdD0wIGNvbnN0cmFpbmVkX2ludHJhPTAgYmZyYW1lcz0zIGJfcHlyYW1pZD0yIGJfYWRhcHQ9MSBiX2JpYXM9MCBkaXJlY3Q9MSB3ZWlnaHRiPTEgb3Blbl9nb3A9MCB3ZWlnaHRwPTIga2V5aW50PTI1MCBrZXlpbnRfbWluPTI1IHNjZW5lY3V0PTQwIGludHJhX3JlZnJlc2g9MCByY19sb29rYWhlYWQ9NDAgcmM9Y3JmIG1idHJlZT0xIGNyZj0yMy4wIHFjb21wPTAuNjAgcXBtaW49MCBxcG1heD02OSBxcHN0ZXA9NCBpcF9yYXRpbz0xLjQwIGFxPTE6MS4wMACAAAACKWWIhAAz//727L4FNf2f0JcRLMXaSnA+KqSAgHc0wAAAAwAAAwAAFgn0I7DkqgN3QAAAHGAFBCwCPCVC2EhH2Olc/N/wTjPQYb+Tf6t0/y5Nn9/U5C19oP8oWQJvcLvzNt0aOFa2o59MB1QPwZtm++GxZr0X3T3YclkX/xowTqTouV0yn+kg3VC01NM3hA4b6PbN4hleHNPvi132pZupvdYA8l5rpz9+Ip5sKPcNsXUyOgX92n9MxG74MbxW2f2+dpycwCWJIQ9NdNm9Q0PQBgNUmcJEK+iXmpUC0rVPTHoeRomRvXnnatKRKPhh89FJ57UJbJGdGClELo9vUawWKASu3ImKIiCAem8myTWDHNfVBMo1ZqQ3kmEkK8soUWVgIwBQI/uRVJzdC8RGwyAdVP+tkPn/OqEKSyYdEE0hRB2+JP/lYgah2ktOD3fjN13gXXMUuINKWxvhFHRoIEhgIy11kp1OhzOMTOjtxLyRZildGYh71dDuvV2rrSv9s0D/Y2sInkBhbVLvkNT51Z9C5KstKzZnxKsBo8l8KfT3KJ4CCgLg0QXGsBZ7bgyLML41VG7XaPz7ASwQ0CNbDRwspwy97XRW3c40TW462avkD6aLUIFbORgvkWIoGsdCqBxhlAtsgTHDYCDqhkPzS0AMWChI5vAhaa9ZVaFQkd0bJuz3RFo+sEcfsoECjWbh7l2+inF83oTQDAXr6U7dm8zBglhVsAAAAwAAE1EAAABxQZokbEM//p4QAAAaXe8+/l7lPcrz5IwOcvP0OoAP1MUhkd5//dFGvweri0DzwiICJoFYMqO6FHQ2P8ZiVDy32Bc/FYZj5OTA4AdrJat5GOuJgtUoifduAUpXzZMcEwTJRrhDqbRExO2F1P9hSv2LgnsAAAAuQZ5CeIR/AAAILAy03QKeddXMbNE3Mtm0yGrF5gBYQXABVbXdymKWbu9Eg9F7jwAAAB4BnmF0R/8AAA017T8cixlMKsckNuO8EH8n1c6Hf4AAAAAaAZ5jakf/AAADAAo6m+mP0+JLu6tE5WMZTjkAAACRQZpoSahBaJlMCGf//p4QAABFRSpcgKGescADa0nHS9NsRuAouCBwXsyHSD9et19fgqgv4fyZ/YijnqJDtpRlvu4cl4v0zXOrKb19oNqJXC/9Idy3hpQ12BAVVnf/Ew1h5rPOmEImnLwEBVcbsYLw6JnUDof0aUjsrPTFrH3QhYh9dy8oA9UfZo6dJ6WndbC/gQAAADpBnoZFESwj/wAAFrUrN2tZ6bDtWEZMD/q8zpWoqzz5Ijs8FXQIIKgbrBSrTRSAWgZVLFAa3XJ7Kam5AAAAPAGepXRH/wAAI8C438BpRdStDjqFSpaxBq9TmHks/x3g0i8kYj7vzg+uACQd3W1vqAD4DAt9Cw96+7ql4QAAABcBnqdqR/8AAAMACj55DMFBAKku3E/4sAAAAGVBmqxJqEFsmUwIZ//+nhAAAEVVDWap8QaCPRAynjp9q7mSUcneKYZgBGwst+lKtyOEsJWqQV/8dSMAOPctc2uAUbtKQw60Dh8B7mvjt//fMhDbHrgbrrBqi3iB9AHfFm1yxr0PYAAAACNBnspFFSwj/wAAFrUrOk2dxPbWP/zk8GEH4ZnBtiYye3vkmQAAADQBnul0R/8AACOr+FwulRKlzUydZmNJCtsVF6vPhUqhWpZuTBlW4EQ2AACEEvcOTzqCcTkgAAAAHQGe62pH/wAADX+2jGDDfpcoAjCQgJhv2rHSRe2YAAAAZUGa8EmoQWyZTAhn//6eEAAAGn9RVJdGfjaHL0AJZQ6r09vByEOlnqn0FGdeuB9zonvR74tl+aGbzm5vhsHdqJlh5gcxneN9JKRfBNZqWX2HqKO+8asF73F9e/HwFsb08LMQ9BFBAAAAQkGfDkUVLCP/AAAILAy2EX6gtkVlti6lmI8StWJxjhDaVK71qrhgLdm90CvxtLYgYDkJgBDLhNZx1hKg2ajVpBxO3QAAACIBny10R/8AAA1+ANNqSNx05rUqXDKbo1jnUg9Xn0RkTnJBAAAAIQGfL2pH/wAABR8wl0AGeJmvsgxsvUsjx/Ek4vj8A9k5IAAAAEtBmzRJqEFsmUwIZ//+nhAAAEVFJcy6ZL5dYAGp/pJnEPGmGgDndPvRzf3oAU6i7KF9i9iokxdF3z1jF5rjLyaVp52vCO2QqtU3BL4AAAAjQZ9SRRUsI/8AABa1KzrJUq3t0pn9XYbl2GeAAdSdFUEXwYEAAAAYAZ9xdEf/AAAjq/hbeBKdaCOIJcDAG0bMAAAAIgGfc2pH/wAABR0wFFyrGgiqPje6bvrUPiYWbPZSo/eYttwAAAB3QZt4SahBbJlMCGf//p4QAAAaW2INic1smskADtBgih7xi02UQ9Lsj14PnwQ5JYdNUPd5HVvVOAudiO83OQH1T5Cy4Y004UnPurB3Cl3RkbMud4ob9ATTM0XwMGFPdLloXJLfuf8OT056FmqMbF0jo89wgdxi4YEAAAA2QZ+WRRUsI/8AABa+o53+ZMBD0V382y9qoALtWdyeBj2Ipl+9r95BQ7jk5gcg1SCQpR+BMHwrAAAAJwGftXRH/wAAI8MXZeLqGO0gXiadWDbkT6hAyTyzaR4ACyO1BaZ7bwAAACoBn7dqR/8AACO/BCcSycMGfEKiBN6IuXtKQA7JBrIcwvJq4zIpYzbMY3sAAABfQZu8SahBbJlMCGf//p4QAABFUQ4+Gc+rkOPljgOHe0D8PgCjNRKYPrb9Vzu5CpRrBE9ngle4J2LxZyT7uM55wTITwH17KRGeY21owvlSTOYWbios4bDutFqCqYIW7aQAAAAwQZ/aRRUsI/8AABa8Q8222WxcRLPF3bv52obNkzAC68M6XiekMjivnuW8yNjRWRvRAAAAHQGf+XRH/wAABPvR4N/IsQXYlki6NPuvoAolKMafAAAAJQGf+2pH/wAAI7HMCKg6/Ip0V6GEqbUYKWuIU+J/3IPYr7wOGUEAAAChQZvgSahBbJlMCGf//p4QAAAafXMZIcuVApSEIC/HJSydLj4jaREYN2zOvU8BmrJ1Yf/NaAkeJ/j93cDBmP8tfLJ3XwVKKijTMR99Z25neAFL2snUq5n0sscO8g8nDS/6hCvvD3QkjtLgHfM0arv/REc6f2f0n6wuHfZnBCOr5DnPgFQbYG9lxSRcM3QVsifYw5c8K93a/OhB/mzMNsPjOqEAAAApQZ4eRRUsI/8AAAhvIeVHQ/F9gMM83/J/wp3M8batgAFsbfteoMiQ0MoAAAASAZ49dEf/AAAFHFt5ru5WzOuVAAAALAGeP2pH/wAADYSfeG7wH+0aJurA0DGuIxq5Fsc4vL9g5qM64nM46FShicFhAAAAukGaJEmoQWyZTAhn//6eEAAAGnFFWwAK4aRVeeqA2urcv0m3AV7NXIAZ+qJZKJpmMXBoC4TIR8TpwcRutWTAGr2KnFJWKUZagR/QDaLbp5sj6++Rk+VYQ+4IetngxMv8R1WLu7GINSjV4C6qah3v9L3Xe+blkFVGiEVr+JJoBgQQiiNX3sKfEoc3G6KCwnTbp3YGC3QRt8RDeFEmiiwpVSOyk3McD/Fn67qh7mW/NukcQLRuGx73Z4EInAAAADlBnkJFFSwj/wAACG2MZLiydDQxGP19ofNVvqEHyHiv6/85Prh3nCxB8YvCGV7QTdyMiqPVXHOWb0EAAAAyAZ5hdEf/AAANfz/riDe0Jfw9Ik4bS3ojf5gLvTJeLKH46IOKnyFVyEuZYVzykcdowsAAAAAkAZ5jakf/AAANf9YuqoiYPnSGYs/k0Y+cNMSI6gA2dAlUTub1AAAAqkGaaEmoQWyZTAhf//6MsAAARgLxSAwD58DeSrap/L33XhZhMbIl6OLlzG++so6Zfgk6fpsSRWCRRb9FjPkUQ4koys7gJAC6p8sLn+X6t7IMQtEBEVsyFcKuBQ/MQ+3BKCPLvDdpAozlruKimkb0oTP3hFgPEqC3/r6s1FgbEuByG0tzvTxVuc/OUolNNQ/E4XUflReqvUMvtCQ2lQBE+aXOpcNtL2ZocmWtAAAAM0GehkUVLCP/AAAWtSs3a1peuKKWO7PKvivs/UL2lU58hHcfY8AH8Px9ISbp1TZTZJjCwQAAAC8BnqV0R/8AACOr+FxJFn8xdVTNDyQd0YvQGp53KxezbXJHSBfF9gQNU2a0kbz96QAAADABnqdqR/8AAA0ypxvdNyrGKeyc5OGrDdfu+0CMueps7S1Kpi+h+uqTyrxcxN3FmqsAAACSQZqsSahBbJlMCF///oywAABGAs/y1oAvTI0j1O64t3Gpq5/aAKohiWkWiJ/jdFhjO2dZmTLPyTxbEWV7LCuVXf/87MSsvcUvkF6nR5nShhXMqjgwUnpUOlKFPNibo1R9iFHkzSDtJIvySi68ALMaH38xrHTc2ocyiMKgE53bHqCeh0b/7ZQchlIdCE9FU3L7anAAAAAvQZ7KRRUsI/8AABa8Q83E2GSV6nH4MqXmSArS0eNuzRV17ynXdv5GYg1W+igsbgkAAAAjAZ7pdEf/AAAFHFJpsIU5hsbNywzws2RbLUfe3+qDjwuFJsAAAAA2AZ7rakf/AAAjscwN2RNBO9JCLETITI3YiNjWPuiNtraq4eMvxeml3xmYSqkZO7svtnC9RHiwAAAAaEGa8EmoQWyZTAhf//6MsAAARhC8aAt9+3ZYKpGpp2vW+TrCQt/EeU1C4f/NWQAZQCOayJaaglHnZPnkx4CCnklEARks8ae4mMvZuP7xZTEFyj2ic1r7ClnXCwx+haWssGwduN2gjW+BAAAAPkGfDkUVLCP/AAAWvD6yP12VLbuCOFg6cW4aHZFVOa6RM6jpvW+r1F4Y9sDB++9EALeC6MB71Q87LQ6/2Pt7AAAAGQGfLXRH/wAAIsM+EMNriQExc50C5KtyKSEAAAAvAZ8vakf/AAAjvxsCSLQDLWR2wVEeNp/xo51ZTwJFRNht63H+oTrvt1bT7OYIOmAAAAB1QZsxSahBbJlMCGf//p4QAAAaUoTolRuPDkNKdm9vLzrpMvtX8M1mwpNV3t6vFVtjOApCkcJKnlmMbHw0NiivOV+gANqh03xn+Q5RNyOrlg4JWsDfazEd/JcTaYOPU0IkT9VBAvbomUYtfaWl8BTR7oLSw9FAAAAAk0GbVUnhClJlMCGf/p4QAABFaPg5EqAO4WUEQhS9Mqk7/Ez5pSdJCLjfHVtRqUZl+ApSSUHYRo3pRTk769ER61TRizDAMSijkwT3xx91SNRF/rBKK9AcgqrKedv46xfdu944CvStUf1X/qePK0ELeG7t30dT6+DJhQjXNc8AV3vBaqlbg+1NKT5Qz1RDn25NGNi0WQAAAEZBn3NFNEwj/wAAFrxDzR8GVh/mkUZ/SZoe5SZode4LsioXlTqmhdLMmMW9GG90T7FAVrHkzYsD/94YpgBDQFks2LDjh96AAAAAMAGfknRH/wAADS9wTdrrvcYRv8Lenn8XUJeUqDU3psVQFCmq2SC8CpuG+0pBNTl7egAAADABn5RqR/8AACO/BCgLiwsEcyKR8IxEhT03MTqgJxRUTf6/Y+0pNbEfcuZANm4sIJsAAACNQZuZSahBaJlMCF///oywAABGKQxy4CJWJPc2UsOkkQ7nEel9O+qTga+LM5hhJR8lK5VpmvCpEj/P1MUd18u3hwqNsfgYIVA5CrFd2wuv+POvqG4BInQQMasUbvg/LO0zcc5Cg+sJbkcX1CC4SGrQjf0SVZvsLjOUAynT128hjDutneG3+1vsELwBqds6AAAATUGft0URLCP/AAAWs0gDlOo/3Te/Vy8seNQYT5G6GWvSG041egCejNAJi06TxTCYDLIWhmCh7Mcwclaa/xUJcILBHYaeKlTr2uo1hBNhAAAALAGf1nRH/wAAAwHmGPmfi42Kmu32UBodCCwuxOa6o7XQ9EY7T26lU9v1LmCBAAAAKwGf2GpH/wAAI7HMDUeK8pTg2oLW/CqJ2Jx3Yiqf05rhnAZZuXd3wYCxEBAAAABmQZvdSahBbJlMCF///oywAABGJDV097fkZAa8yaHRBSZ+KRkTdZPeIk84JDZVhq4z5zuGcg02upXUseSRoJmlMlpA1y7Bb/y+yUHwBTGzwQyDibPW1wC4wiY6CxXV3mZ+uyh+cfL5AAAAOEGf+0UVLCP/AAAWsqvotEm01r/xgAFTQ0kHQiAKRFn0rQ5L7srV5TQHgRT20i/rWmOLqwp8o47cAAAAJgGeGnRH/wAAI6v4XVGKEmHdUV3tjUwzdbpoSHxWyJYTfsun6i2zAAAAIQGeHGpH/wAAI65eM4IvtBfHP1s1G+iPvuCOJoBsTwDUgQAAAExBmgFJqEFsmUwIX//+jLAAAEYA7Ra3fn4ec0GYJAe4qe+Ved2v0UFZD8xawiXcQVRUZxoVPdtzOADtm8Fr6VxLRq1UL168I7uJb0RAAAAAL0GeP0UVLCP/AAAWsqwvU6aZrro3w7xAEKv6iyF+pXrpqgy6VFOQtiVplG5PXbZgAAAAMAGeXnRH/wAAI6v4XCXXLM6zcuwVY72bUFaZRhk7A7nqchLz/Wd6Bz+jjDk4+ybbgQAAACQBnkBqR/8AACO9hAP8lz7gcQGW59jihCPbcOVX4LZOZzKe7bgAAAB4QZpCSahBbJlMCGf//p4QAAAacbtm/5iJC711LeHoLOmUU9Z0xqefh6+13//1qrCtAAIqICKFvbKRPGdX8oie8UdWEWTsq1T4gBQerTfKRBT+BrR0ZNLjsobEogGt5jIMe/3IKFl0lig4L5zLwJs5YnslF+cSI3eBAAAATUGaZknhClJlMCGf/p4QAABFRFp07z9ytYZB1shmzshFNaClYagiYnqUZATQAENmd6JlU2FdqRFeJ+XzRV66w5lptzVqTQkH925rqyDAAAAAI0GehEU0TCP/AAAWu4rQGMqELgMoQ0x5eyBM7+eOSCYz6zlRAAAALAGeo3RH/wAAI8My/IJwa7IUYTeJsP/CSyeCcynu3twt6bsHEZ95qyWS9yxZAAAAGQGepWpH/wAAI7IrBxM44agnIZ7ZARLdlFkAAABQQZqqSahBaJlMCGf//p4QAABHQ81wrzMzmAhb4GdGXvzDlFqAA6wgwoGRX9vWVzb2MZ5cibADQ9OZhzkGOgwWx3rolONQgyhS+Lm3IsoIL4EAAAAmQZ7IRREsI/8AABdCrB6jG0cL+YbVKy4IuHkgzjOCGxpFFGjQ2pAAAAAhAZ7ndEf/AAAkwJnd6V6RZRH6gdAzFufPlOvHmOfs3A4IAAAAIgGe6WpH/wAAJK5eM4FzNsHpUpb+RbSzoalV0auNQbCkhJkAAAA1QZruSahBbJlMCF///oywAABIAOyzg1rUFL08AByXDw6A/SyD27Fr2oqsn7KwlN0mORpFr4AAAAAlQZ8MRRUsI/8AABdCq+i0PNPBi/KNABYTowtNWXJAFVypwHVqQAAAACcBnyt0R/8AACTDF2ippVPaVgKUR0m2F0jSzPJEuP+Ek0q7+vMc73EAAAAgAZ8takf/AAAkrl4zgXlDs87a/wvVscSkkaWJi7FfFYsAAABjQZsySahBbJlMCF///oywAABIAfH5PPhUPgAaLguV5xdqh2ZVg3IYdk5hSVTiBn3v3/iB7NJ8ognYbpVpoyVkguaiH6ejTv/IdPdVfuzuOjdL+udqK89UkbEk5DINXsemLQ2BAAAANEGfUEUVLCP/AAAXQ0e3CiO9LqQAtVsP2QcQjs29hOcaQJqOT1h0P3z/3thYH5r/8akeOCAAAAAmAZ9vdEf/AAAkwxdoqaVT2lYClFVIf2F1NehsI6F+2gVsDskiOCAAAAAmAZ9xakf/AAAkscwPbxzeujHKPKb0Qri+FsQcLGGy4lCh9zSC14EAAABRQZt2SahBbJlMCF///oywAABIAT0WjhCTfqEpak+GSFZPRxuvos65IJKCVNQbJDZeACCIPIXutxEZxsOBNVWKps/cnZs+DzOmiS6MgdVJAT18AAAALkGflEUVLCP/AAAXQqwvTEgkagBJc7TQ+EwW36XdzW95vKxZ49qhxTSkNjjiVhYAAAAsAZ+zdEf/AAAkwJkfzsww63r1vhS1DlACSvfoXWE5eRkA21kCIH1TUCvJ4sEAAAAfAZ+1akf/AAAkrmAFCzlnqKpZ8/uz7DECEQlxZTqBwQAAAFlBm7dJqEFsmUwIX//+jLAAAApR3icAU+sTPiojXdNSTdsL4anerSAW24UjUynK45jiX3Igu/wADoUxaBdi3jWiGdqBH4GBE4txiapnzS7eHQZ8waFE77MXQQAAAH1Bm9tJ4QpSZTAhf/6MsAAASBRIm9/SDjQAczt/yFibYuZwcfxy84daBhQedXfui0ACNhbmCKE24B/ojnwpbqdDK3XjWq9htzt57nkVJOSwVMsMILBGWH8MjGAkI0VVVcuezbXJk8lspf+JC8yoDGQ3KxRoHFNQPIyc5QQVfwAAADhBn/lFNEwj/wAAF0NIh2e575ubLeYg1eXDaVfzdfB9L/m7o+p4c16VfeNy8rdu4mnSfH0lp6FP3AAAADABnhh0R/8AACSsODdiBaoxP+LaJogArQiLFe0soWenJOdo5icN+p7AXUzG1ektBFkAAAAtAZ4aakf/AAAksixls++dRXOULAY2l07EfCdMSroBjTJB7FTC4QDnLkXVxR04AAAAUUGaHEmoQWiZTAhf//6MsAAASgSWGTkeLTz+XrWSAJy5mRV7cDLDHBBnNTPnFxR2e6vaM4UE1saMVDN26RuboYiujSbX0lDCDuxg20WZG9NAQQAAAFZBmiBJ4QpSZTAhf/6MsAAAShCX3PgNMu8A0kEwDycQuD5jPlzpxE9hoDMPhJVbe3iXc/Gqf3Zvd9Ie6bIHI3S9/CGzPPu5rHN3QUHdSMSTSkqeDmIsvQAAADFBnl5FNEwj/wAAF9/r75SfsHEpBQGbJyIxLUFyaS04phWDlFvFQovTe1ymU9iVFg6cAAAALAGefXRH/wAAJcCZ3efin8cqtOpZGr3JuuhPhf1d4E2iLms8rJT5jO8y/2fAAAAAJgGef2pH/wAAJa5eM4F5pNACWU6o1Tz3UCu/NwdiqEnAxYKT1kGBAAAAUUGaZEmoQWiZTAhf//6MsAAASgHx+Tz2CSaNi5VBYARfpBtdJ3v/H6Z7s/LQyZK02ginJvcND2wdmdgLxYWT+AzafZPBQ4oXmLcPUmk1+ZaY8AAAAChBnoJFESwj/wAAF+CHtw25HKvgnHBlU0hKlAarDInCCY3pYaE6P8+BAAAAIwGeoXRH/wAAJcMXaKmo6MMeceIejykgoffnL2h8ev/fbE24AAAAIwGeo2pH/wAAJb8EJxLMRLZavU3QzncA8ni7CizE1mjnl5kHAAAAZkGapUmoQWyZTAhn//6eEAAAG5GYnVsqOQAHlvYUnWQUvYpfuu7TbeSWLtUlaD7TKnH8YYNCGtOUVRGz9w6Pu7lMMh/awOFnzyKaJmKDUIMpMiGV3JO1FeQ4XDTGeZQecYmgAxAYwQAAAG1BmslJ4QpSZTAhn/6eEAAASURaIl1OOZlMh7jaztxzvaiZSBGDvb1AlLF1fL4Q6AkQgF7yrkjbdzSbyzFORcGyksExIkZAaqc4h3AhI9zWdZgauCw4q9RhH0mK2FSHSqz1WXV8qNh/BZqzpzOhAAAAPUGe50U0TCP/AAAX4Ie3DbkcL+XQ1/0Q60EauPLqZplVdGycQsxQAf22099erTvW2AYHdhL0X4KttWy1acEAAAAkAZ8GdEf/AAAlq/hZkjteJcE4WMSK2kAnNvHCAWxW6rwKmiQYAAAAIAGfCGpH/wAAJbHME6H2c26kNEpiVAO0aAiYHYuJagbcAAAAj0GbDUmoQWiZTAhf//6MsAAASiUQPxAJTLRKsLC/A7FRAFXqbv+E6+n/zCHC9tX4gNknpg4PepKZBqUnv8fyudgnvzamsAtEKgQH5zQ+eWuwa5hsVMhcNDN1ds0pLOhiKeVyjTX7SkZIKhorXtBRa6nCdW/V931zZyIUV+78hkEEUnOYjD/cJhRa+sBkzYjlAAAALEGfK0URLCP/AAAX4Ie3DbkcL+XQ7hsT7cqZZ+y4Mmcvafv385cIaoGNGIDAAAAAJgGfSnRH/wAAJav4XtJ6Yu2VEHjWaEc29k5N81rqRQyuTnS8Uz8kAAAALgGfTGpH/wAAJbHME6H2cG8gBt07EHqSOQQVFmuUdiztzCFXplsXu2amcxxIIDEAAAC1QZtRSahBbJlMCF///oywAABKJcVpLiAX4+kcpcmh4p6yEwZn1ON3tyOQmiKz32wOoIF4mIHvdLxP1Z/bMxjhDo6BvJdI4w+WdvuvIaRzmJBd3vAaXuUGmefV3YCuSSuVM3KT4l8fPn4KWXLV52N+X/LBEyARFex2c08TGqfnzDyTvjtAGvqKVU+ZqcPBwedeLuoVQszoWpViqPIKdxpNPTq6vYTcBZ76RIc2vjm7DNDVyQhNBQAAAD9Bn29FFSwj/wAAF5Vnhwl6ZM06eXTbKxCIneGouxi4Q7WTQJT8/asIRxi/GlWyPewp7ZvIAhXyWobdmww7x7kAAAAjAZ+OdEf/AAAlq/he0p1zP+Ptz7l5gu1yYcF15rVQKpm3WVAAAAAsAZ+Qakf/AAAlvwQnYuz0Bhqc5dj0YjxLOK0r8vdnMsfPQhmciwVtkM0O2VAAAABUQZuTSahBbJlMFEwv//6MsAAASgLPkTgNPoIPZUoAQgSka2CNY/27j1v/8tvIMbG4ld40hxKu0YB/UrY0iZ+6PsQl0X4iQseJm9QnVtCmdErlJ/f1AAAAGwGfsmpH/wAAJbHMCefkthepTPf/Yuf4MgjGvAAAAENBm7ZJ4QpSZTAhn/6eEAAASVEJekLcKyCX0UXBQi/JksLbaN/uMxMd33JaEm98hKDiCz0t4dDGr/xuDSMVouQ9gfozAAAAM0Gf1EU0TCP/AAAX0DKpktX5NfMixQ9nG6Gq36VDeoTWbWLjKnOPmuoLNH10SETVaWy2VQAAACYBn/VqR/8AACWyG2hUiV1dJz1H6zN3Qr12lkKO7U1P6DuNo5Eg5QAAAFRBm/pJqEFomUwIZ//+nhAAAEllPdnQEADpHqsGc4ztVh2fyyz3YyGaVcTEjtTP/bW3hXGJxsrv2EdaEDgNh1EW+UBR6cvGPzy1Tuk8kd1+Hww8Z28AAAA4QZ4YRREsI/8AABfoytEAlC8d1KHKTv0F2BP1kfKWyfIBpITQ1KQAtVq5PNYVufW6Nz0XCSaP6kEAAAAhAZ43dEf/AAAmwvCGZQkfClcyTsh3Xf2Vrf9hCLC8Kf+pAAAAGwGeOWpH/wAAJse/jRc5NLlx6cyOdFiabwSzgQAAAGNBmj5JqEFsmUwIZ//+nhAAAElSBpnLTid8GYl9nz6WlvjEVff5yvJkpZ8kD+6ZhxFhsj6GATXsWs9b8d19+zje89f9HgAsSA3UG8pLcLtJDM3ibXpRdL6x8jXERikcryXrGtAAAAAoQZ5cRRUsI/8AABfinCM9PrU+6K+HELsuC3AzZdSBWU54yW89VovHPwAAADMBnnt0R/8AACXAmqUmllfyxTh31Hx6NH6VR5lcJMSj8MlYuucja4o75X3idwr8IgUaOUEAAAAnAZ59akf/AAAFiTXRAE/6KJDFvlASFoJG8OfiFBLrdQxrfMYnMGa8AAAAZEGaYkmoQWyZTAhn//6eEAAASZ6Xt/gEwnQQpkRMohom43gB98zdwl+N4hpyX7Q6dbXrhgk7Sw71hSG4rtuqFETA/bko8HsrPm2YnH+1zW2/uyeQPtSzspqMYrF77oJD9slXv7AAAAAwQZ6ARRUsI/8AABfpkLb01GMMGlSbyH+D19h2fy0xbiJrwQwCv/Ok+NATpv/n4rKhAAAALAGev3RH/wAABYyIeVgtu01PairPuLE8HD4pWz66iliFq+PcAASvOxEq4e9IAAAAJgGeoWpH/wAAJb2EHeYZrB14xZI+QBsh+FEACbC1FM4FTuelMlRZAAAAikGapkmoQWyZTAhn//6eEAAAHEQMf9bNlGdc9KPwV+/evarbPsd5yOQrf0lqE8tbVo/zGXE6okD+fTmAeP8FuyAjy7Qu1zlx+OCSkbpTn+Cu5dcoI+ZqM6qO+g+gWNp1ZdShjdE++2VEgJKztesG0k2o/pxXgtbUXL+PnjLGp2R+fAdDzelDjYk4QAAAADFBnsRFFSwj/wAACSv9nQ/WygxvPVFUtO8laPunWOp7vue3S7dSPHQl/8AI0iQZvKltAAAALgGe43RH/wAADnxRpcA/hTiNnmjnebFKa0SrpUxONWAYpIkbGltz89/cV9I058EAAAAZAZ7lakf/AAAFiT5d1TcFWJZ4HYpPyFUnPwAAAFVBmupJqEFsmUwIZ//+nhAAAElEanPdl0vx57G0hTNS9orkm7ACFOXQbZ2cdPHaftOIw9zlVR2XE/gjCVBbOlKQV7zuW+CZb24x2lz0PTztkzehZ9SBAAAAKUGfCEUVLCP/AAAX4GyLxQAN/pqlFVuDVqbbUTuSzsjMCecwPl7eljnwAAAAHAGfJ3RH/wAAJcM+EMNriPTc4TXpDPEmsggqNeAAAAAdAZ8pakf/AAAlvxrOfBdxM/1n460klVFQPST2OUEAAAB4QZsuSahBbJlMCGf//p4QAAAbvGa/AoKngBCT/EvDw2CSBDM4vxAmtoSLn2aDwZSzITkvbHJhf3eWi/3MZqUh93UZ6VV+8nX/g6UmIFoAYeGweGZQVTIo0xcQSNTL5HCdmpjTcoBMlX/h7zOJYwVBScvIxTw8N2XgAAAAN0GfTEUVLCP/AAAI7+g3+nQqfjy1DWFROp2SnTnZAtfcbAnjmmoDt9FEAJpYbLo/s0PADLil3cIAAAApAZ9rdEf/AAAFZ9DNVrgyZelvvzuV4qBQAlDfVe90HTZ9LGCeHZh6OfEAAAAtAZ9takf/AAAOGUoi87iDkL6nmPcjav2vVcTKj3I/e3Fp50qwbr2hN96GUo7hAAAAkkGbckmoQWyZTAhn//6eEAAAG79SBACCCmez/AfnmEdlQ3zDdiQ7oKkDCZkZL2Al4z2hD8ZlE0S3f8Ew3EJKqxJAD1MW8QxG8qmG4h4CmRP2gBPbR/W7CmwurQxdL5e57eW7S2u3eg6IVWGcLtkzOMzcV+QiqQfHrH5/T5lS8wW3CkC8DkT+UlyVg7DnyvOsJROBAAAANUGfkEUVLCP/AAAJMUV9H0AcUm2HvnhEheVeLpLNAsDK8GUErZnkGzfDdz4yhsnleBmq+wPAAAAAKQGfr3RH/wAABWiOOfECnt5cfckuxiaEVL5oi92hcZ/bUBumN8qjNQmAAAAAHAGfsWpH/wAAAwDJRyhA6VxJaRy9ZibQCJVSz4EAAABdQZu2SahBbJlMCGf//p4QAABJRGpshRBzbScVWShdkOP6jaPXb7s0F8D1AOm9KVT0WtkgydBKll1SPA+LN54hwnrS1WFqo1+DfvlnANDDzb8uT4C85ZnX+4C6BZVwAAAAL0Gf1EUVLCP/AAAX4GyLxBCYZMSH6099LZQAsXOQKSUq5yVm4uAbL+/MZj0q/I24AAAAHQGf83RH/wAAJaw5Ba5PeMJa+/O0KFpmA9oLh1AhAAAAOAGf9WpH/wAAJb8ZKa1LSSWyAC3gDqNRyje6wmXmDuFZoJLcgmYs8M53xPi68d0uLjvlEVZ158tOAAAAREGb+kmoQWyZTAhn//6eEAAASUUpoAA4V12tJHsV6Y4X83R+l5C3apDgYlNE/XSUY4+9QRz+9DZPYddQjxWKXHhmCa15AAAAL0GeGEUVLCP/AAAX6YPNt2vNCATIKBAAfvPoUAe20JMEFsXqaiUJPfIiaJAlenThAAAAMgGeN3RH/wAABWT3389D0AFgKg3zCd8xd904ncdEuILQIFklUFhW5MYKaL83x/xf2ZBgAAAAMwGeOWpH/wAAJbHMCVcXlyxEABa1stAhMV7g0fEq6vH8pmDtvgmljQ5qUGzYA7x77/HnwQAAAFBBmj5JqEFsmUwIZ//+nhAAAEk2bh2IyAoazIMYdKCI1ermpt1LriszHC/eDh7cTGuQfywqqxKa0f+lMyrEDedf6g71HoTzFXNHPpJaY6MjpgAAAEFBnlxFFSwj/wAAF+JrND1UHU3wAHG1iomihfT96YvwnqiuqBGj8pMEDvR1++yK5kQw5nVHEVANydKdWikrcWEKTQAAACYBnnt0R/8AACa4sqR2Cb87SKLxPdrgncTXezlmQZxJkVynrzFpwQAAAB8Bnn1qR/8AACayO8ZOSn3feZG7FV4FAy1jTBpm7kGAAAAARUGaYkmoQWyZTAhn//6eEAAASUUlzOPAIruzI1sQDWaBcFzz1qc+wJbO2JrmJWZRTH6TMaWowwuVWHjjqpzR82J1rwc0wAAAADJBnoBFFSwj/wAAF+JrNzOECumG5wpkTAWcXZYIGAE1ucwqya89HcgTU0Yw27GvurfacQAAAB8Bnr90R/8AACXDF2ippav6YyksK+/eYs4puomu7dpwAAAAIgGeoWpH/wAABWU09eFfayx8Rcl8LqHBRJsWpZlDjTBjZBkAAABdQZqmSahBbJlMCF///oywAABKFF1JH85oAMU3bPSN7wOYY6VNLbR8ndGn3TMAAHG8a78MSODaJG5casEOP1gLbz77nW1yF3rh5zs1HGIEk+VNH2ScN7y7TzOyADA4AAAAQEGexEUVLCP/AAAX6YPNtVJWSBwAHFP0Vk7zrVbJJz1K2xHmP3c20jr/3sFYSh+K3DCDZc3c/1i78r8/j44PKTEAAAAbAZ7jdEf/AAAFZFJpsIU5eYEEKgNITbpzFs+BAAAAJAGe5WpH/wAAJb8EJwtl41Yu4Hvj4I3k4EPQaOi22yHPpLOWnQAAAC1BmupJqEFsmUwIX//+jLAAAEoC9ooFfZAgAj4hOsaKP1ssDErsLHw07Uns+qcAAAAgQZ8IRRUsI/8AABfpg823FeVCdSYnwZu1bpsDFKDZVsAAAAARAZ8ndEf/AAAFZQ9iB1gA1IAAAAAXAZ8pakf/AAAlscwJb6lvshVSgKV/x60AAABCQZstSahBbJlMCF///oywAABKAgV5PQJK9luhbnExNfmHH2mG5ggAK6ykuPma2Endb/t9zZbDCxTDQAxCEQqMFJzcAAAAH0GfS0UVLCP/AAAX6YPNtxXMrJmQng8DENczhjTziggAAAAcAZ9sakf/AAAlrjEv0XlDmfb9SFUqz2D6Y8MLyQAAADxBm3FJqEFsmUwIX//+jLAAAEoC+t4CI50jhRXLSCb2Dkf2fvD8ZGV0InS42A3KdfnlTRKSm+lGHAR2PmEAAABBQZ+PRRUsI/8AABfiazVMAoolQBDt3cZWBRlS0/93GgWazcL3/SNFeWdm/knubfA4E+wUZca1+WDfPSdmOYqJacEAAAAjAZ+udEf/AAAlwxdoqajowx6NpLiv9jZKA60Cb9dkVjyf/IMAAAAcAZ+wakf/AAAFZzCWe4lS+K4an2JKqBmP4tmVnwAAAEBBm7NJqEFsmUwUTDP//p4QAAAKhX2tQhUBjWyqrWSSYeLT4BW45rgsNRwaBLDPMes3HJQV/RYY+r6KWKU/j/CDAAAAGQGf0mpH/wAABWU+YOJlrdmyFXdaTXUvZ8AAAACIQZvXSeEKUmUwIZ/+nhAAABuXT1AITQmAPv7+imlTZB7aJvuTTdStqEgW4SHZbaYu4uFNpRLr+UOJekMRBgZ4ueKI/N3nTkBDqzY2gnY2ATC5jjStk/+Q3A8lCZCuEzQWszmOXKA4pU8SepQOCOlfnFY6O0rwLH7IaRVnrcL4fXOS+UKMq+fPTAAAADtBn/VFNEwj/wAAAwNgydONWXdSb0SlIvQH8JauXiLV/LgAjTliaifvEKFQFvkUdtH22epsVfuosQr78QAAACQBnhR0R/8AAAVn0MGwN6exVIlCwmmP1YEfgr4lwMTCzk8W/DgAAAAbAZ4Wakf/AAAFZzCWfDoj+9oOAzScbDt5LrZ9AAAAlkGaG0moQWiZTAhf//6MsAAASgL2WOP1dmC7JALIH9o8EOG8zW9CidxmyktBM6p62nu9Gbw/xSUMVSvfzhnaA5VSUK15mf7nhNsxKYBUPJXiYmltPIcvMvd+8QJgA2YcLOGnSDVG0HuLEobTdzYXCG0H6BRSvw0wz/zY2h/ddnNk/QBSxjYpHvJHXthQg2OBd6l3u1G+cwAAAC1BnjlFESwj/wAAF+mDzRy0bYq8W2CTiU0+RLh8XJrXV3JmxS5VtRsNFlO2/cAAAAAtAZ5YdEf/AAAOJD7TakoLj6Dl7/mbGH7uOawRpu5XI2AAQ9q0VkBGh7E4PLuBAAAANgGeWmpH/wAAJb8EJ2OMwHAQ4Pe9LOj9R7rD3GKU33ZN3AGJEw0qNK8wAmlG//jEqnLOaDa7UgAAAHRBml9JqEFsmUwIX//+jLAAABvJQeXtnu2e/zNj4jWhOcXUobzpOEmsu4AiP+uQMgMej1c6bPQpxPnhARdeYDbC1z0qh8rrRXKlpNVCjGP4+pbfCAfKU7ypXCZ5t1pPyR38KB1Wu8s30xmw8KdERblpkO4P8QAAACRBnn1FFSwj/wAACOwKQwJyJJSZuxewURaLneLhkfmASlYoFi0AAAAbAZ6cdEf/AAAOLY2Ep7dXQd1Tufm6vCPAH2NSAAAALgGenmpH/wAADilqQS0E9k/7kLfxLtCE+FAVHwRfU3lX5+Gjxo3LBCkr1ZXGe9AAAAAlQZqDSahBbJlMCF///oywAAADAIgjgVQbZmkXL4fy2oivaqzXEQAAABdBnqFFFSwj/wAAAwE/Cf0Zc+OscAok4AAAABIBnsB0R/8AAAMB8IpSLt+AccEAAAAQAZ7Cakf/AAADAfF/4oBlQAAAAElBmsdJqEFsmUwIT//98QAAAwLH7Dg1MgzYKIdFOijwSnjFVqsKgnWxhRo5iNxgP9ABc+NiedqZPTCXLodhlYZ1JVhMWr2csQGBAAAAIUGe5UUVLCP/AAAX6YPNtxcSvhSewWJA521zR0G2XeWPcQAAACoBnwR0R/8AAA4vqwI/Ysp/TAKmmS94GVRFY4YdAhLHXhf8lsa5G/6ul5EAAAAcAZ8Gakf/AAAlvwQnEs7mTBBPsCU4CtieHGZj3QAAADhBmwlJqEFsmUwUTH/8hAAABkxG2yNYCqLcm5EDKF+fkmk/dw7uMb11+ZY5OCNGHlEVR1XPDl9ELAAAABkBnyhqR/8AAA3P1jTEzjhq6+UC/EFmWq2BAAAMe21vb3YAAABsbXZoZAAAAAAAAAAAAAAAAAAAA+gAAA/IAAEAAAEAAAAAAAAAAAAAAAABAAAAAAAAAAAAAAAAAAAAAQAAAAAAAAAAAAAAAAAAQAAAAAAAAAAAAAAAAAAAAAAAAAAAAAAAAAAAAAAAAAIAAAuldHJhawAAAFx0a2hkAAAAAwAAAAAAAAAAAAAAAQAAAAAAAA/IAAAAAAAAAAAAAAAAAAAAAAABAAAAAAAAAAAAAAAAAAAAAQAAAAAAAAAAAAAAAAAAQAAAAAJYAAABkAAAAAAAJGVkdHMAAAAcZWxzdAAAAAAAAAABAAAPyAAAAgAAAQAAAAALHW1kaWEAAAAgbWRoZAAAAAAAAAAAAAAAAAAAMgAAAMoAVcQAAAAAAC1oZGxyAAAAAAAAAAB2aWRlAAAAAAAAAAAAAAAAVmlkZW9IYW5kbGVyAAAACshtaW5mAAAAFHZtaGQAAAABAAAAAAAAAAAAAAAkZGluZgAAABxkcmVmAAAAAAAAAAEAAAAMdXJsIAAAAAEAAAqIc3RibAAAAJhzdHNkAAAAAAAAAAEAAACIYXZjMQAAAAAAAAABAAAAAAAAAAAAAAAAAAAAAAJYAZAASAAAAEgAAAAAAAAAAQAAAAAAAAAAAAAAAAAAAAAAAAAAAAAAAAAAAAAAAAAAABj//wAAADJhdmNDAWQAH//hABlnZAAfrNlAmDPl4QAAAwABAAADAGQPGDGWAQAGaOvjyyLAAAAAGHN0dHMAAAAAAAAAAQAAAMoAAAEAAAAAFHN0c3MAAAAAAAAAAQAAAAEAAAZQY3R0cwAAAAAAAADIAAAAAQAAAgAAAAABAAAFAAAAAAEAAAIAAAAAAQAAAAAAAAABAAABAAAAAAEAAAUAAAAAAQAAAgAAAAABAAAAAAAAAAEAAAEAAAAAAQAABQAAAAABAAACAAAAAAEAAAAAAAAAAQAAAQAAAAABAAAFAAAAAAEAAAIAAAAAAQAAAAAAAAABAAABAAAAAAEAAAUAAAAAAQAAAgAAAAABAAAAAAAAAAEAAAEAAAAAAQAABQAAAAABAAACAAAAAAEAAAAAAAAAAQAAAQAAAAABAAAFAAAAAAEAAAIAAAAAAQAAAAAAAAABAAABAAAAAAEAAAUAAAAAAQAAAgAAAAABAAAAAAAAAAEAAAEAAAAAAQAABQAAAAABAAACAAAAAAEAAAAAAAAAAQAAAQAAAAABAAAFAAAAAAEAAAIAAAAAAQAAAAAAAAABAAABAAAAAAEAAAUAAAAAAQAAAgAAAAABAAAAAAAAAAEAAAEAAAAAAQAABQAAAAABAAACAAAAAAEAAAAAAAAAAQAAAQAAAAABAAACAAAAAAEAAAUAAAAAAQAAAgAAAAABAAAAAAAAAAEAAAEAAAAAAQAABQAAAAABAAACAAAAAAEAAAAAAAAAAQAAAQAAAAABAAAFAAAAAAEAAAIAAAAAAQAAAAAAAAABAAABAAAAAAEAAAUAAAAAAQAAAgAAAAABAAAAAAAAAAEAAAEAAAAAAQAAAgAAAAABAAAFAAAAAAEAAAIAAAAAAQAAAAAAAAABAAABAAAAAAEAAAUAAAAAAQAAAgAAAAABAAAAAAAAAAEAAAEAAAAAAQAABQAAAAABAAACAAAAAAEAAAAAAAAAAQAAAQAAAAABAAAFAAAAAAEAAAIAAAAAAQAAAAAAAAABAAABAAAAAAEAAAUAAAAAAQAAAgAAAAABAAAAAAAAAAEAAAEAAAAAAQAAAgAAAAABAAAFAAAAAAEAAAIAAAAAAQAAAAAAAAABAAABAAAAAAEAAAIAAAAAAQAABQAAAAABAAACAAAAAAEAAAAAAAAAAQAAAQAAAAABAAAFAAAAAAEAAAIAAAAAAQAAAAAAAAABAAABAAAAAAEAAAIAAAAAAQAABQAAAAABAAACAAAAAAEAAAAAAAAAAQAAAQAAAAABAAAFAAAAAAEAAAIAAAAAAQAAAAAAAAABAAABAAAAAAEAAAUAAAAAAQAAAgAAAAABAAAAAAAAAAEAAAEAAAAAAQAAAwAAAAABAAABAAAAAAEAAAQAAAAAAgAAAQAAAAABAAAFAAAAAAEAAAIAAAAAAQAAAAAAAAABAAABAAAAAAEAAAUAAAAAAQAAAgAAAAABAAAAAAAAAAEAAAEAAAAAAQAABQAAAAABAAACAAAAAAEAAAAAAAAAAQAAAQAAAAABAAAFAAAAAAEAAAIAAAAAAQAAAAAAAAABAAABAAAAAAEAAAUAAAAAAQAAAgAAAAABAAAAAAAAAAEAAAEAAAAAAQAABQAAAAABAAACAAAAAAEAAAAAAAAAAQAAAQAAAAABAAAFAAAAAAEAAAIAAAAAAQAAAAAAAAABAAABAAAAAAEAAAUAAAAAAQAAAgAAAAABAAAAAAAAAAEAAAEAAAAAAQAABQAAAAABAAACAAAAAAEAAAAAAAAAAQAAAQAAAAABAAAFAAAAAAEAAAIAAAAAAQAAAAAAAAABAAABAAAAAAEAAAUAAAAAAQAAAgAAAAABAAAAAAAAAAEAAAEAAAAAAQAABQAAAAABAAACAAAAAAEAAAAAAAAAAQAAAQAAAAABAAAFAAAAAAEAAAIAAAAAAQAAAAAAAAABAAABAAAAAAEAAAQAAAAAAgAAAQAAAAABAAAFAAAAAAEAAAIAAAAAAQAAAAAAAAABAAABAAAAAAEAAAMAAAAAAQAAAQAAAAABAAAFAAAAAAEAAAIAAAAAAQAAAAAAAAABAAABAAAAAAEAAAUAAAAAAQAAAgAAAAABAAAAAAAAAAEAAAEAAAAAAQAABQAAAAABAAACAAAAAAEAAAAAAAAAAQAAAQAAAAABAAAFAAAAAAEAAAIAAAAAAQAAAAAAAAABAAABAAAAAAEAAAUAAAAAAQAAAgAAAAABAAAAAAAAAAEAAAEAAAAAAQAAAwAAAAABAAABAAAAABxzdHNjAAAAAAAAAAEAAAABAAAAygAAAAEAAAM8c3RzegAAAAAAAAAAAAAAygAABN8AAAB1AAAAMgAAACIAAAAeAAAAlQAAAD4AAABAAAAAGwAAAGkAAAAnAAAAOAAAACEAAABpAAAARgAAACYAAAAlAAAATwAAACcAAAAcAAAAJgAAAHsAAAA6AAAAKwAAAC4AAABjAAAANAAAACEAAAApAAAApQAAAC0AAAAWAAAAMAAAAL4AAAA9AAAANgAAACgAAACuAAAANwAAADMAAAA0AAAAlgAAADMAAAAnAAAAOgAAAGwAAABCAAAAHQAAADMAAAB5AAAAlwAAAEoAAAA0AAAANAAAAJEAAABRAAAAMAAAAC8AAABqAAAAPAAAACoAAAAlAAAAUAAAADMAAAA0AAAAKAAAAHwAAABRAAAAJwAAADAAAAAdAAAAVAAAACoAAAAlAAAAJgAAADkAAAApAAAAKwAAACQAAABnAAAAOAAAACoAAAAqAAAAVQAAADIAAAAwAAAAIwAAAF0AAACBAAAAPAAAADQAAAAxAAAAVQAAAFoAAAA1AAAAMAAAACoAAABVAAAALAAAACcAAAAnAAAAagAAAHEAAABBAAAAKAAAACQAAACTAAAAMAAAACoAAAAyAAAAuQAAAEMAAAAnAAAAMAAAAFgAAAAfAAAARwAAADcAAAAqAAAAWAAAADwAAAAlAAAAHwAAAGcAAAAsAAAANwAAACsAAABoAAAANAAAADAAAAAqAAAAjgAAADUAAAAyAAAAHQAAAFkAAAAtAAAAIAAAACEAAAB8AAAAOwAAAC0AAAAxAAAAlgAAADkAAAAtAAAAIAAAAGEAAAAzAAAAIQAAADwAAABIAAAAMwAAADYAAAA3AAAAVAAAAEUAAAAqAAAAIwAAAEkAAAA2AAAAIwAAACYAAABhAAAARAAAAB8AAAAoAAAAMQAAACQAAAAVAAAAGwAAAEYAAAAjAAAAIAAAAEAAAABFAAAAJwAAACAAAABEAAAAHQAAAIwAAAA/AAAAKAAAAB8AAACaAAAAMQAAADEAAAA6AAAAeAAAACgAAAAfAAAAMgAAACkAAAAbAAAAFgAAABQAAABNAAAAJQAAAC4AAAAgAAAAPAAAAB0AAAAUc3RjbwAAAAAAAAABAAAAMAAAAGJ1ZHRhAAAAWm1ldGEAAAAAAAAAIWhkbHIAAAAAAAAAAG1kaXJhcHBsAAAAAAAAAAAAAAAALWlsc3QAAAAlqXRvbwAAAB1kYXRhAAAAAQAAAABMYXZmNTguMjkuMTAw\" type=\"video/mp4\" />\n",
              "             </video>"
            ]
          },
          "metadata": {}
        }
      ],
      "source": [
        "def ppo_main():\n",
        "  # Hyper parameters\n",
        "  lr = 1e-3\n",
        "  epochs = 20\n",
        "  env_samples = 100\n",
        "  gamma = 0.9\n",
        "  batch_size = 256\n",
        "  epsilon = 0.2\n",
        "  policy_epochs = 5\n",
        "\n",
        "  # Init environment\n",
        "  state_size = 4\n",
        "  action_size = 2\n",
        "  env = gym.make('CartPole-v1', render_mode=\"rgb_array\")\n",
        "\n",
        "  # Init networks\n",
        "  policy_network = PolicyNetwork(state_size, action_size).cuda()\n",
        "  value_network = ValueNetwork(state_size).cuda()\n",
        "\n",
        "  # Init optimizer\n",
        "  optim = torch.optim.Adam(chain(policy_network.parameters(), value_network.parameters()), lr=lr)\n",
        "\n",
        "  # Start main loop\n",
        "  results_ppo = []\n",
        "  loop = tqdm(total=epochs, position=0, leave=False)\n",
        "  for epoch in range(epochs):\n",
        "    last_epoch = (epoch+1 == epochs)\n",
        "    # Record only last epoch\n",
        "    if last_epoch:\n",
        "      env = wrap_env(env)\n",
        "\n",
        "    memory = []  # Reset memory every epoch\n",
        "    rewards = []  # Calculate average episodic reward per epoch\n",
        "\n",
        "    # Begin experience loop\n",
        "    for episode in range(env_samples):\n",
        "\n",
        "      # Reset environment\n",
        "      state, _ = env.reset()\n",
        "      done = False\n",
        "      rollout = []\n",
        "      cum_reward = 0  # Track cumulative reward\n",
        "\n",
        "      # Begin episode\n",
        "      while not done and cum_reward < 200:  # End after 200 steps\n",
        "        # Get action\n",
        "        action, action_dist = get_action_ppo(policy_network, state)\n",
        "\n",
        "        # Take step\n",
        "        next_state, reward, terminated, truncated, _ = env.step(action)\n",
        "        done = terminated or truncated\n",
        "        # env.render()\n",
        "\n",
        "        # Store step\n",
        "        rollout.append((state, action, action_dist, reward))\n",
        "\n",
        "        cum_reward += reward\n",
        "        state = next_state  # Set current state\n",
        "\n",
        "      # Calculate returns and add episode to memory\n",
        "      memory = calculate_return(memory, rollout, gamma)\n",
        "\n",
        "      rewards.append(cum_reward)\n",
        "      env.close()\n",
        "    # Train\n",
        "    dataset = RLDataset(memory)\n",
        "    loader = DataLoader(dataset, batch_size=batch_size, shuffle=True)\n",
        "    learn_ppo(optim, policy_network, value_network, loader, epsilon, policy_epochs)\n",
        "\n",
        "    # Print results\n",
        "    results_ppo.extend(rewards)  # Store rewards for this epoch\n",
        "    loop.update(1)\n",
        "    loop.set_description(\"Epochs: {} Reward: {}\".format(epoch, results_ppo[-1]))\n",
        "\n",
        "  return results_ppo\n",
        "\n",
        "results_ppo = ppo_main()\n",
        "show_video()"
      ]
    },
    {
      "cell_type": "code",
      "execution_count": 38,
      "metadata": {
        "id": "pLXetCMpC1DE",
        "colab": {
          "base_uri": "https://localhost:8080/",
          "height": 430
        },
        "outputId": "389f28f9-d9b7-4618-bf21-8a4ca1e88cc3"
      },
      "outputs": [
        {
          "output_type": "display_data",
          "data": {
            "text/plain": [
              "<Figure size 640x480 with 1 Axes>"
            ],
            "image/png": "[encoded data removed]"
          },
          "metadata": {}
        }
      ],
      "source": [
        "plt.plot(results_ppo)\n",
        "plt.show()"
      ]
    }
  ],
  "metadata": {
    "accelerator": "GPU",
    "colab": {
      "provenance": []
    },
    "kernelspec": {
      "display_name": "Python 3",
      "language": "python",
      "name": "python3"
    },
    "language_info": {
      "codemirror_mode": {
        "name": "ipython",
        "version": 3
      },
      "file_extension": ".py",
      "mimetype": "text/x-python",
      "name": "python",
      "nbconvert_exporter": "python",
      "pygments_lexer": "ipython3",
      "version": "3.9.15"
    }
  },
  "nbformat": 4,
  "nbformat_minor": 0
}