{
  "cells": [
    {
      "cell_type": "markdown",
      "metadata": {
        "id": "view-in-github",
        "colab_type": "text"
      },
      "source": [
        "<a href=\"https://colab.research.google.com/github/GugaKunkel/DeepLearning/blob/main/lab6.ipynb\" target=\"_parent\"><img src=\"https://colab.research.google.com/assets/colab-badge.svg\" alt=\"Open In Colab\"/></a>"
      ]
    },
    {
      "cell_type": "markdown",
      "metadata": {
        "id": "wXq9k2M1TBCE"
      },
      "source": [
        "<a\n",
        "href=\"https://colab.research.google.com/github/wingated/cs474_labs_f2019/blob/master/DL_Lab6.ipynb\"\n",
        "  target=\"_parent\">\n",
        "  <img\n",
        "    src=\"https://colab.research.google.com/assets/colab-badge.svg\"\n",
        "    alt=\"Open In Colab\"/>\n",
        "</a>"
      ]
    },
    {
      "cell_type": "markdown",
      "metadata": {
        "id": "cksgAH12XRjV"
      },
      "source": [
        "# Lab 6: Sequence-to-sequence models\n",
        "\n",
        "### Description:\n",
        "For this lab, you will code up the [char-rnn model of Karpathy](http://karpathy.github.io/2015/05/21/rnn-effectiveness/). This is a recurrent neural network that is trained probabilistically on sequences of characters, and that can then be used to sample new sequences that are like the original.\n",
        "\n",
        "This lab will help you develop several new skills, as well as understand some best practices needed for building large models. In addition, we'll be able to create networks that generate neat text!\n",
        "\n",
        "### Deliverable:\n",
        "- Fill in the code for the RNN (using PyTorch's built-in GRU).\n",
        "- Fill in the training loop\n",
        "- Fill in the evaluation loop. In this loop, rather than using a validation set, you will sample text from the RNN.\n",
        "- Implement your own GRU cell.\n",
        "- Train your RNN on a new domain of text (Star Wars, political speeches, etc. - have fun!)\n",
        "\n",
        "### Grading Standards:\n",
        "- 20% Implementation the RNN\n",
        "- 20% Implementation training loop\n",
        "- 20% Implementation of evaluation loop\n",
        "- 20% Implementation of your own GRU cell\n",
        "- 20% Training of your RNN on a domain of your choice\n",
        "\n",
        "### Tips:\n",
        "- Read through all the helper functions, run them, and make sure you understand what they are doing\n",
        "- At each stage, ask yourself: What should the dimensions of this tensor be? Should its data type be float or int? (int is called `long` in PyTorch)\n",
        "- Don't apply a softmax inside the RNN if you are using an nn.CrossEntropyLoss (this module already applies a softmax to its input).\n",
        "\n",
        "### Example Output:\n",
        "An example of my final samples are shown below (more detail in the\n",
        "final section of this writeup), after 150 passes through the data.\n",
        "Please generate about 15 samples for each dataset.\n",
        "\n",
        "<code>\n",
        "And ifte thin forgision forward thene over up to a fear not your\n",
        "And freitions, which is great God. Behold these are the loss sub\n",
        "And ache with the Lord hath bloes, which was done to the holy Gr\n",
        "And appeicis arm vinimonahites strong in name, to doth piseling\n",
        "And miniquithers these words, he commanded order not; neither sa\n",
        "And min for many would happine even to the earth, to said unto m\n",
        "And mie first be traditions? Behold, you, because it was a sound\n",
        "And from tike ended the Lamanites had administered, and I say bi\n",
        "</code>\n"
      ]
    },
    {
      "cell_type": "markdown",
      "metadata": {
        "id": "c2i_QpSsWG4c"
      },
      "source": [
        "---\n",
        "\n",
        "## Part 0: Readings, data loading, and high level training\n",
        "\n",
        "---\n",
        "\n",
        "There is a tutorial here that will help build out scaffolding code, and get an understanding of using sequences in pytorch.\n",
        "\n",
        "* Read the following\n",
        "\n",
        "> * [Pytorch sequence-to-sequence tutorial](https://pytorch.org/tutorials/intermediate/seq2seq_translation_tutorial.html) (You will be implementing the decoder, not the encoder, as we are not doing sequence-to-sequence translation.)\n",
        "> * [Understanding LSTM Networks](http://colah.github.io/posts/2015-08-Understanding-LSTMs/)\n",
        "\n",
        "\n",
        "\n",
        "\n"
      ]
    },
    {
      "cell_type": "code",
      "source": [
        "! wget -O ./text_files.tar.gz 'https://piazza.com/redirect/s3?bucket=uploads&prefix=attach%2Fjlifkda6h0x5bk%2Fhzosotq4zil49m%2Fjn13x09arfeb%2Ftext_files.tar.gz'\n",
        "! tar -xzf text_files.tar.gz\n",
        "! pip install unidecode\n",
        "! pip install torch"
      ],
      "metadata": {
        "colab": {
          "base_uri": "https://localhost:8080/"
        },
        "id": "Pu6u3rnVbvF_",
        "outputId": "ba4ba818-652b-4736-ffa3-7683c80866d1"
      },
      "execution_count": 1,
      "outputs": [
        {
          "output_type": "stream",
          "name": "stdout",
          "text": [
            "--2024-02-17 21:46:44--  https://piazza.com/redirect/s3?bucket=uploads&prefix=attach%2Fjlifkda6h0x5bk%2Fhzosotq4zil49m%2Fjn13x09arfeb%2Ftext_files.tar.gz\n",
            "Resolving piazza.com (piazza.com)... 23.22.156.213, 44.216.95.21, 3.215.61.73, ...\n",
            "Connecting to piazza.com (piazza.com)|23.22.156.213|:443... connected.\n",
            "HTTP request sent, awaiting response... 302 Found\n",
            "Location: https://cdn-uploads.piazza.com/attach/jlifkda6h0x5bk/hzosotq4zil49m/jn13x09arfeb/text_files.tar.gz [following]\n",
            "--2024-02-17 21:46:44--  https://cdn-uploads.piazza.com/attach/jlifkda6h0x5bk/hzosotq4zil49m/jn13x09arfeb/text_files.tar.gz\n",
            "Resolving cdn-uploads.piazza.com (cdn-uploads.piazza.com)... 13.249.141.11, 13.249.141.26, 13.249.141.91, ...\n",
            "Connecting to cdn-uploads.piazza.com (cdn-uploads.piazza.com)|13.249.141.11|:443... connected.\n",
            "HTTP request sent, awaiting response... 200 OK\n",
            "Length: 1533290 (1.5M) [application/x-gzip]\n",
            "Saving to: ‘./text_files.tar.gz’\n",
            "\n",
            "./text_files.tar.gz 100%[===================>]   1.46M  --.-KB/s    in 0.06s   \n",
            "\n",
            "2024-02-17 21:46:44 (22.9 MB/s) - ‘./text_files.tar.gz’ saved [1533290/1533290]\n",
            "\n",
            "Requirement already satisfied: unidecode in /usr/local/lib/python3.10/dist-packages (1.3.8)\n",
            "Requirement already satisfied: torch in /usr/local/lib/python3.10/dist-packages (2.1.0+cu121)\n",
            "Requirement already satisfied: filelock in /usr/local/lib/python3.10/dist-packages (from torch) (3.13.1)\n",
            "Requirement already satisfied: typing-extensions in /usr/local/lib/python3.10/dist-packages (from torch) (4.9.0)\n",
            "Requirement already satisfied: sympy in /usr/local/lib/python3.10/dist-packages (from torch) (1.12)\n",
            "Requirement already satisfied: networkx in /usr/local/lib/python3.10/dist-packages (from torch) (3.2.1)\n",
            "Requirement already satisfied: jinja2 in /usr/local/lib/python3.10/dist-packages (from torch) (3.1.3)\n",
            "Requirement already satisfied: fsspec in /usr/local/lib/python3.10/dist-packages (from torch) (2023.6.0)\n",
            "Requirement already satisfied: triton==2.1.0 in /usr/local/lib/python3.10/dist-packages (from torch) (2.1.0)\n",
            "Requirement already satisfied: MarkupSafe>=2.0 in /usr/local/lib/python3.10/dist-packages (from jinja2->torch) (2.1.5)\n",
            "Requirement already satisfied: mpmath>=0.19 in /usr/local/lib/python3.10/dist-packages (from sympy->torch) (1.3.0)\n"
          ]
        }
      ]
    },
    {
      "cell_type": "code",
      "execution_count": 2,
      "metadata": {
        "colab": {
          "base_uri": "https://localhost:8080/"
        },
        "id": "l7bdZWxvJrsx",
        "outputId": "41dc9483-f7d5-4273-a05b-4dfea6a6c758"
      },
      "outputs": [
        {
          "output_type": "stream",
          "name": "stdout",
          "text": [
            "file_len = 2579888\n"
          ]
        }
      ],
      "source": [
        "import unidecode\n",
        "import string\n",
        "import random\n",
        "\n",
        "all_characters = string.printable\n",
        "n_characters = len(all_characters)\n",
        "file = unidecode.unidecode(open('./text_files/lotr.txt').read())\n",
        "file_len = len(file)\n",
        "print('file_len =', file_len)"
      ]
    },
    {
      "cell_type": "code",
      "execution_count": 3,
      "metadata": {
        "colab": {
          "base_uri": "https://localhost:8080/"
        },
        "id": "TxBeKeNjJ0NQ",
        "outputId": "b22304ac-fae0-4836-9e61-e788ec5de17b"
      },
      "outputs": [
        {
          "output_type": "stream",
          "name": "stdout",
          "text": [
            "dows between two great arms of the mountains, above which three white \n",
            "peaks were shining: Celebdil, Fanuidhol, Caradhras. the Mountains of Moria. \n",
            "At the head of the glen a torrent flowed like a white\n"
          ]
        }
      ],
      "source": [
        "chunk_len = 200\n",
        "\n",
        "def random_chunk():\n",
        "  start_index = random.randint(0, file_len - chunk_len)\n",
        "  end_index = start_index + chunk_len + 1\n",
        "  return file[start_index:end_index]\n",
        "\n",
        "print(random_chunk())"
      ]
    },
    {
      "cell_type": "code",
      "execution_count": 4,
      "metadata": {
        "colab": {
          "base_uri": "https://localhost:8080/"
        },
        "id": "On0_WitWJ99e",
        "outputId": "57b4ccb4-080c-44a4-9cda-5e5d55aed99a"
      },
      "outputs": [
        {
          "output_type": "stream",
          "name": "stdout",
          "text": [
            "tensor([10, 11, 12, 39, 40, 41])\n"
          ]
        }
      ],
      "source": [
        "import torch\n",
        "# Turn string into list of longs\n",
        "def char_tensor(string):\n",
        "  tensor = torch.zeros(len(string)).long()\n",
        "  for c in range(len(string)):\n",
        "      tensor[c] = all_characters.index(string[c])\n",
        "  return tensor\n",
        "\n",
        "print(char_tensor('abcDEF'))"
      ]
    },
    {
      "cell_type": "markdown",
      "metadata": {
        "id": "CYJPTLcaYmfI"
      },
      "source": [
        "---\n",
        "\n",
        "## Part 4: Creating your own GRU cell\n",
        "\n",
        "**(Come back to this later - its defined here so that the GRU will be defined before it is used)**\n",
        "\n",
        "---\n",
        "\n",
        "The cell that you used in Part 1 was a pre-defined Pytorch layer. Now, write your own GRU class using the same parameters as the built-in Pytorch class does.\n",
        "\n",
        "Please do not look at the documentation's code for the GRU cell definition. The answer is right there in the code, and in theory, you could just cut-and-paste it. This bit is on your honor!\n",
        "\n",
        "**TODO:**\n",
        "* Create a custom GRU cell\n",
        "\n",
        "**DONE:**\n",
        "\n"
      ]
    },
    {
      "cell_type": "code",
      "execution_count": 5,
      "metadata": {
        "id": "aavAv50ZKQ-F"
      },
      "outputs": [],
      "source": [
        "import torch\n",
        "import torch.nn as nn\n",
        "import torch.nn.functional as F\n",
        "\n",
        "class GRUCell(nn.Module):\n",
        "  def __init__(self, input_size, hidden_size):\n",
        "    super(GRUCell, self).__init__()\n",
        "\n",
        "    self.Wxr = nn.Parameter(torch.Tensor(input_size, hidden_size))\n",
        "    nn.init.xavier_uniform_(self.Wxr)\n",
        "    self.bxr = nn.Parameter(torch.zeros(hidden_size))\n",
        "    self.Whr = nn.Parameter(torch.Tensor(hidden_size, hidden_size))\n",
        "    nn.init.xavier_uniform_(self.Whr)\n",
        "    self.bhr = nn.Parameter(torch.zeros(hidden_size))\n",
        "    self.Wxz = nn.Parameter(torch.Tensor(input_size, hidden_size))\n",
        "    nn.init.xavier_uniform_(self.Wxz)\n",
        "    self.bxz = nn.Parameter(torch.zeros(hidden_size))\n",
        "    self.Whz = nn.Parameter(torch.Tensor(hidden_size, hidden_size))\n",
        "    nn.init.xavier_uniform_(self.Whz)\n",
        "    self.bhz = nn.Parameter(torch.zeros(hidden_size))\n",
        "    self.Wxn = nn.Parameter(torch.Tensor(input_size, hidden_size))\n",
        "    nn.init.xavier_uniform_(self.Wxn)\n",
        "    self.bxn = nn.Parameter(torch.zeros(hidden_size))\n",
        "    self.Whn = nn.Parameter(torch.Tensor(hidden_size, hidden_size))\n",
        "    nn.init.xavier_uniform_(self.Whn)\n",
        "    self.bhn = nn.Parameter(torch.zeros(hidden_size))\n",
        "    self.linear = nn.Linear(hidden_size, hidden_size)\n",
        "\n",
        "\n",
        "  def forward(self, inputs, hidden):\n",
        "    rt = torch.sigmoid(torch.matmul(inputs, self.Wxr)+ self.bxr + torch.matmul(hidden, self.Whr) + self.bhr)\n",
        "    zt = torch.sigmoid(torch.matmul(inputs, self.Wxz)+ self.bxz + torch.matmul(hidden, self.Whz) + self.bhz)\n",
        "    nt = torch.tanh(torch.matmul(inputs, self.Wxn) + self.bxn + (rt  * (torch.matmul(hidden, self.Whn) + self.bhn)) )\n",
        "    ht = ((1 - zt) * nt) + (zt * hidden)\n",
        "    outputs = self.linear(ht)\n",
        "    return outputs, ht\n",
        "\n",
        "\n",
        "class GRU(nn.Module):\n",
        "  def __init__(self, input_size, hidden_size, num_layers):\n",
        "    super(GRU, self).__init__()\n",
        "\n",
        "    self.num_layers = num_layers\n",
        "    self.layers = nn.ModuleList([GRUCell(input_size if i == 0 else hidden_size, hidden_size) for i in range(num_layers)])\n",
        "\n",
        "\n",
        "  def forward(self, inputs, hidden):\n",
        "    new_hidden = []\n",
        "    for i, layer in enumerate(self.layers):\n",
        "      out, h = layer(inputs, hidden[i])\n",
        "      new_hidden.append(h)\n",
        "      input = out\n",
        "    new_hidden = torch.stack(new_hidden)\n",
        "    return out, new_hidden"
      ]
    },
    {
      "cell_type": "markdown",
      "metadata": {
        "id": "qtXdX-B_WiAY"
      },
      "source": [
        "---\n",
        "\n",
        "##  Part 1: Building a sequence to sequence model\n",
        "\n",
        "---\n",
        "\n",
        "Great! We have the data in a useable form. We can switch out which text file we are reading from, and trying to simulate.\n",
        "\n",
        "We now want to build out an RNN model, in this section, we will use all built in Pytorch pieces when building our RNN class.\n",
        "\n",
        "\n",
        "**TODO:**\n",
        "* Create an RNN class that extends from nn.Module.\n",
        "\n",
        "**DONE:**\n",
        "\n"
      ]
    },
    {
      "cell_type": "code",
      "execution_count": 6,
      "metadata": {
        "id": "d6tNdEnzWj5F"
      },
      "outputs": [],
      "source": [
        "class RNN(nn.Module):\n",
        "  def __init__(self, input_size, hidden_size, output_size, n_layers=1):\n",
        "    super(RNN, self).__init__()\n",
        "    self.input_size = input_size\n",
        "    self.hidden_size = hidden_size\n",
        "    self.output_size = output_size\n",
        "    self.n_layers = n_layers\n",
        "\n",
        "    # more stuff here...\n",
        "    self.linear = nn.Linear(hidden_size, output_size)\n",
        "    self.embedding = nn.Embedding(self.output_size, self.hidden_size)\n",
        "    self.gru = GRU(hidden_size, hidden_size, num_layers=n_layers)\n",
        "    # self.gru = nn.GRU(hidden_size, hidden_size, num_layers=n_layers, batch_first=True)\n",
        "\n",
        "  def forward(self, input_char, hidden):\n",
        "    # by reviewing the documentation, construct a forward function that properly uses the output\n",
        "    # of the GRU\n",
        "    embedding = self.embedding(input_char).view(1,1,-1)\n",
        "    output, hidden = self.gru(embedding, hidden)\n",
        "    out_decoded = F.relu(self.linear(output))\n",
        "    return out_decoded, hidden\n",
        "\n",
        "  def init_hidden(self):\n",
        "    return torch.zeros(self.n_layers, 1, self.hidden_size)"
      ]
    },
    {
      "cell_type": "code",
      "execution_count": 7,
      "metadata": {
        "id": "hrhXghEPKD-5"
      },
      "outputs": [],
      "source": [
        "def random_training_set():\n",
        "  chunk = random_chunk()\n",
        "  inp = char_tensor(chunk[:-1])\n",
        "  target = char_tensor(chunk[1:])\n",
        "  return inp, target"
      ]
    },
    {
      "cell_type": "markdown",
      "metadata": {
        "id": "ZpiGObbBX0Mr"
      },
      "source": [
        "---\n",
        "\n",
        "## Part 2: Sample text and Training information\n",
        "\n",
        "---\n",
        "\n",
        "We now want to be able to train our network, and sample text after training.\n",
        "\n",
        "This function outlines how training a sequence style network goes.\n",
        "\n",
        "**TODO:**\n",
        "* Fill in the pieces.\n",
        "\n",
        "**DONE:**\n",
        "\n",
        "\n"
      ]
    },
    {
      "cell_type": "code",
      "execution_count": 12,
      "metadata": {
        "id": "2ALC3Pf8Kbsi"
      },
      "outputs": [],
      "source": [
        "# NOTE: decoder_optimizer, decoder, and criterion will be defined below as global variables\n",
        "def train(inp, target):\n",
        "    decoder_optimizer.zero_grad()\n",
        "    hidden = decoder.init_hidden()\n",
        "    loss = 0\n",
        "\n",
        "    for char_in, char_target in zip(inp, target):\n",
        "        char_decoded, hidden = decoder(char_in, hidden)\n",
        "        loss += criterion(char_decoded.squeeze(0), char_target.unsqueeze(0))\n",
        "\n",
        "    loss.backward()\n",
        "    decoder_optimizer.step()\n",
        "    return loss.item() / len(inp)"
      ]
    },
    {
      "cell_type": "markdown",
      "metadata": {
        "id": "EN06NUu3YRlz"
      },
      "source": [
        "---\n",
        "\n",
        "## Part 3: Sample text and Training information\n",
        "\n",
        "---\n",
        "\n",
        "You can at this time, if you choose, also write out your train loop boilerplate that samples random sequences and trains your RNN. This will be helpful to have working before writing your own GRU class.\n",
        "\n",
        "If you are finished training, or during training, and you want to sample from the network you may consider using the following function. If your RNN model is instantiated as `decoder`then this will probabilistically sample a sequence of length `predict_len`\n",
        "\n",
        "**TODO:**\n",
        "* Fill out the evaluate function to generate text frome a primed string\n",
        "\n",
        "**DONE:**\n",
        "\n"
      ]
    },
    {
      "cell_type": "code",
      "execution_count": 9,
      "metadata": {
        "id": "B-bp-OZ1KjNh"
      },
      "outputs": [],
      "source": [
        "def sample_outputs(output, temperature):\n",
        "    \"\"\"Takes in a vector of unnormalized probability weights and samples a character from the distribution\"\"\"\n",
        "    # As temperature approaches 0, this sampling function becomes argmax (no randomness)\n",
        "    # As temperature approaches infinity, this sampling function becomes a purely random choice\n",
        "    return torch.multinomial(torch.exp(output / temperature), 1)\n",
        "\n",
        "def evaluate(prime_str='A', predict_len=100, temperature=0.8):\n",
        "  # initialize hidden state, initialize other useful variables\n",
        "  hidden = decoder.init_hidden()\n",
        "  prime_tensor = char_tensor(prime_str)\n",
        "  prediction = ''.join(prime_str) # Making a copy of the string (Different pointer)\n",
        "  last_char = prime_tensor[-1]\n",
        "\n",
        "  for char in prime_tensor:\n",
        "    _, hidden = decoder(char, hidden)\n",
        "\n",
        "  for i in range(predict_len):\n",
        "    output, hidden = decoder(last_char, hidden)\n",
        "    output = output.squeeze()\n",
        "    guess_index = sample_outputs(output, temperature)\n",
        "    guess_char = all_characters[guess_index]\n",
        "    prediction += guess_char\n",
        "    last_char = char_tensor(guess_char)\n",
        "\n",
        "  return prediction\n"
      ]
    },
    {
      "cell_type": "markdown",
      "metadata": {
        "id": "Du4AGA8PcFEW"
      },
      "source": [
        "---\n",
        "\n",
        "## Part 4: (Create a GRU cell, requirements above)\n",
        "\n",
        "---\n"
      ]
    },
    {
      "cell_type": "markdown",
      "metadata": {
        "id": "GFS2bpHSZEU6"
      },
      "source": [
        "\n",
        "---\n",
        "\n",
        "## Part 5: Run it and generate some text!\n",
        "\n",
        "---\n",
        "\n",
        "\n",
        "**TODO:**\n",
        "* Create some cool output\n",
        "\n",
        "**DONE:**\n",
        "\n",
        "\n",
        "\n",
        "\n",
        "Assuming everything has gone well, you should be able to run the main function in the scaffold code, using either your custom GRU cell or the built in layer, and see output something like this. I trained on the “lotr.txt” dataset, using chunk_length=200, hidden_size=100 for 2000 epochs. These are the results, along with the prime string:\n",
        "\n",
        "---\n",
        "\n",
        " G:\n",
        "\n",
        " Gandalf was decrond.\n",
        "'All have lord you. Forward the road at least walk this is stuff, and\n",
        "went to the long grey housel-winding and kindled side was a sleep pleasuring, I do long\n",
        "row hrough. In  \n",
        "\n",
        " lo:\n",
        "\n",
        " lost death it.\n",
        "'The last of the gatherings and take you,' said Aragorn, shining out of the Gate.\n",
        "'Yes, as you there were remembaused to seen their pass, when? What\n",
        "said here, such seven an the sear\n",
        "\n",
        " lo:\n",
        "\n",
        " low, and frod to keepn\n",
        "Came of their most. But here priced doubtless to an Sam up is\n",
        "masters; he left hor as they are looked. And he could now the long to stout in the right fro horseless of\n",
        "the like\n",
        "\n",
        " I:\n",
        "\n",
        " I had been the\n",
        "in his eyes with the perushed to lest, if then only the ring and the legended\n",
        "of the less of the long they which as the\n",
        "enders of Orcovered and smood, and the p\n",
        "\n",
        " I:\n",
        "\n",
        " I they were not the lord of the hoomes.\n",
        "Home already well from the Elves. And he sat strength, and we\n",
        "housed out of the good of the days to the mountains from his perith.\n",
        "\n",
        "'Yess! Where though as if  \n",
        "\n",
        " Th:\n",
        "\n",
        " There yarden\n",
        "you would guard the hoor might. Far and then may was\n",
        "croties, too began to see the drumbred many line\n",
        "and was then hoard walk and they heart, and the chair of the\n",
        "Ents of way, might was\n",
        "\n",
        " G:\n",
        "\n",
        " Gandalf\n",
        "been lat of less the round of the stump; both and seemed to the trees and perished they\n",
        "lay are speered the less; and the wind the steep and have to she\n",
        "precious. There was in the oonly went\n",
        "\n",
        " wh:\n",
        "\n",
        " which went out of the door.\n",
        "Hull the King and of the The days of his brodo\n",
        "stumbler of the windard was a thing there, then it been shining langing\n",
        "to him poor land. They hands; though they seemed ou\n",
        "\n",
        " ra:\n",
        "\n",
        " rather,' have all the least deather\n",
        "down of the truven beginning to the house of sunk.\n",
        "'Nark shorts of the Eyes of the Gate your great nothing as Eret.\n",
        "'I wander trust horn, and there were not, it  \n",
        "\n",
        " I:\n",
        "\n",
        " I can have no mind\n",
        "together! Where don't may had one may little blung\n",
        "terrible to tales. And turn and Gandalf shall be not to as only the Cattring\n",
        "not stopped great the out them forms. On they she lo\n",
        "\n",
        "---\n"
      ]
    },
    {
      "cell_type": "code",
      "execution_count": 10,
      "metadata": {
        "id": "-nXFeCmdKodw"
      },
      "outputs": [],
      "source": [
        "import time\n",
        "n_epochs = 5000\n",
        "print_every = 200\n",
        "plot_every = 10\n",
        "hidden_size = 200\n",
        "n_layers = 3\n",
        "lr = 0.001\n",
        "\n",
        "decoder = RNN(n_characters, hidden_size, n_characters, n_layers)\n",
        "decoder_optimizer = torch.optim.Adam(decoder.parameters(), lr=lr)\n",
        "criterion = nn.CrossEntropyLoss()\n",
        "\n",
        "start = time.time()\n",
        "all_losses = []\n",
        "loss_avg = 0"
      ]
    },
    {
      "cell_type": "code",
      "execution_count": 50,
      "metadata": {
        "id": "xKfozqw-6eqb",
        "colab": {
          "base_uri": "https://localhost:8080/"
        },
        "outputId": "5772b6e0-31d8-4a51-ec74-c74a07375599"
      },
      "outputs": [
        {
          "output_type": "stream",
          "name": "stdout",
          "text": [
            "[207.29930067062378 (200 4%) 2.2966]\n",
            "When \n",
            "\n",
            "\n",
            "\n",
            "searning, bout ting the <en yhere in the lododo kad the uld ^yinged his cour or Enen thas is  \n",
            "\n",
            "[399.5454692840576 (400 8%) 2.1507]\n",
            "WhBut in to tragornen the towef to \n",
            "shader slee, was ^rehingf greass to sook, bouting and [uldore toor \n",
            "\n",
            "[587.0133767127991 (600 12%) 2.0719]\n",
            "Whing the meen belomed eiles that stran well a geer hell stiriders was gould the feor shald ead, and t \n",
            "\n",
            "[773.4286243915558 (800 16%) 1.8086]\n",
            "Whould shough \n",
            "\n",
            "will that will day he he \n",
            "celes of thing of the \n",
            "came of the Sam \n",
            "and for they wider,  \n",
            "\n",
            "[959.9287269115448 (1000 20%) 1.7034]\n",
            "Wher of horsed becig, was and go in the prose of from watering any from not had not any from the like  \n",
            "\n",
            "[1147.2662534713745 (1200 24%) 1.8206]\n",
            "Whing \n",
            "ip the West that the found of this him some the. 'We had mower lost a great and the roughed awa \n",
            "\n",
            "[1333.5690195560455 (1400 28%) 1.4830]\n",
            "Whing in the Breather treent was gaht in mears with a cruch slees \n",
            "read to mfunting and all the Himbal \n",
            "\n",
            "[1519.9857277870178 (1600 32%) 1.8696]\n",
            "Whoolss \n",
            "so collues of the wide that all hop. \n",
            "\n",
            "'And beforess trust it all that spleng growing \n",
            "\n",
            "\n",
            "\n",
            "\n",
            "\n",
            "A \n",
            "\n",
            "[1707.7330739498138 (1800 36%) 1.8775]\n",
            "Whe in of many \n",
            "\n",
            "no bit tell a foremy \n",
            "here life the much \n",
            "cosses and firrom not up a chine, stood. He \n",
            "\n",
            "[1890.6611495018005 (2000 40%) 1.6628]\n",
            "Wherets of the |arrain, and they cimly and stander, and sike \n",
            "of the Horging or a get of a less side f \n",
            "\n",
            "[2074.1657485961914 (2200 44%) 1.7295]\n",
            "Whid ~echioured back shall of him out days to your may reckelishing hamn \n",
            "of the eplessed steply of th \n",
            "\n",
            "[2257.1624636650085 (2400 48%) 1.6300]\n",
            "Wher seept his where you don he he cart there as these was den heart \n",
            "closes back parcter roob %ound a \n",
            "\n",
            "[2439.6850864887238 (2600 52%) 2.0509]\n",
            "Whor of Shire, the long to be \n",
            "and think, and their forch, my \n",
            "forches of til < comes and said. ' \n",
            "\n",
            "'T \n",
            "\n",
            "[2622.6720283031464 (2800 56%) 1.5344]\n",
            "Whe did not rement and deep speen afe, at the for deced from a dreat \n",
            "abdember for my beepincle thrank \n",
            "\n",
            "[2806.2273547649384 (3000 60%) 1.6186]\n",
            "Whered down while be and in \n",
            "the road all and lied these well in any lile, that now he come them and t \n",
            "\n",
            "[2990.7059020996094 (3200 64%) 1.7379]\n",
            "Whill men of even us, and they have our mave \n",
            "ap hon,  \n",
            "\n",
            "[3174.3933675289154 (3400 68%) 1.5224]\n",
            "Whom \n",
            "then he caveries Ceathers of the sught to the Dark \n",
            "lang of \n",
            "\n",
            "\n",
            "\n",
            "\n",
            "\n",
            "\n",
            "the Forless some stay from he \n",
            "\n",
            "[3356.988961458206 (3600 72%) 1.5517]\n",
            "Whe great and reath, and the change looked and might stood upon her hold \n",
            "tood more that xeen there sm \n",
            "\n",
            "[3541.214252471924 (3800 76%) 1.5379]\n",
            "What I was \n",
            "at us that they had felt about between and with a wing over the road. I would not wide own \n",
            "\n",
            "[3724.6134033203125 (4000 80%) 1.4705]\n",
            "Whe him \n",
            "don't \n",
            "have knew burdelong had came to the bring could light in the pleas broke that was \n",
            "thi \n",
            "\n",
            "[3907.7011535167694 (4200 84%) 1.5234]\n",
            "What was rest, \n",
            "son of the sight a fear shall been of the gone of the sear; and say in the forest of \n",
            " \n",
            "\n",
            "[4090.46736741066 (4400 88%) 1.4367]\n",
            "What dry her in the dark a placciop a ground where three face what me of a law them marchs of \n",
            "the red \n",
            "\n",
            "[4272.777971982956 (4600 92%) 1.3406]\n",
            "Where, and that fear been thought of behind Sam. \n",
            "\n",
            "'Elves and beer both well, as you passone away bloh \n",
            "\n",
            "[4455.728735923767 (4800 96%) 1.4982]\n",
            "White little the stone fall, no the water son the rainst of the first before it friendly and the rind. \n",
            "\n",
            "[4638.4134929180145 (5000 100%) 1.6786]\n",
            "What one the great gave the dark for the straif the ert runded for a lord the treling to did a hirried \n",
            "\n"
          ]
        }
      ],
      "source": [
        "# n_epochs = 2000\n",
        "for epoch in range(1, n_epochs + 1):\n",
        "  loss_ = train(*random_training_set())\n",
        "  loss_avg += loss_\n",
        "\n",
        "  if epoch % print_every == 0:\n",
        "      print('[%s (%d %d%%) %.4f]' % (time.time() - start, epoch, epoch / n_epochs * 100, loss_))\n",
        "      print(evaluate('Wh', 100), '\\n')\n",
        "\n",
        "  if epoch % plot_every == 0:\n",
        "      all_losses.append(loss_avg / plot_every)\n",
        "      loss_avg = 0"
      ]
    },
    {
      "cell_type": "code",
      "source": [
        "import matplotlib.pyplot as plt\n",
        "\n",
        "plt.figure(1)\n",
        "plt.plot(range(len(all_losses)), all_losses, label='loss')\n",
        "plt.xlabel('Epoch / {}'.format(plot_every))\n",
        "_ = plt.ylabel('Loss')"
      ],
      "metadata": {
        "colab": {
          "base_uri": "https://localhost:8080/",
          "height": 449
        },
        "id": "kv3OdnIzrpqe",
        "outputId": "3d91a2d5-9bf7-4f29-bece-1f72fffd05a1"
      },
      "execution_count": 51,
      "outputs": [
        {
          "output_type": "display_data",
          "data": {
            "text/plain": [
              "<Figure size 640x480 with 1 Axes>"
            ],
            "image/png": "[encoded data removed]"
          },
          "metadata": {}
        }
      ]
    },
    {
      "cell_type": "code",
      "execution_count": 52,
      "metadata": {
        "id": "Ee0so6aKJ5L8",
        "colab": {
          "base_uri": "https://localhost:8080/"
        },
        "outputId": "4fe999e5-e350-4d27-c123-8a18fd183a75"
      },
      "outputs": [
        {
          "output_type": "stream",
          "name": "stdout",
          "text": [
            " Th\n",
            " Then he was now,' said \n",
            "the great he doin the let the feet was that the king the returned and the fell not kind alone of the great leave a returned to the brown hour old. \n",
            "\n",
            "'I don't not warry again down \n",
            "\n",
            " ra\n",
            " rached again to fell the dark not seen \n",
            "the great relens. \n",
            "\n",
            "As there was now suddenly them lordor the poor down to doppened before, the two kning against for are rest and \n",
            "dead to goldened. \n",
            "\n",
            "'Well was  \n",
            "\n",
            " lo\n",
            " loked it soon, and the wind after the door, he was a while at he drink to some the dark in the great \n",
            "upon the Come and lead at one \n",
            "there was sudden to the mountains, the old his fell the valley in the \n",
            "\n",
            " lo\n",
            " loked in the Dood all the lain green started that we looked here the stready of the same of the dark \n",
            "but the mountains, and the great few all the fell the \n",
            "\n",
            "great feeled and stood to do not to the land \n",
            "\n",
            " Th\n",
            " The soon to his returned all rest of the looked the doorth the dark so the sun heard of the ground and speed. He things in the mountain for the dread the door, and they was a drate did not know. Do clea \n",
            "\n",
            " he\n",
            " her laid to the \n",
            "mourter. \n",
            "\n",
            "'There all me laughed the door the \n",
            "dark from the sun he are drash for \n",
            "he seen in the last \n",
            "before the dark to be course the door \n",
            "the looked the doors for the fell his answ \n",
            "\n",
            " G\n",
            " Gimli. \n",
            "\n",
            "'I don't long far and he don't the through he that was \n",
            "the last far before are the course, the \n",
            "went he last was him he thought then he going to going the far falled in all the leaded the fin \n",
            "\n",
            " he\n",
            " hened down to the door; and the door in the looking on the \n",
            "mountainas the door and sound to fell the light a line of the great leat he doomper the leader of the mountain stood there was not the thought \n",
            "\n",
            " he\n",
            " hen all the deep the red \n",
            "the came dreadorther that the dunder the dark to door that the door the mind the gaten stars of the dead and \n",
            "make. \n",
            "\n",
            "'It was were do not known, \n",
            "a song the wailing all the doo \n",
            "\n",
            " lo\n",
            " loked the Blaughed at the land to know the lord to water. \n",
            "\n",
            "'Where down he took to going to be good words the door had been all the door for the king to the lars. \n",
            "\n",
            "There we do not know before the broug \n",
            "\n"
          ]
        }
      ],
      "source": [
        "for i in range(10):\n",
        "  start_strings = [\" Th\", \" wh\", \" he\", \" I \", \" ca\", \" G\", \" lo\", \" ra\"]\n",
        "  start = random.randint(0,len(start_strings)-1)\n",
        "  print(start_strings[start])\n",
        "  print(evaluate(start_strings[start], 200, temperature=0.57), '\\n')"
      ]
    },
    {
      "cell_type": "markdown",
      "metadata": {
        "id": "YJhgDc2IauPE"
      },
      "source": [
        "---\n",
        "\n",
        "## Part 6: Generate output on a different dataset\n",
        "\n",
        "---\n",
        "\n",
        "**TODO:**\n",
        "\n",
        "* Choose a textual dataset. Here are some [text datasets](https://www.kaggle.com/datasets?tags=14104-text+data%2C13205-text+mining) from Kaggle\n",
        "\n",
        "* Generate some decent looking results and evaluate your model's performance (say what it did well / not so well)\n",
        "\n",
        "**DONE:**\n",
        "\n"
      ]
    },
    {
      "cell_type": "code",
      "source": [
        "file = unidecode.unidecode(open('Clean-Kanye.txt').read())\n",
        "file_len = len(file)\n",
        "\n",
        "decoder = RNN(n_characters, hidden_size, n_characters, n_layers)\n",
        "decoder_optimizer = torch.optim.Adam(decoder.parameters(), lr=lr)\n",
        "criterion = nn.CrossEntropyLoss()\n",
        "\n",
        "start = time.time()\n",
        "all_losses = []\n",
        "loss_avg = 0"
      ],
      "metadata": {
        "id": "f69A6H5AJ_Le"
      },
      "execution_count": 18,
      "outputs": []
    },
    {
      "cell_type": "code",
      "source": [
        "for epoch in range(n_epochs):\n",
        "  loss_ = train(*random_training_set())\n",
        "  loss_avg += loss_\n",
        "\n",
        "  if epoch % print_every == 0:\n",
        "    print('[%s (%d %d%%) %.4f]' % (time.time() - start, epoch, epoch / n_epochs * 100, loss_))\n",
        "    print(evaluate('Wh', predict_len=100, temperature=0.6), '\\n')\n",
        "\n",
        "  if epoch % plot_every == 0:\n",
        "    all_losses.append(loss_avg / plot_every)\n",
        "    loss_avg = 0"
      ],
      "metadata": {
        "colab": {
          "base_uri": "https://localhost:8080/"
        },
        "id": "1o79kB4Iq-ql",
        "outputId": "cdbb7f48-c6fe-4713-8a57-18838978c944"
      },
      "execution_count": 19,
      "outputs": [
        {
          "output_type": "stream",
          "name": "stdout",
          "text": [
            "[4.509296178817749 (0 0%) 4.6110]\n",
            "Wh,d'a/\rL6.PO`6F?`\n",
            "#e5!9jtZ4<g(ye\n",
            "\u000be#D\"V}p\"y5;5#z#Fj3H_5MuCl\\2-b<`6wd+x3+x[g$~1P ]kHii#*\"77Jp&1y+~4<f_ \n",
            "\n",
            "[196.44816184043884 (200 4%) 2.6089]\n",
            "Wh the thin the loul the =hfate das, that dow\n",
            "I lore that my sore don't the light the so the sto know\n",
            " \n",
            "\n",
            "[391.65098667144775 (400 8%) 2.3370]\n",
            "What say see my that mand you netss all ally =ally my was tallin' louflealler to light\n",
            "I wallin' I lig \n",
            "\n",
            "[588.3996150493622 (600 12%) 2.1760]\n",
            "Whe hown\n",
            "|he don't and the don't need all my shough, harle, I'm from a leand it I get the stark, I gos \n",
            "\n",
            "[782.4507396221161 (800 16%) 2.0972]\n",
            "Whad it a frith you all sulled\n",
            "That you low\n",
            "All a we like to the same all the you freathing a now my r \n",
            "\n",
            "[977.0800030231476 (1000 20%) 1.8161]\n",
            "What mied my can't stuff\n",
            "She beat y'all say the get me walk\n",
            "So study no my nened like X: Kanye West]\n",
            "B \n",
            "\n",
            "[1171.0891151428223 (1200 24%) 2.1442]\n",
            "Where mochadin' the to the tood the could could him\n",
            "The don't was I was the still and the grould so th \n",
            "\n",
            "[1371.3846809864044 (1400 28%) 1.6868]\n",
            "Where the forever on on the shool\n",
            "\n",
            "\n",
            "[Intro]\n",
            "I could say X'm as sunning on you wanna feel like that the \n",
            "\n",
            "[1569.5148890018463 (1600 32%) 2.2040]\n",
            "Where the one one the had these these through\n",
            "It's see me not resell to call then you something and ca \n",
            "\n",
            "[1765.279742717743 (1800 36%) 1.7902]\n",
            "Whe uh\n",
            "She say then I'm the high there the muthin' it stoo\n",
            "So there them stuff the stoick the come thi \n",
            "\n",
            "[1959.8607964515686 (2000 40%) 2.1870]\n",
            "Where of your your asking\n",
            "There that you got the night now I tong for on the saving and I gusure\n",
            "I go  \n",
            "\n",
            "[2152.855677843094 (2200 44%) 1.9399]\n",
            "Whers\n",
            "Then I would out on the stronger\n",
            "I don't me on the chrasss\n",
            "Stever, ohh, oh, oh, ohh, ohhh\n",
            "I'm bu \n",
            "\n",
            "[2347.923664331436 (2400 48%) 1.9637]\n",
            "Where stuff and so couldn't don't breathe and brothas is says\n",
            "But I everything it smoke and Chie\n",
            "We ge \n",
            "\n",
            "[2542.699396133423 (2600 52%) 1.8493]\n",
            "When I lights, now we can many on the new me\n",
            "And when the ind the deam\n",
            "Then you the lights, it, now\n",
            "\n",
            "\n",
            " \n",
            "\n",
            "[2736.890219449997 (2800 56%) 1.2752]\n",
            "Wher withat I really we cray of your day\n",
            "And I wanda, I can me no see yound\n",
            "I can steve a death\n",
            "I'm su \n",
            "\n",
            "[2930.248827934265 (3000 60%) 1.5571]\n",
            "Where's u; huh\n",
            "They hand everything and straited in myself\n",
            "They ain't scare ain't gone a in crack the  \n",
            "\n",
            "[3124.964155435562 (3200 64%) 1.8062]\n",
            "Wherse what wanters to side the fore\n",
            "Baby, I told my and sould like to music love\n",
            "So what to true you  \n",
            "\n",
            "[3319.412807703018 (3400 68%) 1.5956]\n",
            "Wher Chris when I'm life my streets\n",
            "I need in my brothas\n",
            "That you got the family, that's a never be a  \n",
            "\n",
            "[3514.322555065155 (3600 72%) 1.6698]\n",
            "Whing harder brothas that / brothas for the best that I'm time\n",
            "I can't get the way the can't know that \n",
            "\n",
            "[3707.981448173523 (3800 76%) 1.9179]\n",
            "Where\n",
            "Can't some give I got the nicked the mostars\n",
            "I'd go a broke I'm need to le all be how I get the  \n",
            "\n",
            "[3902.463894367218 (4000 80%) 1.4801]\n",
            "When with me\n",
            "I'm gonna be a matter what we strate to the sky\n",
            "I'm goin' that mess me, this that to the  \n",
            "\n",
            "[4120.6966733932495 (4200 84%) 1.4165]\n",
            "When the got entimes with to you\n",
            "Tell my soul of the clubboug he sometimes, I told until the getting w \n",
            "\n",
            "[4316.019944667816 (4400 88%) 1.9712]\n",
            "Where they could through the mind\n",
            "One of my money to the everything the ruse\n",
            "And the dessert to the st \n",
            "\n",
            "[4510.791954278946 (4600 92%) 1.5089]\n",
            "Where, at all the your right\n",
            "This is in my life uI need uM.\"\n",
            "\n",
            "\n",
            "[Chorus: Kanye West]\n",
            "Oh, ooh, ooh, ooh\n",
            " \n",
            "\n",
            "[4705.343608856201 (4800 96%) 1.8620]\n",
            "Where you're my same the candre\n",
            "I'm not divided for the church the sky\n",
            "\n",
            "\n",
            "[G1] Neste: Kanye West not go \n",
            "\n"
          ]
        }
      ]
    },
    {
      "cell_type": "code",
      "source": [
        "import matplotlib.pyplot as plt\n",
        "\n",
        "plt.figure(1)\n",
        "plt.plot(range(len(all_losses)), all_losses, label='loss')\n",
        "plt.xlabel('Epoch / {}'.format(plot_every))\n",
        "_ = plt.ylabel('Loss')"
      ],
      "metadata": {
        "colab": {
          "base_uri": "https://localhost:8080/",
          "height": 449
        },
        "id": "b9oyQrEiq0oI",
        "outputId": "71c78351-543c-41bd-a3dd-9aaa8a544a5f"
      },
      "execution_count": 21,
      "outputs": [
        {
          "output_type": "display_data",
          "data": {
            "text/plain": [
              "<Figure size 640x480 with 1 Axes>"
            ],
            "image/png": "[encoded data removed]"
          },
          "metadata": {}
        }
      ]
    },
    {
      "cell_type": "code",
      "source": [
        "for i in range(10):\n",
        "  start_strings = [\" Th\", \" wh\", \" he\", \" An \", \" ca\", \" my\", \" pr\", \" pa\"]\n",
        "  start = random.randint(0,len(start_strings)-1)\n",
        "  print(start_strings[start])\n",
        "  print(evaluate(start_strings[start], 200, temperature=0.58), '\\n')"
      ],
      "metadata": {
        "colab": {
          "base_uri": "https://localhost:8080/"
        },
        "id": "ZMg4Mb1wr4Dj",
        "outputId": "abf26b3e-1b40-4bc5-d0ea-06e2b2c8c4c9"
      },
      "execution_count": 22,
      "outputs": [
        {
          "output_type": "stream",
          "name": "stdout",
          "text": [
            " pa\n",
            " paling it everybody stuff\n",
            "I know I did buy I 1ss see need to stay at the rook\n",
            "Man, I start out thingsed out\n",
            "This things stuff assure a strongert\n",
            "The massion, momments, sould and it school\n",
            "I can see the  \n",
            "\n",
            " he\n",
            " hel with of show of look\n",
            "I'm not much the book at look, stuff a crass\n",
            "The nead the where here me faith The Lord music she got a die like at ya\n",
            "That's she starty and you down\n",
            "We can stoo was lookin' at y \n",
            "\n",
            " An \n",
            " An in Cride\n",
            "One look at ya look at ya\n",
            "Dound at ya, look at you faith like show can\n",
            "No more brother through out to me\n",
            "\n",
            "\n",
            "[Chorus: Kanye West]\n",
            "No more like she look at ya\n",
            "Dout the list is now you who here t \n",
            "\n",
            " Th\n",
            " The Define\n",
            "\n",
            "\n",
            "[Chorus 1]\n",
            "I had the resometime, I was bring\n",
            "There's not right now, freet it with your ass say say have is\n",
            "I love ya look at look at ya\n",
            "Hah-ooh, ooh-ooh-ooh-ooh, oooh-ooh-oooh-ooh-ooh, oooh \n",
            "\n",
            " An \n",
            " An hought the roll of ya\n",
            "I 'em have and that have and some on Lesur\n",
            "\n",
            "\n",
            "[Bridge: Lorly Willies]\n",
            "Ayy, you know what I know when I told her brotha, I still me stuff\n",
            "\n",
            "\n",
            "[Intro]\n",
            "I can stuff and my sere, and you \n",
            "\n",
            " pr\n",
            " pration\n",
            "That's why I look at you see remember\n",
            "The night now you was go go all the flow you wanna see the lights, so I was stuff\n",
            "I start was a mine, I don't let me get it the streets\n",
            "I smile was sold ya  \n",
            "\n",
            " Th\n",
            " The eyes with all ya\n",
            "She all this stuff in the clook ask it\n",
            "The cloud have a news could high off it\n",
            "\n",
            "\n",
            "\n",
            "\n",
            "\n",
            "\n",
            "\n",
            "\n",
            "[Intro: Kanye West]\n",
            "I was brotha, still brothas is need a came\n",
            "But they ain't smoke, reganned  \n",
            "\n",
            " my\n",
            " my scrack\n",
            "I can make it the everything I still seen if ya\n",
            "That's throw you was love like he can soul\n",
            "This drive the heat at ya look at ya\n",
            "When I still been now you can get on still me\n",
            "I was Reely can se \n",
            "\n",
            " Th\n",
            " Th\n",
            "Now I got look at ya lose\n",
            "That's the life another stronger\n",
            "(I need you die he inside\n",
            "\n",
            "\n",
            "[9Chorus: Kanye West]\n",
            "I can she the can, you know\n",
            "I ever let me gonna la lah, last the lease\n",
            "\n",
            "\n",
            "[Chorus: Skay Mos \n",
            "\n",
            " Th\n",
            " The Devere everything we harta\n",
            "One let me now all the emiess was brotha right\n",
            "I'm fast, I always call I ain't all ya\n",
            "Ald its, and I know I was saying I ain't see you lost now\n",
            "\n",
            "\n",
            "\n",
            "\n",
            "\n",
            "\n",
            "[Intro]\n",
            "I see I don't \n",
            "\n"
          ]
        }
      ]
    },
    {
      "cell_type": "markdown",
      "source": [
        "Things the RNN did well:\n",
        "- Outputs real words\n",
        "- Picked up on Names and Titles\n",
        "- Kept with the general style of the writing\n",
        "\n",
        "Things it didn't do so well:\n",
        "- Could not make a coherent sentence\n",
        "- Added random new lines\n",
        "- Weird Grammar sometimes"
      ],
      "metadata": {
        "id": "wBJNjnHTSlDE"
      }
    }
  ],
  "metadata": {
    "colab": {
      "provenance": [],
      "include_colab_link": true
    },
    "kernelspec": {
      "display_name": "Python 3",
      "name": "python3"
    },
    "language_info": {
      "codemirror_mode": {
        "name": "ipython",
        "version": 3
      },
      "file_extension": ".py",
      "mimetype": "text/x-python",
      "name": "python",
      "nbconvert_exporter": "python",
      "pygments_lexer": "ipython3",
      "version": "3.7.1"
    },
    "pycharm": {
      "stem_cell": {
        "cell_type": "raw",
        "metadata": {
          "collapsed": false
        },
        "source": []
      }
    }
  },
  "nbformat": 4,
  "nbformat_minor": 0
}